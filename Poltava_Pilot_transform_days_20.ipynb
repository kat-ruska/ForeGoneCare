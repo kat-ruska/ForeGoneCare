{
 "cells": [
  {
   "cell_type": "code",
   "execution_count": 2,
   "metadata": {},
   "outputs": [],
   "source": [
    "import pandas as pd\n"
   ]
  },
  {
   "cell_type": "code",
   "execution_count": 37,
   "metadata": {},
   "outputs": [],
   "source": [
    "poltava20 = pd.read_excel(\"../data/Poltava_Pilot_20.xlsx\", sheet_name = \"2020en\", index_col = None)"
   ]
  },
  {
   "cell_type": "code",
   "execution_count": 4,
   "metadata": {},
   "outputs": [
    {
     "data": {
      "text/plain": [
       "(269706, 22)"
      ]
     },
     "execution_count": 4,
     "metadata": {},
     "output_type": "execute_result"
    }
   ],
   "source": [
    "poltava19.shape"
   ]
  },
  {
   "cell_type": "code",
   "execution_count": 38,
   "metadata": {},
   "outputs": [
    {
     "data": {
      "text/plain": [
       "(63644, 22)"
      ]
     },
     "execution_count": 38,
     "metadata": {},
     "output_type": "execute_result"
    }
   ],
   "source": [
    "poltava20.shape"
   ]
  },
  {
   "cell_type": "code",
   "execution_count": 6,
   "metadata": {},
   "outputs": [
    {
     "data": {
      "text/plain": [
       "['Hospital',\n",
       " 'ЄДРПОУ',\n",
       " 'код запису',\n",
       " 'дата введення форми 066/o в систему',\n",
       " 'id',\n",
       " 'gender',\n",
       " 'birth date',\n",
       " 'age in days',\n",
       " 'hospitalization date',\n",
       " 'discharge date',\n",
       " 'main diagnosis',\n",
       " 'concomitant diagnosis 1',\n",
       " 'concomitant diagnosis 2',\n",
       " 'concomitant diagnosis 3',\n",
       " 'concomitant diagnosis 4',\n",
       " 'concomitant diagnosis 5',\n",
       " 'manipulation code 1',\n",
       " 'manipulation code 2',\n",
       " 'manipulation code 3',\n",
       " 'manipulation code 4',\n",
       " 'manipulation code 5',\n",
       " 'result']"
      ]
     },
     "execution_count": 6,
     "metadata": {},
     "output_type": "execute_result"
    }
   ],
   "source": [
    "names_list = poltava20.columns.values.tolist()\n",
    "names_list"
   ]
  },
  {
   "cell_type": "code",
   "execution_count": null,
   "metadata": {},
   "outputs": [],
   "source": [
    "#df['range'] = df['range'].str.replace(',','-')\n",
    "#poltava20['дата введення форми 066/o в систему'] = poltava20['дата введення форми 066/o в систему'].str.replace('2020','20')"
   ]
  },
  {
   "cell_type": "code",
   "execution_count": 39,
   "metadata": {},
   "outputs": [
    {
     "name": "stdout",
     "output_type": "stream",
     "text": [
      "1900-01-01 00:00:00\n",
      "2020-12-03 00:00:00\n"
     ]
    }
   ],
   "source": [
    "poltava20['дата введення форми 066/o в систему'] = pd.to_datetime(poltava20['дата введення форми 066/o в систему'])\n",
    "#poltavaDateNAT = poltava20_test[poltava20_test['дата введення форми 066/o в систему'].isna()]\n",
    "print(poltava20['дата введення форми 066/o в систему'].min())\n",
    "print(poltava20['дата введення форми 066/o в систему'].max())\n"
   ]
  },
  {
   "cell_type": "code",
   "execution_count": 40,
   "metadata": {},
   "outputs": [],
   "source": [
    "poltava20['hospitalization date'] = pd.to_datetime(poltava20['hospitalization date'])\n",
    "poltava20['discharge date'] = pd.to_datetime(poltava20['discharge date'])"
   ]
  },
  {
   "cell_type": "code",
   "execution_count": 41,
   "metadata": {},
   "outputs": [
    {
     "name": "stdout",
     "output_type": "stream",
     "text": [
      "1956-03-26 00:00:00\n",
      "2020-10-10 00:00:00\n",
      "2020-01-01 00:00:00\n",
      "2020-07-07 00:00:00\n"
     ]
    }
   ],
   "source": [
    "print(poltava20['hospitalization date'].min())\n",
    "print(poltava20['hospitalization date'].max())\n",
    "print(poltava20['discharge date'].min())\n",
    "print(poltava20['discharge date'].max())"
   ]
  },
  {
   "cell_type": "code",
   "execution_count": 43,
   "metadata": {},
   "outputs": [
    {
     "name": "stdout",
     "output_type": "stream",
     "text": [
      "                                                Hospital   ЄДРПОУ  \\\n",
      "24087  КП \"2-А МІСЬКА КЛІНІЧНА ЛІКАРНЯ ПОЛТАВСЬКОЇ МІ...  1999721   \n",
      "24094  КП \"2-А МІСЬКА КЛІНІЧНА ЛІКАРНЯ ПОЛТАВСЬКОЇ МІ...  1999721   \n",
      "24107  КП \"2-А МІСЬКА КЛІНІЧНА ЛІКАРНЯ ПОЛТАВСЬКОЇ МІ...  1999721   \n",
      "58414  КП \"1-А МІСЬКА КЛІНІЧНА ЛІКАРНЯ ПОЛТАВСЬКОЇ МІ...  1999655   \n",
      "58415  КП \"1-А МІСЬКА КЛІНІЧНА ЛІКАРНЯ ПОЛТАВСЬКОЇ МІ...  1999655   \n",
      "...                                                  ...      ...   \n",
      "63153  КП \"МІСЬКИЙ КЛІНІЧНИЙ ПОЛОГОВИЙ БУДИНОК ПОЛТАВ...  1999690   \n",
      "63311  КНП \"ГРЕБІНКІВСЬКА ЦЕНТРАЛЬНА РАЙОННА ЛІКАРНЯ ...  1999253   \n",
      "63312  КНП \"ГРЕБІНКІВСЬКА ЦЕНТРАЛЬНА РАЙОННА ЛІКАРНЯ ...  1999253   \n",
      "63313  КНП \"ГРЕБІНКІВСЬКА ЦЕНТРАЛЬНА РАЙОННА ЛІКАРНЯ ...  1999253   \n",
      "63611  КНП \"КАРЛІВСЬКА ЦЕНТРАЛЬНА РАЙОННА ЛІКАРНЯ ІМ....  1999299   \n",
      "\n",
      "                                   код запису  \\\n",
      "24087                                     107   \n",
      "24094                                     114   \n",
      "24107                                     127   \n",
      "58414  {225BC1FB-7653-4C82-8B76-F964F3200BA3}   \n",
      "58415  {9B499981-C374-4F2F-A74D-BA0FEB1B46E2}   \n",
      "...                                       ...   \n",
      "63153  {1DF94B9F-320B-4CC1-9DB9-FA3C91674D24}   \n",
      "63311                                      57   \n",
      "63312                                      58   \n",
      "63313                                      59   \n",
      "63611  {E41C642E-AE36-4C94-A593-084722EA7A19}   \n",
      "\n",
      "      дата введення форми 066/o в систему        id  gender  \\\n",
      "24087                          2020-02-10       871     2.0   \n",
      "24094                          2020-02-10       757     1.0   \n",
      "24107                          2020-02-10       911     2.0   \n",
      "58414                          2020-03-22      2157     1.0   \n",
      "58415                          2020-03-22      2162     2.0   \n",
      "...                                   ...       ...     ...   \n",
      "63153                          2020-03-20  Дит-458д     2.0   \n",
      "63311                          2020-03-23   862/290     1.0   \n",
      "63312                          2020-03-23   864/292     2.0   \n",
      "63313                          2020-03-23   865/291     2.0   \n",
      "63611                          2020-03-24       143     2.0   \n",
      "\n",
      "                birth date  age in days hospitalization date discharge date  \\\n",
      "24087  1968-03-16 00:00:00         51.0           2020-01-31     2020-05-05   \n",
      "24094  1954-01-07 00:00:00         65.0           2020-01-27     2020-05-05   \n",
      "24107  1994-11-23 00:00:00         25.0           2020-02-03     2020-07-07   \n",
      "58414  1981-05-07 00:00:00      14198.0           2020-03-21     2020-03-22   \n",
      "58415  1969-09-22 00:00:00      18444.0           2020-03-22     2020-03-22   \n",
      "...                    ...          ...                  ...            ...   \n",
      "63153  2020-03-19 00:00:00          0.0           2020-03-19     2020-03-22   \n",
      "63311  1967-04-06 00:00:00      19335.0           2020-03-13     2020-03-22   \n",
      "63312  1954-09-23 00:00:00      23913.0           2020-03-13     2020-03-22   \n",
      "63313  1966-04-14 00:00:00      19692.0           2020-03-13     2020-03-22   \n",
      "63611  2013-10-24 00:00:00       2340.0           2020-03-21     2020-03-22   \n",
      "\n",
      "       ... concomitant diagnosis 2 concomitant diagnosis 3  \\\n",
      "24087  ...                     NaN                     NaN   \n",
      "24094  ...                     NaN                     NaN   \n",
      "24107  ...                   H68.0                   J35.2   \n",
      "58414  ...                     NaN                     NaN   \n",
      "58415  ...                     NaN                     NaN   \n",
      "...    ...                     ...                     ...   \n",
      "63153  ...                     NaN                     NaN   \n",
      "63311  ...                     NaN                     NaN   \n",
      "63312  ...                   I67.4                     NaN   \n",
      "63313  ...                     NaN                     NaN   \n",
      "63611  ...                     NaN                     NaN   \n",
      "\n",
      "      concomitant diagnosis 4 concomitant diagnosis 5 manipulation code 1  \\\n",
      "24087                     NaN                     NaN                 NaN   \n",
      "24094                     NaN                     NaN             BBD7.16   \n",
      "24107                     NaN                     NaN                 NaN   \n",
      "58414                     NaN                     NaN                 NaN   \n",
      "58415                     NaN                     NaN                 NaN   \n",
      "...                       ...                     ...                 ...   \n",
      "63153                     NaN                     NaN                 NaN   \n",
      "63311                     NaN                     NaN                 NaN   \n",
      "63312                     NaN                     NaN                 NaN   \n",
      "63313                     NaN                     NaN                 NaN   \n",
      "63611                     NaN                     NaN                 NaN   \n",
      "\n",
      "      manipulation code 2 manipulation code 3 manipulation code 4  \\\n",
      "24087                 NaN                 NaN                 NaN   \n",
      "24094                 NaN                 NaN                 NaN   \n",
      "24107                 NaN                 NaN                 NaN   \n",
      "58414                 NaN                 NaN                 NaN   \n",
      "58415                 NaN                 NaN                 NaN   \n",
      "...                   ...                 ...                 ...   \n",
      "63153                 NaN                 NaN                 NaN   \n",
      "63311                 NaN                 NaN                 NaN   \n",
      "63312                 NaN                 NaN                 NaN   \n",
      "63313                 NaN                 NaN                 NaN   \n",
      "63611                 NaN                 NaN                 NaN   \n",
      "\n",
      "      manipulation code 5 result  \n",
      "24087                 NaN    0.0  \n",
      "24094                 NaN    0.0  \n",
      "24107                 NaN    0.0  \n",
      "58414                 NaN    0.0  \n",
      "58415                 NaN    0.0  \n",
      "...                   ...    ...  \n",
      "63153                 NaN    0.0  \n",
      "63311                 NaN    0.0  \n",
      "63312                 NaN    0.0  \n",
      "63313                 NaN    0.0  \n",
      "63611                 NaN    0.0  \n",
      "\n",
      "[119 rows x 22 columns]\n"
     ]
    }
   ],
   "source": [
    "print(poltava20[poltava20['discharge date'] > '2020-3-21'])"
   ]
  },
  {
   "cell_type": "code",
   "execution_count": 36,
   "metadata": {},
   "outputs": [
    {
     "name": "stdout",
     "output_type": "stream",
     "text": [
      "                                                Hospital   ЄДРПОУ код запису  \\\n",
      "24326  КНП \"ЧОРНУХИНСЬКА РАЙОННА ЛІКАРНЯ\" ЧОРНУХИНСЬК...  1999520         24   \n",
      "\n",
      "      дата введення форми 066/o в систему   id  gender           birth date  \\\n",
      "24326                          2020-02-07  145     2.0  1989-07-05 00:00:00   \n",
      "\n",
      "       age in days hospitalization date discharge date  ...  \\\n",
      "24326         30.0           2020-01-29     2010-02-07  ...   \n",
      "\n",
      "      concomitant diagnosis 2 concomitant diagnosis 3 concomitant diagnosis 4  \\\n",
      "24326                   I42.8                   I50.9                     NaN   \n",
      "\n",
      "      concomitant diagnosis 5 manipulation code 1 manipulation code 2  \\\n",
      "24326                     NaN                 NaN                 NaN   \n",
      "\n",
      "      manipulation code 3 manipulation code 4 manipulation code 5 result  \n",
      "24326                 NaN                 NaN                 NaN    0.0  \n",
      "\n",
      "[1 rows x 22 columns]\n"
     ]
    }
   ],
   "source": [
    "print(poltava20[poltava20['discharge date'] < '2020-1-1'])"
   ]
  },
  {
   "cell_type": "code",
   "execution_count": null,
   "metadata": {},
   "outputs": [],
   "source": [
    "print()"
   ]
  },
  {
   "cell_type": "code",
   "execution_count": 44,
   "metadata": {},
   "outputs": [],
   "source": [
    "import string\n",
    "import re\n",
    "def get_first_symbol(str):\n",
    "    for char in str:\n",
    "        #if (char in string.ascii_letters) or (char is char.isalpha()):\n",
    "        #if (bool(re.match('[а-яА-Я]', str))) or (char is char.isalpha()):\n",
    "        if char not in [\"'\", '\"', \"-\"]:\n",
    "            return char"
   ]
  },
  {
   "cell_type": "code",
   "execution_count": 45,
   "metadata": {},
   "outputs": [],
   "source": [
    "def get_first_letters(string):\n",
    "    string = string.replace('\"', '')\n",
    "    list_of_strings = string.split()\n",
    "    s = \"\"\n",
    "    for n in range(1, len(list_of_strings)):\n",
    "        \n",
    "        s = s + get_first_symbol(list_of_strings[n])\n",
    "    return list_of_strings[0] + \"_\" + s"
   ]
  },
  {
   "cell_type": "code",
   "execution_count": 46,
   "metadata": {},
   "outputs": [],
   "source": [
    "poltava20['HospitalAbb'] = poltava20['Hospital'].apply(get_first_letters)"
   ]
  },
  {
   "cell_type": "code",
   "execution_count": 47,
   "metadata": {},
   "outputs": [
    {
     "name": "stdout",
     "output_type": "stream",
     "text": [
      "['КНМП_КМДЛ' 'КП_ДМКЛПМР' 'КП_МКПБПМР' 'КНМП_ЛВЛ'\n",
      " 'КП_ОКЛВЛТДЗОЦПСТРЛМГПОР' 'КП_1МКЛПМР' 'КП_2МКЛПМР' 'КП_3МКЛПМР'\n",
      " 'КП_4МКЛПМР' 'КП_5МКЛПМР' 'КНП_ЛІЛІРМГПГМРПО' 'КМП_ЛП' 'КНМП_КПМЛІ'\n",
      " 'КНМП_КМЛП' 'КНМП_ЛІЛК' 'КП_ПОДКЛПОР' 'КП_ПОКІЛПОР' 'КП_КОНДПОР'\n",
      " 'КП_ЛОНДПОР' 'КП_ПОНДПОР' 'КП_ПОКШДПОР' 'КП_ПОКЛІМПОР' 'КНМП_КПЦІР'\n",
      " 'КП_ЛЛІЛЛМР' 'КНП_ВЦРЛВРРПО' 'КНП_ГЦРЛГРР' 'КНМП_ГЦРЛГРРПО'\n",
      " 'КНП_ГЦРЛГРРПО' 'КНП_ДЛПЛДРР' 'КНП_ЗЦРЛЗРРПО' 'КНП_КЦРЛІР'\n",
      " 'КНП_КЦРЛКРРПО' 'КНП_КЦРЛКРР' 'КНП_КРРКЦРЛ' 'КНП_ЛРЛЛРР' 'КНП_МЦРЛМРРПО'\n",
      " 'КНП_МЦРЛМРР' 'КНП_НЦРЛНРРПО' 'КНП_ОЦРЛОРРПО' 'КП_ПЦРЛПРР' 'КНП_ПЦРКЛПРР'\n",
      " 'КНП_РЦРЛРРРПО' 'КП_СЦРЛСРР' 'КНП_ХЦРЛХРРПО' 'КНП_ЧРЛЧРРПО' 'КНП_ЧЦРЛ'\n",
      " 'КНП_ШЦРЛШРРПО']\n"
     ]
    }
   ],
   "source": [
    "print(poltava20['HospitalAbb'].unique())"
   ]
  },
  {
   "cell_type": "code",
   "execution_count": 52,
   "metadata": {},
   "outputs": [],
   "source": [
    "poltava20[\"id\"] = poltava20[\"id\"].astype(str)"
   ]
  },
  {
   "cell_type": "code",
   "execution_count": 53,
   "metadata": {},
   "outputs": [],
   "source": [
    "poltava20['hospital_id'] = poltava20[\"id\"] + \"_\" + poltava20[\"HospitalAbb\"]\n"
   ]
  },
  {
   "cell_type": "code",
   "execution_count": 54,
   "metadata": {},
   "outputs": [],
   "source": [
    "poltava20 = poltava20.rename(columns={'код запису':'code_of_entry'})"
   ]
  },
  {
   "cell_type": "code",
   "execution_count": 55,
   "metadata": {},
   "outputs": [
    {
     "name": "stdout",
     "output_type": "stream",
     "text": [
      "(63644, 24)\n",
      "(51532, 24)\n"
     ]
    }
   ],
   "source": [
    "print(poltava20.shape)\n",
    "poltava20_1 = poltava20.drop_duplicates(subset=['code_of_entry'])\n",
    "print(poltava20_1.shape)"
   ]
  },
  {
   "cell_type": "code",
   "execution_count": 56,
   "metadata": {},
   "outputs": [
    {
     "data": {
      "text/html": [
       "<div>\n",
       "<style scoped>\n",
       "    .dataframe tbody tr th:only-of-type {\n",
       "        vertical-align: middle;\n",
       "    }\n",
       "\n",
       "    .dataframe tbody tr th {\n",
       "        vertical-align: top;\n",
       "    }\n",
       "\n",
       "    .dataframe thead th {\n",
       "        text-align: right;\n",
       "    }\n",
       "</style>\n",
       "<table border=\"1\" class=\"dataframe\">\n",
       "  <thead>\n",
       "    <tr style=\"text-align: right;\">\n",
       "      <th></th>\n",
       "      <th>Hospital</th>\n",
       "      <th>ЄДРПОУ</th>\n",
       "      <th>code_of_entry</th>\n",
       "      <th>дата введення форми 066/o в систему</th>\n",
       "      <th>id</th>\n",
       "      <th>gender</th>\n",
       "      <th>birth date</th>\n",
       "      <th>age in days</th>\n",
       "      <th>hospitalization date</th>\n",
       "      <th>discharge date</th>\n",
       "      <th>...</th>\n",
       "      <th>concomitant diagnosis 4</th>\n",
       "      <th>concomitant diagnosis 5</th>\n",
       "      <th>manipulation code 1</th>\n",
       "      <th>manipulation code 2</th>\n",
       "      <th>manipulation code 3</th>\n",
       "      <th>manipulation code 4</th>\n",
       "      <th>manipulation code 5</th>\n",
       "      <th>result</th>\n",
       "      <th>HospitalAbb</th>\n",
       "      <th>hospital_id</th>\n",
       "    </tr>\n",
       "  </thead>\n",
       "  <tbody>\n",
       "  </tbody>\n",
       "</table>\n",
       "<p>0 rows × 24 columns</p>\n",
       "</div>"
      ],
      "text/plain": [
       "Empty DataFrame\n",
       "Columns: [Hospital, ЄДРПОУ, code_of_entry, дата введення форми 066/o в систему, id, gender, birth date, age in days, hospitalization date, discharge date, main diagnosis, concomitant diagnosis 1, concomitant diagnosis 2, concomitant diagnosis 3, concomitant diagnosis 4, concomitant diagnosis 5, manipulation code 1, manipulation code 2, manipulation code 3, manipulation code 4, manipulation code 5, result, HospitalAbb, hospital_id]\n",
       "Index: []\n",
       "\n",
       "[0 rows x 24 columns]"
      ]
     },
     "execution_count": 56,
     "metadata": {},
     "output_type": "execute_result"
    }
   ],
   "source": [
    "df = poltava20_1\n",
    "ids = df[\"code_of_entry\"]\n",
    "df[ids.isin(ids[ids.duplicated()])].sort_values(\"code_of_entry\")"
   ]
  },
  {
   "cell_type": "code",
   "execution_count": 57,
   "metadata": {},
   "outputs": [
    {
     "name": "stderr",
     "output_type": "stream",
     "text": [
      "/Users/ruska/anaconda3/lib/python3.7/site-packages/ipykernel_launcher.py:1: SettingWithCopyWarning: \n",
      "A value is trying to be set on a copy of a slice from a DataFrame.\n",
      "Try using .loc[row_indexer,col_indexer] = value instead\n",
      "\n",
      "See the caveats in the documentation: https://pandas.pydata.org/pandas-docs/stable/user_guide/indexing.html#returning-a-view-versus-a-copy\n",
      "  \"\"\"Entry point for launching an IPython kernel.\n",
      "/Users/ruska/anaconda3/lib/python3.7/site-packages/ipykernel_launcher.py:2: SettingWithCopyWarning: \n",
      "A value is trying to be set on a copy of a slice from a DataFrame.\n",
      "Try using .loc[row_indexer,col_indexer] = value instead\n",
      "\n",
      "See the caveats in the documentation: https://pandas.pydata.org/pandas-docs/stable/user_guide/indexing.html#returning-a-view-versus-a-copy\n",
      "  \n",
      "/Users/ruska/anaconda3/lib/python3.7/site-packages/ipykernel_launcher.py:4: SettingWithCopyWarning: \n",
      "A value is trying to be set on a copy of a slice from a DataFrame.\n",
      "Try using .loc[row_indexer,col_indexer] = value instead\n",
      "\n",
      "See the caveats in the documentation: https://pandas.pydata.org/pandas-docs/stable/user_guide/indexing.html#returning-a-view-versus-a-copy\n",
      "  after removing the cwd from sys.path.\n"
     ]
    }
   ],
   "source": [
    "poltava20_1['hospitalization date'] = pd.to_datetime(poltava20_1['hospitalization date'])\n",
    "poltava20_1['discharge date'] = pd.to_datetime(poltava20_1['discharge date'])\n",
    "#df_test['First_Date'].sub(df_test['Second Date'], axis=0)\n",
    "poltava20_1[\"days_in_hospital\"] = poltava20_1[\"discharge date\"].sub(poltava20_1[\"hospitalization date\"], axis = 0)"
   ]
  },
  {
   "cell_type": "code",
   "execution_count": 58,
   "metadata": {},
   "outputs": [
    {
     "name": "stderr",
     "output_type": "stream",
     "text": [
      "/Users/ruska/anaconda3/lib/python3.7/site-packages/ipykernel_launcher.py:2: SettingWithCopyWarning: \n",
      "A value is trying to be set on a copy of a slice from a DataFrame.\n",
      "Try using .loc[row_indexer,col_indexer] = value instead\n",
      "\n",
      "See the caveats in the documentation: https://pandas.pydata.org/pandas-docs/stable/user_guide/indexing.html#returning-a-view-versus-a-copy\n",
      "  \n",
      "/Users/ruska/anaconda3/lib/python3.7/site-packages/ipykernel_launcher.py:3: SettingWithCopyWarning: \n",
      "A value is trying to be set on a copy of a slice from a DataFrame.\n",
      "Try using .loc[row_indexer,col_indexer] = value instead\n",
      "\n",
      "See the caveats in the documentation: https://pandas.pydata.org/pandas-docs/stable/user_guide/indexing.html#returning-a-view-versus-a-copy\n",
      "  This is separate from the ipykernel package so we can avoid doing imports until\n"
     ]
    }
   ],
   "source": [
    "import numpy as np\n",
    "poltava20_1['days_in_hospital'] = poltava20_1['days_in_hospital'] / np.timedelta64(1, 'D')\n",
    "poltava20_1['days_in_hospital'] = poltava20_1['days_in_hospital'] + 1"
   ]
  },
  {
   "cell_type": "code",
   "execution_count": 59,
   "metadata": {},
   "outputs": [
    {
     "name": "stdout",
     "output_type": "stream",
     "text": [
      "465913.0\n"
     ]
    }
   ],
   "source": [
    "print(poltava20_1['days_in_hospital'].sum())"
   ]
  },
  {
   "cell_type": "code",
   "execution_count": 60,
   "metadata": {},
   "outputs": [
    {
     "name": "stdout",
     "output_type": "stream",
     "text": [
      "           code_of_entry\n",
      "Date                    \n",
      "2020-01-30             1\n",
      "2020-01-31             1\n",
      "2020-02-01             1\n",
      "2020-02-02             1\n",
      "2020-02-03             1\n",
      "...                  ...\n",
      "2020-02-03   КП КОНД ПОР\n",
      "2020-02-04   КП КОНД ПОР\n",
      "2020-02-05   КП КОНД ПОР\n",
      "2020-02-06   КП КОНД ПОР\n",
      "2020-02-07   КП КОНД ПОР\n",
      "\n",
      "[465913 rows x 1 columns]\n"
     ]
    }
   ],
   "source": [
    "poltavaD = poltava20_1.loc[:, ['code_of_entry', 'hospitalization date', 'discharge date']]\n",
    "df = poltavaD\n",
    "df['hospitalization date'] = pd.to_datetime(df['hospitalization date'])\n",
    "df['discharge date'] = pd.to_datetime(df['discharge date'])\n",
    "\n",
    "df2 = pd.melt(df, id_vars='code_of_entry', value_name='Date')\n",
    "df2.Date = pd.to_datetime(df2.Date)\n",
    "df2.set_index('Date', inplace=True)\n",
    "df2.drop('variable', axis=1, inplace=True)\n",
    "df3 = df2.groupby('code_of_entry').resample('D').ffill().reset_index(level=0, drop=True)\n",
    "print(df3)"
   ]
  },
  {
   "cell_type": "code",
   "execution_count": 61,
   "metadata": {},
   "outputs": [],
   "source": [
    "df3 = df3.reset_index()"
   ]
  },
  {
   "cell_type": "code",
   "execution_count": 62,
   "metadata": {},
   "outputs": [],
   "source": [
    "df4 = pd.merge(df, df3)"
   ]
  },
  {
   "cell_type": "code",
   "execution_count": 63,
   "metadata": {},
   "outputs": [
    {
     "data": {
      "text/html": [
       "<div>\n",
       "<style scoped>\n",
       "    .dataframe tbody tr th:only-of-type {\n",
       "        vertical-align: middle;\n",
       "    }\n",
       "\n",
       "    .dataframe tbody tr th {\n",
       "        vertical-align: top;\n",
       "    }\n",
       "\n",
       "    .dataframe thead th {\n",
       "        text-align: right;\n",
       "    }\n",
       "</style>\n",
       "<table border=\"1\" class=\"dataframe\">\n",
       "  <thead>\n",
       "    <tr style=\"text-align: right;\">\n",
       "      <th></th>\n",
       "      <th>code_of_entry</th>\n",
       "      <th>hospitalization date</th>\n",
       "      <th>discharge date</th>\n",
       "      <th>Date</th>\n",
       "    </tr>\n",
       "  </thead>\n",
       "  <tbody>\n",
       "    <tr>\n",
       "      <th>0</th>\n",
       "      <td>{D95DEC40-C47F-42E4-8837-54BF2336CB4C}</td>\n",
       "      <td>2019-12-21</td>\n",
       "      <td>2020-01-01</td>\n",
       "      <td>2019-12-21</td>\n",
       "    </tr>\n",
       "    <tr>\n",
       "      <th>1</th>\n",
       "      <td>{D95DEC40-C47F-42E4-8837-54BF2336CB4C}</td>\n",
       "      <td>2019-12-21</td>\n",
       "      <td>2020-01-01</td>\n",
       "      <td>2019-12-22</td>\n",
       "    </tr>\n",
       "    <tr>\n",
       "      <th>2</th>\n",
       "      <td>{D95DEC40-C47F-42E4-8837-54BF2336CB4C}</td>\n",
       "      <td>2019-12-21</td>\n",
       "      <td>2020-01-01</td>\n",
       "      <td>2019-12-23</td>\n",
       "    </tr>\n",
       "    <tr>\n",
       "      <th>3</th>\n",
       "      <td>{D95DEC40-C47F-42E4-8837-54BF2336CB4C}</td>\n",
       "      <td>2019-12-21</td>\n",
       "      <td>2020-01-01</td>\n",
       "      <td>2019-12-24</td>\n",
       "    </tr>\n",
       "    <tr>\n",
       "      <th>4</th>\n",
       "      <td>{D95DEC40-C47F-42E4-8837-54BF2336CB4C}</td>\n",
       "      <td>2019-12-21</td>\n",
       "      <td>2020-01-01</td>\n",
       "      <td>2019-12-25</td>\n",
       "    </tr>\n",
       "    <tr>\n",
       "      <th>...</th>\n",
       "      <td>...</td>\n",
       "      <td>...</td>\n",
       "      <td>...</td>\n",
       "      <td>...</td>\n",
       "    </tr>\n",
       "    <tr>\n",
       "      <th>465908</th>\n",
       "      <td>{A017890F-C543-4F34-84A0-153752D7BDBA}</td>\n",
       "      <td>2020-03-16</td>\n",
       "      <td>2020-03-21</td>\n",
       "      <td>2020-03-17</td>\n",
       "    </tr>\n",
       "    <tr>\n",
       "      <th>465909</th>\n",
       "      <td>{A017890F-C543-4F34-84A0-153752D7BDBA}</td>\n",
       "      <td>2020-03-16</td>\n",
       "      <td>2020-03-21</td>\n",
       "      <td>2020-03-18</td>\n",
       "    </tr>\n",
       "    <tr>\n",
       "      <th>465910</th>\n",
       "      <td>{A017890F-C543-4F34-84A0-153752D7BDBA}</td>\n",
       "      <td>2020-03-16</td>\n",
       "      <td>2020-03-21</td>\n",
       "      <td>2020-03-19</td>\n",
       "    </tr>\n",
       "    <tr>\n",
       "      <th>465911</th>\n",
       "      <td>{A017890F-C543-4F34-84A0-153752D7BDBA}</td>\n",
       "      <td>2020-03-16</td>\n",
       "      <td>2020-03-21</td>\n",
       "      <td>2020-03-20</td>\n",
       "    </tr>\n",
       "    <tr>\n",
       "      <th>465912</th>\n",
       "      <td>{A017890F-C543-4F34-84A0-153752D7BDBA}</td>\n",
       "      <td>2020-03-16</td>\n",
       "      <td>2020-03-21</td>\n",
       "      <td>2020-03-21</td>\n",
       "    </tr>\n",
       "  </tbody>\n",
       "</table>\n",
       "<p>465913 rows × 4 columns</p>\n",
       "</div>"
      ],
      "text/plain": [
       "                                 code_of_entry hospitalization date  \\\n",
       "0       {D95DEC40-C47F-42E4-8837-54BF2336CB4C}           2019-12-21   \n",
       "1       {D95DEC40-C47F-42E4-8837-54BF2336CB4C}           2019-12-21   \n",
       "2       {D95DEC40-C47F-42E4-8837-54BF2336CB4C}           2019-12-21   \n",
       "3       {D95DEC40-C47F-42E4-8837-54BF2336CB4C}           2019-12-21   \n",
       "4       {D95DEC40-C47F-42E4-8837-54BF2336CB4C}           2019-12-21   \n",
       "...                                        ...                  ...   \n",
       "465908  {A017890F-C543-4F34-84A0-153752D7BDBA}           2020-03-16   \n",
       "465909  {A017890F-C543-4F34-84A0-153752D7BDBA}           2020-03-16   \n",
       "465910  {A017890F-C543-4F34-84A0-153752D7BDBA}           2020-03-16   \n",
       "465911  {A017890F-C543-4F34-84A0-153752D7BDBA}           2020-03-16   \n",
       "465912  {A017890F-C543-4F34-84A0-153752D7BDBA}           2020-03-16   \n",
       "\n",
       "       discharge date       Date  \n",
       "0          2020-01-01 2019-12-21  \n",
       "1          2020-01-01 2019-12-22  \n",
       "2          2020-01-01 2019-12-23  \n",
       "3          2020-01-01 2019-12-24  \n",
       "4          2020-01-01 2019-12-25  \n",
       "...               ...        ...  \n",
       "465908     2020-03-21 2020-03-17  \n",
       "465909     2020-03-21 2020-03-18  \n",
       "465910     2020-03-21 2020-03-19  \n",
       "465911     2020-03-21 2020-03-20  \n",
       "465912     2020-03-21 2020-03-21  \n",
       "\n",
       "[465913 rows x 4 columns]"
      ]
     },
     "execution_count": 63,
     "metadata": {},
     "output_type": "execute_result"
    }
   ],
   "source": [
    "df4"
   ]
  },
  {
   "cell_type": "code",
   "execution_count": 64,
   "metadata": {},
   "outputs": [],
   "source": [
    "df4 = pd.merge(df3, poltava20_1)"
   ]
  },
  {
   "cell_type": "code",
   "execution_count": 65,
   "metadata": {},
   "outputs": [],
   "source": [
    "pdays20 = df4"
   ]
  },
  {
   "cell_type": "code",
   "execution_count": 67,
   "metadata": {},
   "outputs": [],
   "source": [
    "pdays_20_all = pdays20\n",
    "pdays_20 = pdays_20_all[pdays_20_all[\"Date\"] >= '2020-1-1']"
   ]
  },
  {
   "cell_type": "code",
   "execution_count": 68,
   "metadata": {},
   "outputs": [],
   "source": [
    "pdays_20_all.to_pickle(\"Poltava2020_days_all.pkl\")"
   ]
  },
  {
   "cell_type": "code",
   "execution_count": 69,
   "metadata": {},
   "outputs": [],
   "source": [
    "def get_upcode(code, level):\n",
    "    if (len(code) < 6) and (code.find('.') != -1):\n",
    "        code = code + '0'\n",
    "    if len(code) == 3:\n",
    "        code = code + \".00\"\n",
    "    try:\n",
    "        upcode = desease_codes_nested[code][level]\n",
    "    except KeyError:\n",
    "        code = code[:3] + '.00'\n",
    "        upcode = desease_codes_nested[code][level]\n",
    "    return upcode"
   ]
  },
  {
   "cell_type": "code",
   "execution_count": 70,
   "metadata": {},
   "outputs": [],
   "source": [
    "def get_code_name(code):\n",
    "    if (len(code) < 6) and (code.find('.') != -1):\n",
    "        code = code + '0'\n",
    "    try:\n",
    "        code_name = desease_codes_names[code]\n",
    "    except KeyError:\n",
    "        code = code[:3] + '.00'\n",
    "        code_name = desease_codes_names[code]\n",
    "    return code_name"
   ]
  },
  {
   "cell_type": "code",
   "execution_count": 71,
   "metadata": {},
   "outputs": [],
   "source": [
    "import pickle\n",
    "\n",
    "#desease_codes_nested = codes_nested_all\n",
    "\n",
    "#with open('desease_codes_nested.pickle', 'wb') as handle:\n",
    "    #pickle.dump(desease_codes_nested, handle, protocol=pickle.HIGHEST_PROTOCOL)\n",
    "\n",
    "with open('desease_codes_nested.pickle', 'rb') as handle:\n",
    "    desease_codes_nested = pickle.load(handle)\n"
   ]
  },
  {
   "cell_type": "code",
   "execution_count": 72,
   "metadata": {},
   "outputs": [],
   "source": [
    "\n",
    "with open('desease_codes_names.pickle', 'rb') as handle:\n",
    "    desease_codes_names = pickle.load(handle)"
   ]
  },
  {
   "cell_type": "code",
   "execution_count": 75,
   "metadata": {},
   "outputs": [
    {
     "name": "stderr",
     "output_type": "stream",
     "text": [
      "/Users/ruska/anaconda3/lib/python3.7/site-packages/ipykernel_launcher.py:1: SettingWithCopyWarning: \n",
      "A value is trying to be set on a copy of a slice from a DataFrame.\n",
      "Try using .loc[row_indexer,col_indexer] = value instead\n",
      "\n",
      "See the caveats in the documentation: https://pandas.pydata.org/pandas-docs/stable/user_guide/indexing.html#returning-a-view-versus-a-copy\n",
      "  \"\"\"Entry point for launching an IPython kernel.\n",
      "/Users/ruska/anaconda3/lib/python3.7/site-packages/ipykernel_launcher.py:3: SettingWithCopyWarning: \n",
      "A value is trying to be set on a copy of a slice from a DataFrame.\n",
      "Try using .loc[row_indexer,col_indexer] = value instead\n",
      "\n",
      "See the caveats in the documentation: https://pandas.pydata.org/pandas-docs/stable/user_guide/indexing.html#returning-a-view-versus-a-copy\n",
      "  This is separate from the ipykernel package so we can avoid doing imports until\n",
      "/Users/ruska/anaconda3/lib/python3.7/site-packages/ipykernel_launcher.py:5: SettingWithCopyWarning: \n",
      "A value is trying to be set on a copy of a slice from a DataFrame.\n",
      "Try using .loc[row_indexer,col_indexer] = value instead\n",
      "\n",
      "See the caveats in the documentation: https://pandas.pydata.org/pandas-docs/stable/user_guide/indexing.html#returning-a-view-versus-a-copy\n",
      "  \"\"\"\n",
      "/Users/ruska/anaconda3/lib/python3.7/site-packages/ipykernel_launcher.py:7: SettingWithCopyWarning: \n",
      "A value is trying to be set on a copy of a slice from a DataFrame.\n",
      "Try using .loc[row_indexer,col_indexer] = value instead\n",
      "\n",
      "See the caveats in the documentation: https://pandas.pydata.org/pandas-docs/stable/user_guide/indexing.html#returning-a-view-versus-a-copy\n",
      "  import sys\n",
      "/Users/ruska/anaconda3/lib/python3.7/site-packages/ipykernel_launcher.py:9: SettingWithCopyWarning: \n",
      "A value is trying to be set on a copy of a slice from a DataFrame.\n",
      "Try using .loc[row_indexer,col_indexer] = value instead\n",
      "\n",
      "See the caveats in the documentation: https://pandas.pydata.org/pandas-docs/stable/user_guide/indexing.html#returning-a-view-versus-a-copy\n",
      "  if __name__ == '__main__':\n",
      "/Users/ruska/anaconda3/lib/python3.7/site-packages/ipykernel_launcher.py:11: SettingWithCopyWarning: \n",
      "A value is trying to be set on a copy of a slice from a DataFrame.\n",
      "Try using .loc[row_indexer,col_indexer] = value instead\n",
      "\n",
      "See the caveats in the documentation: https://pandas.pydata.org/pandas-docs/stable/user_guide/indexing.html#returning-a-view-versus-a-copy\n",
      "  # This is added back by InteractiveShellApp.init_path()\n",
      "/Users/ruska/anaconda3/lib/python3.7/site-packages/ipykernel_launcher.py:13: SettingWithCopyWarning: \n",
      "A value is trying to be set on a copy of a slice from a DataFrame.\n",
      "Try using .loc[row_indexer,col_indexer] = value instead\n",
      "\n",
      "See the caveats in the documentation: https://pandas.pydata.org/pandas-docs/stable/user_guide/indexing.html#returning-a-view-versus-a-copy\n",
      "  del sys.path[0]\n"
     ]
    }
   ],
   "source": [
    "pdays_20['main_diagnosis_L1'] = pdays_20['main diagnosis'].apply(lambda x: get_upcode(x, 'L1'))\n",
    "\n",
    "pdays_20['main_diagnosis_L1_name'] = pdays_20['main_diagnosis_L1'].apply(lambda x: get_code_name(x))\n",
    "\n",
    "pdays_20['main_diagnosis_L2'] = pdays_20['main diagnosis'].apply(lambda x: get_upcode(x, 'L2'))\n",
    "\n",
    "pdays_20['main_diagnosis_L2_name'] = pdays_20['main_diagnosis_L2'].apply(lambda x: get_code_name(x))\n",
    "\n",
    "pdays_20['main_diagnosis_L3'] = pdays_20['main diagnosis'].apply(lambda x: get_upcode(x, 'L3'))\n",
    "\n",
    "pdays_20['main_diagnosis_L3_name'] = pdays_20['main_diagnosis_L3'].apply(lambda x: get_code_name(x))\n",
    "\n",
    "pdays_20['main_diagnosis_name'] = pdays_20['main diagnosis'].apply(lambda x: get_code_name(x))\n",
    "\n",
    "pdays_20.to_pickle(\"Poltava2020_days_all_diagnosis.pkl\")"
   ]
  },
  {
   "cell_type": "code",
   "execution_count": 76,
   "metadata": {},
   "outputs": [
    {
     "name": "stdout",
     "output_type": "stream",
     "text": [
      "             Date code_of_entry  \\\n",
      "0      2020-01-30             1   \n",
      "1      2020-01-31             1   \n",
      "2      2020-02-01             1   \n",
      "3      2020-02-02             1   \n",
      "4      2020-02-03             1   \n",
      "...           ...           ...   \n",
      "465908 2020-02-03   КП КОНД ПОР   \n",
      "465909 2020-02-04   КП КОНД ПОР   \n",
      "465910 2020-02-05   КП КОНД ПОР   \n",
      "465911 2020-02-06   КП КОНД ПОР   \n",
      "465912 2020-02-07   КП КОНД ПОР   \n",
      "\n",
      "                                                 Hospital    ЄДРПОУ  \\\n",
      "0       КП \"ПИРЯТИНСЬКА ЦЕНТРАЛЬНА РАЙОННА ЛІКАРНЯ\" ПИ...   1999460   \n",
      "1       КП \"ПИРЯТИНСЬКА ЦЕНТРАЛЬНА РАЙОННА ЛІКАРНЯ\" ПИ...   1999460   \n",
      "2       КП \"ПИРЯТИНСЬКА ЦЕНТРАЛЬНА РАЙОННА ЛІКАРНЯ\" ПИ...   1999460   \n",
      "3       КП \"ПИРЯТИНСЬКА ЦЕНТРАЛЬНА РАЙОННА ЛІКАРНЯ\" ПИ...   1999460   \n",
      "4       КП \"ПИРЯТИНСЬКА ЦЕНТРАЛЬНА РАЙОННА ЛІКАРНЯ\" ПИ...   1999460   \n",
      "...                                                   ...       ...   \n",
      "465908  КП \"КРЕМЕНЧУЦЬКИЙ ОБЛАСНИЙ НАРКОЛОГІЧНИЙ ДИСПА...  13961403   \n",
      "465909  КП \"КРЕМЕНЧУЦЬКИЙ ОБЛАСНИЙ НАРКОЛОГІЧНИЙ ДИСПА...  13961403   \n",
      "465910  КП \"КРЕМЕНЧУЦЬКИЙ ОБЛАСНИЙ НАРКОЛОГІЧНИЙ ДИСПА...  13961403   \n",
      "465911  КП \"КРЕМЕНЧУЦЬКИЙ ОБЛАСНИЙ НАРКОЛОГІЧНИЙ ДИСПА...  13961403   \n",
      "465912  КП \"КРЕМЕНЧУЦЬКИЙ ОБЛАСНИЙ НАРКОЛОГІЧНИЙ ДИСПА...  13961403   \n",
      "\n",
      "       дата введення форми 066/o в систему      id  gender  \\\n",
      "0                               2020-02-04  478/56     2.0   \n",
      "1                               2020-02-04  478/56     2.0   \n",
      "2                               2020-02-04  478/56     2.0   \n",
      "3                               2020-02-04  478/56     2.0   \n",
      "4                               2020-02-04  478/56     2.0   \n",
      "...                                    ...     ...     ...   \n",
      "465908                          2020-02-07     113     1.0   \n",
      "465909                          2020-02-07     113     1.0   \n",
      "465910                          2020-02-07     113     1.0   \n",
      "465911                          2020-02-07     113     1.0   \n",
      "465912                          2020-02-07     113     1.0   \n",
      "\n",
      "                 birth date  age in days hospitalization date  ...  \\\n",
      "0       1979-06-11 00:00:00      14843.0           2020-01-30  ...   \n",
      "1       1979-06-11 00:00:00      14843.0           2020-01-30  ...   \n",
      "2       1979-06-11 00:00:00      14843.0           2020-01-30  ...   \n",
      "3       1979-06-11 00:00:00      14843.0           2020-01-30  ...   \n",
      "4       1979-06-11 00:00:00      14843.0           2020-01-30  ...   \n",
      "...                     ...          ...                  ...  ...   \n",
      "465908  1959-03-25 00:00:00          NaN           2020-01-31  ...   \n",
      "465909  1959-03-25 00:00:00          NaN           2020-01-31  ...   \n",
      "465910  1959-03-25 00:00:00          NaN           2020-01-31  ...   \n",
      "465911  1959-03-25 00:00:00          NaN           2020-01-31  ...   \n",
      "465912  1959-03-25 00:00:00          NaN           2020-01-31  ...   \n",
      "\n",
      "       HospitalAbb        hospital_id days_in_hospital main_diagnosis_L1  \\\n",
      "0       КП_ПЦРЛПРР  478/56_КП_ПЦРЛПРР              5.0           N00-N99   \n",
      "1       КП_ПЦРЛПРР  478/56_КП_ПЦРЛПРР              5.0           N00-N99   \n",
      "2       КП_ПЦРЛПРР  478/56_КП_ПЦРЛПРР              5.0           N00-N99   \n",
      "3       КП_ПЦРЛПРР  478/56_КП_ПЦРЛПРР              5.0           N00-N99   \n",
      "4       КП_ПЦРЛПРР  478/56_КП_ПЦРЛПРР              5.0           N00-N99   \n",
      "...            ...                ...              ...               ...   \n",
      "465908  КП_КОНДПОР     113_КП_КОНДПОР              8.0           F00-F99   \n",
      "465909  КП_КОНДПОР     113_КП_КОНДПОР              8.0           F00-F99   \n",
      "465910  КП_КОНДПОР     113_КП_КОНДПОР              8.0           F00-F99   \n",
      "465911  КП_КОНДПОР     113_КП_КОНДПОР              8.0           F00-F99   \n",
      "465912  КП_КОНДПОР     113_КП_КОНДПОР              8.0           F00-F99   \n",
      "\n",
      "              main_diagnosis_L1_name main_diagnosis_L2  \\\n",
      "0       ХВОРОБИ СЕЧОСТАТЕВОЇ СИСТЕМИ           N80-N98   \n",
      "1       ХВОРОБИ СЕЧОСТАТЕВОЇ СИСТЕМИ           N80-N98   \n",
      "2       ХВОРОБИ СЕЧОСТАТЕВОЇ СИСТЕМИ           N80-N98   \n",
      "3       ХВОРОБИ СЕЧОСТАТЕВОЇ СИСТЕМИ           N80-N98   \n",
      "4       ХВОРОБИ СЕЧОСТАТЕВОЇ СИСТЕМИ           N80-N98   \n",
      "...                              ...               ...   \n",
      "465908  РОЗЛАДИ ПСИХІКИ ТА ПОВЕДІНКИ           F10-F19   \n",
      "465909  РОЗЛАДИ ПСИХІКИ ТА ПОВЕДІНКИ           F10-F19   \n",
      "465910  РОЗЛАДИ ПСИХІКИ ТА ПОВЕДІНКИ           F10-F19   \n",
      "465911  РОЗЛАДИ ПСИХІКИ ТА ПОВЕДІНКИ           F10-F19   \n",
      "465912  РОЗЛАДИ ПСИХІКИ ТА ПОВЕДІНКИ           F10-F19   \n",
      "\n",
      "                                   main_diagnosis_L2_name main_diagnosis_L3  \\\n",
      "0             Незапальні хвороби жіночих статевих органів               N92   \n",
      "1             Незапальні хвороби жіночих статевих органів               N92   \n",
      "2             Незапальні хвороби жіночих статевих органів               N92   \n",
      "3             Незапальні хвороби жіночих статевих органів               N92   \n",
      "4             Незапальні хвороби жіночих статевих органів               N92   \n",
      "...                                                   ...               ...   \n",
      "465908  Розлади психіки та поведінки внаслідок вживанн...               F10   \n",
      "465909  Розлади психіки та поведінки внаслідок вживанн...               F10   \n",
      "465910  Розлади психіки та поведінки внаслідок вживанн...               F10   \n",
      "465911  Розлади психіки та поведінки внаслідок вживанн...               F10   \n",
      "465912  Розлади психіки та поведінки внаслідок вживанн...               F10   \n",
      "\n",
      "                                   main_diagnosis_L3_name  \\\n",
      "0              Надмірна, часта та нерегулярна менструація   \n",
      "1              Надмірна, часта та нерегулярна менструація   \n",
      "2              Надмірна, часта та нерегулярна менструація   \n",
      "3              Надмірна, часта та нерегулярна менструація   \n",
      "4              Надмірна, часта та нерегулярна менструація   \n",
      "...                                                   ...   \n",
      "465908  Розлади психіки та поведінки внаслідок вживанн...   \n",
      "465909  Розлади психіки та поведінки внаслідок вживанн...   \n",
      "465910  Розлади психіки та поведінки внаслідок вживанн...   \n",
      "465911  Розлади психіки та поведінки внаслідок вживанн...   \n",
      "465912  Розлади психіки та поведінки внаслідок вживанн...   \n",
      "\n",
      "                        main_diagnosis_name  \n",
      "0       Нерегулярна менструація, неуточнена  \n",
      "1       Нерегулярна менструація, неуточнена  \n",
      "2       Нерегулярна менструація, неуточнена  \n",
      "3       Нерегулярна менструація, неуточнена  \n",
      "4       Нерегулярна менструація, неуточнена  \n",
      "...                                     ...  \n",
      "465908                   Синдром залежності  \n",
      "465909                   Синдром залежності  \n",
      "465910                   Синдром залежності  \n",
      "465911                   Синдром залежності  \n",
      "465912                   Синдром залежності  \n",
      "\n",
      "[423975 rows x 33 columns]\n"
     ]
    }
   ],
   "source": [
    "print(pdays_20)"
   ]
  },
  {
   "cell_type": "code",
   "execution_count": 77,
   "metadata": {},
   "outputs": [
    {
     "data": {
      "text/plain": [
       "0         N80-N98\n",
       "1         N80-N98\n",
       "2         N80-N98\n",
       "3         N80-N98\n",
       "4         N80-N98\n",
       "           ...   \n",
       "465908    F10-F19\n",
       "465909    F10-F19\n",
       "465910    F10-F19\n",
       "465911    F10-F19\n",
       "465912    F10-F19\n",
       "Name: main_diagnosis_L2, Length: 423975, dtype: object"
      ]
     },
     "execution_count": 77,
     "metadata": {},
     "output_type": "execute_result"
    }
   ],
   "source": [
    "pdays_20['main_diagnosis_L2']"
   ]
  },
  {
   "cell_type": "code",
   "execution_count": 78,
   "metadata": {},
   "outputs": [
    {
     "data": {
      "text/plain": [
       "Text(0.5, 0, 'Data')"
      ]
     },
     "execution_count": 78,
     "metadata": {},
     "output_type": "execute_result"
    },
    {
     "data": {
      "image/png": "[encoded data removed]",
      "text/plain": [
       "<Figure size 432x288 with 1 Axes>"
      ]
     },
     "metadata": {
      "needs_background": "light"
     },
     "output_type": "display_data"
    }
   ],
   "source": [
    "import matplotlib.pyplot as plt\n",
    "import numpy as np\n",
    "%matplotlib inline\n",
    "\n",
    "x = pdays_20[pdays_20['main_diagnosis_L2'] == 'I20-I25']['days_in_hospital']\n",
    "\n",
    "plt.hist(x, density=True, bins=30)  # density=False would make counts\n",
    "plt.ylabel('frequency')\n",
    "plt.xlabel('Data')"
   ]
  },
  {
   "cell_type": "code",
   "execution_count": 79,
   "metadata": {},
   "outputs": [
    {
     "data": {
      "text/plain": [
       "0         5.0\n",
       "1         5.0\n",
       "2         5.0\n",
       "3         5.0\n",
       "4         5.0\n",
       "         ... \n",
       "465908    8.0\n",
       "465909    8.0\n",
       "465910    8.0\n",
       "465911    8.0\n",
       "465912    8.0\n",
       "Name: days_in_hospital, Length: 423975, dtype: float64"
      ]
     },
     "execution_count": 79,
     "metadata": {},
     "output_type": "execute_result"
    }
   ],
   "source": [
    "pdays_20['days_in_hospital']"
   ]
  },
  {
   "cell_type": "code",
   "execution_count": 80,
   "metadata": {},
   "outputs": [],
   "source": [
    "x = pdays_20[pdays_20['main_diagnosis_L2'] == 'I20-I25']['days_in_hospital']"
   ]
  },
  {
   "cell_type": "code",
   "execution_count": 81,
   "metadata": {},
   "outputs": [
    {
     "data": {
      "text/plain": [
       "220       10.0\n",
       "221       10.0\n",
       "222       10.0\n",
       "223       10.0\n",
       "224       10.0\n",
       "          ... \n",
       "465782     2.0\n",
       "465783     2.0\n",
       "465853    12.0\n",
       "465854    12.0\n",
       "465855    12.0\n",
       "Name: days_in_hospital, Length: 35665, dtype: float64"
      ]
     },
     "execution_count": 81,
     "metadata": {},
     "output_type": "execute_result"
    }
   ],
   "source": [
    "x"
   ]
  },
  {
   "cell_type": "code",
   "execution_count": 86,
   "metadata": {},
   "outputs": [],
   "source": [
    "pdays20_heart = pdays_20[pdays_20['main_diagnosis_L2'] == 'I20-I25']"
   ]
  },
  {
   "cell_type": "code",
   "execution_count": 87,
   "metadata": {},
   "outputs": [],
   "source": [
    "pdays20_heart_above100 = pdays20_heart[pdays20_heart['days_in_hospital'] >= 100]"
   ]
  },
  {
   "cell_type": "code",
   "execution_count": 90,
   "metadata": {},
   "outputs": [
    {
     "data": {
      "text/html": [
       "<div>\n",
       "<style scoped>\n",
       "    .dataframe tbody tr th:only-of-type {\n",
       "        vertical-align: middle;\n",
       "    }\n",
       "\n",
       "    .dataframe tbody tr th {\n",
       "        vertical-align: top;\n",
       "    }\n",
       "\n",
       "    .dataframe thead th {\n",
       "        text-align: right;\n",
       "    }\n",
       "</style>\n",
       "<table border=\"1\" class=\"dataframe\">\n",
       "  <thead>\n",
       "    <tr style=\"text-align: right;\">\n",
       "      <th></th>\n",
       "      <th>Date</th>\n",
       "      <th>code_of_entry</th>\n",
       "      <th>Hospital</th>\n",
       "      <th>ЄДРПОУ</th>\n",
       "      <th>дата введення форми 066/o в систему</th>\n",
       "      <th>id</th>\n",
       "      <th>gender</th>\n",
       "      <th>birth date</th>\n",
       "      <th>age in days</th>\n",
       "      <th>hospitalization date</th>\n",
       "      <th>...</th>\n",
       "      <th>HospitalAbb</th>\n",
       "      <th>hospital_id</th>\n",
       "      <th>days_in_hospital</th>\n",
       "      <th>main_diagnosis_L1</th>\n",
       "      <th>main_diagnosis_L1_name</th>\n",
       "      <th>main_diagnosis_L2</th>\n",
       "      <th>main_diagnosis_L2_name</th>\n",
       "      <th>main_diagnosis_L3</th>\n",
       "      <th>main_diagnosis_L3_name</th>\n",
       "      <th>main_diagnosis_name</th>\n",
       "    </tr>\n",
       "  </thead>\n",
       "  <tbody>\n",
       "    <tr>\n",
       "      <th>30048</th>\n",
       "      <td>2020-01-01</td>\n",
       "      <td>11193</td>\n",
       "      <td>КНП \"ЧУТІВСЬКА ЦЕНТРАЛЬНА РАЙОННА ЛІКАРНЯ\"</td>\n",
       "      <td>1999537</td>\n",
       "      <td>2020-04-03</td>\n",
       "      <td>634</td>\n",
       "      <td>1.0</td>\n",
       "      <td>03.11.1973</td>\n",
       "      <td>4885.0</td>\n",
       "      <td>1987-03-20</td>\n",
       "      <td>...</td>\n",
       "      <td>КНП_ЧЦРЛ</td>\n",
       "      <td>634_КНП_ЧЦРЛ</td>\n",
       "      <td>12039.0</td>\n",
       "      <td>I00-I99</td>\n",
       "      <td>ХВОРОБИ СИСТЕМИ КРОВООБІГУ</td>\n",
       "      <td>I20-I25</td>\n",
       "      <td>Ішемічна хвороба серця</td>\n",
       "      <td>I20</td>\n",
       "      <td>Стенокардія (грудна жаба)</td>\n",
       "      <td>Нестабільна стенокардія</td>\n",
       "    </tr>\n",
       "  </tbody>\n",
       "</table>\n",
       "<p>1 rows × 33 columns</p>\n",
       "</div>"
      ],
      "text/plain": [
       "            Date code_of_entry                                    Hospital  \\\n",
       "30048 2020-01-01         11193  КНП \"ЧУТІВСЬКА ЦЕНТРАЛЬНА РАЙОННА ЛІКАРНЯ\"   \n",
       "\n",
       "        ЄДРПОУ дата введення форми 066/o в систему   id  gender  birth date  \\\n",
       "30048  1999537                          2020-04-03  634     1.0  03.11.1973   \n",
       "\n",
       "       age in days hospitalization date  ... HospitalAbb   hospital_id  \\\n",
       "30048       4885.0           1987-03-20  ...    КНП_ЧЦРЛ  634_КНП_ЧЦРЛ   \n",
       "\n",
       "      days_in_hospital main_diagnosis_L1      main_diagnosis_L1_name  \\\n",
       "30048          12039.0           I00-I99  ХВОРОБИ СИСТЕМИ КРОВООБІГУ   \n",
       "\n",
       "      main_diagnosis_L2  main_diagnosis_L2_name main_diagnosis_L3  \\\n",
       "30048           I20-I25  Ішемічна хвороба серця               I20   \n",
       "\n",
       "          main_diagnosis_L3_name      main_diagnosis_name  \n",
       "30048  Стенокардія (грудна жаба)  Нестабільна стенокардія  \n",
       "\n",
       "[1 rows x 33 columns]"
      ]
     },
     "execution_count": 90,
     "metadata": {},
     "output_type": "execute_result"
    }
   ],
   "source": [
    "pdays20_heart_above100.drop_duplicates(subset = 'code_of_entry')"
   ]
  },
  {
   "cell_type": "code",
   "execution_count": null,
   "metadata": {},
   "outputs": [],
   "source": []
  }
 ],
 "metadata": {
  "kernelspec": {
   "display_name": "Python 3",
   "language": "python",
   "name": "python3"
  },
  "language_info": {
   "codemirror_mode": {
    "name": "ipython",
    "version": 3
   },
   "file_extension": ".py",
   "mimetype": "text/x-python",
   "name": "python",
   "nbconvert_exporter": "python",
   "pygments_lexer": "ipython3",
   "version": "3.7.6"
  }
 },
 "nbformat": 4,
 "nbformat_minor": 4
}
