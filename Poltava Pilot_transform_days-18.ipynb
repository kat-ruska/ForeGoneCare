{
 "cells": [
  {
   "cell_type": "code",
   "execution_count": 1,
   "metadata": {},
   "outputs": [],
   "source": [
    "import pandas as pd\n"
   ]
  },
  {
   "cell_type": "code",
   "execution_count": 5,
   "metadata": {},
   "outputs": [],
   "source": [
    "poltava18 = pd.read_excel(\"../data/Poltava_Pilot_18-19.xlsx\", sheet_name = \"2018en\", index_col = None)"
   ]
  },
  {
   "cell_type": "code",
   "execution_count": 4,
   "metadata": {},
   "outputs": [
    {
     "data": {
      "text/plain": [
       "(269706, 22)"
      ]
     },
     "execution_count": 4,
     "metadata": {},
     "output_type": "execute_result"
    }
   ],
   "source": [
    "poltava19.shape"
   ]
  },
  {
   "cell_type": "code",
   "execution_count": 6,
   "metadata": {},
   "outputs": [
    {
     "data": {
      "text/plain": [
       "(260023, 22)"
      ]
     },
     "execution_count": 6,
     "metadata": {},
     "output_type": "execute_result"
    }
   ],
   "source": [
    "poltava18.shape"
   ]
  },
  {
   "cell_type": "code",
   "execution_count": 7,
   "metadata": {},
   "outputs": [
    {
     "name": "stdout",
     "output_type": "stream",
     "text": [
      "<bound method NDFrame.head of                                                  Hospital   ЄДРПОУ  \\\n",
      "0       КНП \"ВЕЛИКОБАГАЧАНСЬКА ЦЕНТРАЛЬНА РАЙОННА ЛІКА...  1999201   \n",
      "1       КНП \"ЗІНЬКІВСЬКА ЦЕНТРАЛЬНА РАЙОННА ЛІКАРНЯ\" З...  1999276   \n",
      "2       КП \"1-А МІСЬКА КЛІНІЧНА ЛІКАРНЯ ПОЛТАВСЬКОЇ МІ...  1999655   \n",
      "3        КНМП \"КРЕМЕНЧУЦЬКА МІСЬКА ЛІКАРНЯ \"ПРАВОБЕРЕЖНА\"  1204294   \n",
      "4       КНП \"ВЕЛИКОБАГАЧАНСЬКА ЦЕНТРАЛЬНА РАЙОННА ЛІКА...  1999201   \n",
      "...                                                   ...      ...   \n",
      "260018  КНП \"ГАДЯЦЬКА ЦЕНТРАЛЬНА РАЙОННА ЛІКАРНЯ\" ГАДЯ...  1999218   \n",
      "260019  КНП \"ГАДЯЦЬКА ЦЕНТРАЛЬНА РАЙОННА ЛІКАРНЯ\" ГАДЯ...  1999218   \n",
      "260020  КНП \"ГАДЯЦЬКА ЦЕНТРАЛЬНА РАЙОННА ЛІКАРНЯ\" ГАДЯ...  1999218   \n",
      "260021  КНП \"ГАДЯЦЬКА ЦЕНТРАЛЬНА РАЙОННА ЛІКАРНЯ\" ГАДЯ...  1999218   \n",
      "260022  КНП \"ГАДЯЦЬКА ЦЕНТРАЛЬНА РАЙОННА ЛІКАРНЯ\" ГАДЯ...  1999218   \n",
      "\n",
      "                                    код запису  \\\n",
      "0       {B8F37486-3507-4E80-99EA-27713E81BFC6}   \n",
      "1       {037EDDEA-717A-4063-8D79-398613D00127}   \n",
      "2       {51B28698-1612-4201-97E9-F74C40EABCD3}   \n",
      "3       {939CB8B9-D304-4DEF-8FDA-2D6781A709AB}   \n",
      "4       {3A90B047-1571-458F-93E0-26F215D7E3D1}   \n",
      "...                                        ...   \n",
      "260018  {4C5C9B4B-3139-4015-BE92-A9678A14A725}   \n",
      "260019  {CF724A02-3412-464F-B32D-ED4341D3D720}   \n",
      "260020  {C08473BC-F16A-43AA-BB78-F3B4FA9281BC}   \n",
      "260021  {2B72C059-8111-45EE-898C-6DE49A4D0CAE}   \n",
      "260022  {C88AB71C-F0ED-47D5-A2B1-9AFA90884DDB}   \n",
      "\n",
      "       дата введення форми 066/o в систему     id  gender birth date  \\\n",
      "0                               2018-02-23   3953       1 1956-01-29   \n",
      "1                               2018-02-02   4062       1 1936-04-12   \n",
      "2                               2018-09-11   8883       1 1947-01-14   \n",
      "3                               2018-03-30  4350C       2 1970-03-04   \n",
      "4                               2018-03-01   3909       1 1963-04-19   \n",
      "...                                    ...    ...     ...        ...   \n",
      "260018                          2018-12-24   7011       1 2013-01-25   \n",
      "260019                          2018-12-21   6959       1 1961-09-30   \n",
      "260020                          2018-12-20  і-843       1 1981-12-22   \n",
      "260021                          2018-12-24  і-857       1 1962-03-04   \n",
      "260022                          2018-12-21   6960       2 1955-02-01   \n",
      "\n",
      "        age in days hospitalization date discharge date  ...  \\\n",
      "0             22607           2017-12-21     2018-01-01  ...   \n",
      "1             29839           2017-12-22     2018-01-01  ...   \n",
      "2             25916           2017-12-28     2018-01-01  ...   \n",
      "3             17461           2017-12-23     2018-01-01  ...   \n",
      "4             19967           2017-12-18     2018-01-01  ...   \n",
      "...             ...                  ...            ...  ...   \n",
      "260018         2159           2018-12-24     2018-12-31  ...   \n",
      "260019        20901           2018-12-21     2018-12-31  ...   \n",
      "260020        13512           2018-12-20     2018-12-31  ...   \n",
      "260021        20749           2018-12-24     2018-12-31  ...   \n",
      "260022        23334           2018-12-21     2018-12-31  ...   \n",
      "\n",
      "       concomitant diagnosis 2 concomitant diagnosis 3  \\\n",
      "0                          NaN                     NaN   \n",
      "1                       B02.2†                   M79.2   \n",
      "2                        I67.2                   I11.9   \n",
      "3                          NaN                     NaN   \n",
      "4                          NaN                     NaN   \n",
      "...                        ...                     ...   \n",
      "260018                     NaN                     NaN   \n",
      "260019                     NaN                     NaN   \n",
      "260020                   J01.0                     NaN   \n",
      "260021                     NaN                     NaN   \n",
      "260022                     NaN                     NaN   \n",
      "\n",
      "       concomitant diagnosis 4 concomitant diagnosis 5 manipulation code 1  \\\n",
      "0                          NaN                     NaN                 NaN   \n",
      "1                          NaN                     NaN                 NaN   \n",
      "2                        I25.1                   E11.6                 NaN   \n",
      "3                          NaN                     NaN              HJ7.01   \n",
      "4                          NaN                     NaN                 NaN   \n",
      "...                        ...                     ...                 ...   \n",
      "260018                     NaN                     NaN                 NaN   \n",
      "260019                     NaN                     NaN                 NaN   \n",
      "260020                     NaN                     NaN                 NaN   \n",
      "260021                     NaN                     NaN                 NaN   \n",
      "260022                     NaN                     NaN                 NaN   \n",
      "\n",
      "       manipulation code 2 manipulation code 3 manipulation code 4  \\\n",
      "0                      NaN                 NaN                 NaN   \n",
      "1                      NaN                 NaN                 NaN   \n",
      "2                      NaN                 NaN                 NaN   \n",
      "3                      NaN                 NaN                 NaN   \n",
      "4                      NaN                 NaN                 NaN   \n",
      "...                    ...                 ...                 ...   \n",
      "260018                 NaN                 NaN                 NaN   \n",
      "260019                 NaN                 NaN                 NaN   \n",
      "260020                 NaN                 NaN                 NaN   \n",
      "260021                 NaN                 NaN                 NaN   \n",
      "260022                 NaN                 NaN                 NaN   \n",
      "\n",
      "       manipulation code 5 result  \n",
      "0                      NaN      0  \n",
      "1                      NaN      0  \n",
      "2                      NaN      0  \n",
      "3                      NaN      0  \n",
      "4                      NaN      0  \n",
      "...                    ...    ...  \n",
      "260018                 NaN      0  \n",
      "260019                 NaN      0  \n",
      "260020                 NaN      0  \n",
      "260021                 NaN      0  \n",
      "260022                 NaN      0  \n",
      "\n",
      "[260023 rows x 22 columns]>\n"
     ]
    }
   ],
   "source": [
    "print(poltava18.head)"
   ]
  },
  {
   "cell_type": "code",
   "execution_count": 8,
   "metadata": {},
   "outputs": [],
   "source": [
    "import string\n",
    "import re\n",
    "def get_first_symbol(str):\n",
    "    for char in str:\n",
    "        #if (char in string.ascii_letters) or (char is char.isalpha()):\n",
    "        #if (bool(re.match('[а-яА-Я]', str))) or (char is char.isalpha()):\n",
    "        if char not in [\"'\", '\"', \"-\"]:\n",
    "            return char"
   ]
  },
  {
   "cell_type": "code",
   "execution_count": 9,
   "metadata": {},
   "outputs": [],
   "source": [
    "def get_first_letters(string):\n",
    "    string = string.replace('\"', '')\n",
    "    list_of_strings = string.split()\n",
    "    s = \"\"\n",
    "    for n in range(1, len(list_of_strings)):\n",
    "        \n",
    "        s = s + get_first_symbol(list_of_strings[n])\n",
    "    return list_of_strings[0] + \"_\" + s"
   ]
  },
  {
   "cell_type": "code",
   "execution_count": 10,
   "metadata": {},
   "outputs": [],
   "source": [
    "poltava18['HospitalAbb'] = poltava18['Hospital'].apply(get_first_letters)"
   ]
  },
  {
   "cell_type": "code",
   "execution_count": 11,
   "metadata": {},
   "outputs": [
    {
     "name": "stdout",
     "output_type": "stream",
     "text": [
      "['КНП_ВЦРЛВРРПО' 'КНП_ЗЦРЛЗРРПО' 'КП_1МКЛПМР' 'КНМП_КМЛП' 'КНП_МЦРЛМРР'\n",
      " 'КНП_ЛІЛІРМГПГМРПО' 'КП_5МКЛПМР' 'КП_ПОНДПОР' 'КНМП_КМДЛ' 'КП_ЛЛІЛЛМР'\n",
      " 'КП_МКПБПМР' 'КНП_ХЦРЛХРРПО' 'КНМП_КПЦІР' 'КНМП_КПМЛІ' 'КП_ПЦРЛПРР'\n",
      " 'КНП_НЦРЛНРРПО' 'КП_КОНДПОР' 'КНП_ШЦРЛШРРПО' 'КП_3МКЛПМР' 'КП_ПОКІЛПОР'\n",
      " 'КНП_ПЦРКЛПРР' 'КП_ОКЛВЛТДЗОЦПСТРЛМГПОР' 'КНП_ЛРЛЛРР' 'КНП_ГЦРЛГРР'\n",
      " 'КНП_ГЦРЛГРРПО' 'КП_ПОКЛІМПОР' 'КНМП_ГЦРЛГРРПО' 'КНП_КЦРЛКРР'\n",
      " 'КП_2МКЛПМР' 'КНП_КЦРЛІР' 'КНМП_ЛІЛК' 'КНП_ОЦРЛОРРПО' 'КНП_КРРКЦРЛ'\n",
      " 'КНМП_ЛВЛ' 'КНП_ЧРЛЧРРПО' 'КНП_МЦРЛМРРПО' 'КНП_РЦРЛРРРПО' 'КНП_КЦРЛКРРПО'\n",
      " 'КНП_ЧЦРЛ' 'КНП_ДЛПЛДРР' 'КП_4МКЛПМР' 'КП_ПОДКЛПОР' 'КМП_ЛП' 'КП_ЛОНДПОР'\n",
      " 'КП_СЦРЛСРР' 'КП_ПОКШДПОР']\n"
     ]
    }
   ],
   "source": [
    "print(poltava18['HospitalAbb'].unique())"
   ]
  },
  {
   "cell_type": "code",
   "execution_count": 12,
   "metadata": {},
   "outputs": [],
   "source": [
    "poltava18['hospital_id'] = poltava18[\"id\"] + \"_\" + poltava18[\"HospitalAbb\"]\n"
   ]
  },
  {
   "cell_type": "code",
   "execution_count": 13,
   "metadata": {},
   "outputs": [],
   "source": [
    "poltava18 = poltava18.rename(columns={'код запису':'code_of_entry'})"
   ]
  },
  {
   "cell_type": "code",
   "execution_count": 14,
   "metadata": {},
   "outputs": [
    {
     "name": "stdout",
     "output_type": "stream",
     "text": [
      "(260023, 24)\n",
      "(260023, 24)\n"
     ]
    }
   ],
   "source": [
    "print(poltava18.shape)\n",
    "poltava18_1 = poltava18.drop_duplicates(subset=['code_of_entry'])\n",
    "print(poltava18_1.shape)"
   ]
  },
  {
   "cell_type": "code",
   "execution_count": 15,
   "metadata": {},
   "outputs": [
    {
     "data": {
      "text/html": [
       "<div>\n",
       "<style scoped>\n",
       "    .dataframe tbody tr th:only-of-type {\n",
       "        vertical-align: middle;\n",
       "    }\n",
       "\n",
       "    .dataframe tbody tr th {\n",
       "        vertical-align: top;\n",
       "    }\n",
       "\n",
       "    .dataframe thead th {\n",
       "        text-align: right;\n",
       "    }\n",
       "</style>\n",
       "<table border=\"1\" class=\"dataframe\">\n",
       "  <thead>\n",
       "    <tr style=\"text-align: right;\">\n",
       "      <th></th>\n",
       "      <th>Hospital</th>\n",
       "      <th>ЄДРПОУ</th>\n",
       "      <th>code_of_entry</th>\n",
       "      <th>дата введення форми 066/o в систему</th>\n",
       "      <th>id</th>\n",
       "      <th>gender</th>\n",
       "      <th>birth date</th>\n",
       "      <th>age in days</th>\n",
       "      <th>hospitalization date</th>\n",
       "      <th>discharge date</th>\n",
       "      <th>...</th>\n",
       "      <th>concomitant diagnosis 4</th>\n",
       "      <th>concomitant diagnosis 5</th>\n",
       "      <th>manipulation code 1</th>\n",
       "      <th>manipulation code 2</th>\n",
       "      <th>manipulation code 3</th>\n",
       "      <th>manipulation code 4</th>\n",
       "      <th>manipulation code 5</th>\n",
       "      <th>result</th>\n",
       "      <th>HospitalAbb</th>\n",
       "      <th>hospital_id</th>\n",
       "    </tr>\n",
       "  </thead>\n",
       "  <tbody>\n",
       "  </tbody>\n",
       "</table>\n",
       "<p>0 rows × 24 columns</p>\n",
       "</div>"
      ],
      "text/plain": [
       "Empty DataFrame\n",
       "Columns: [Hospital, ЄДРПОУ, code_of_entry, дата введення форми 066/o в систему, id, gender, birth date, age in days, hospitalization date, discharge date, main diagnosis, concomitant diagnosis 1, concomitant diagnosis 2, concomitant diagnosis 3, concomitant diagnosis 4, concomitant diagnosis 5, manipulation code 1, manipulation code 2, manipulation code 3, manipulation code 4, manipulation code 5, result, HospitalAbb, hospital_id]\n",
       "Index: []\n",
       "\n",
       "[0 rows x 24 columns]"
      ]
     },
     "execution_count": 15,
     "metadata": {},
     "output_type": "execute_result"
    }
   ],
   "source": [
    "df = poltava18_1\n",
    "ids = df[\"code_of_entry\"]\n",
    "df[ids.isin(ids[ids.duplicated()])].sort_values(\"code_of_entry\")"
   ]
  },
  {
   "cell_type": "code",
   "execution_count": 16,
   "metadata": {},
   "outputs": [],
   "source": [
    "poltava18_1['hospitalization date'] = pd.to_datetime(poltava18_1['hospitalization date'])\n",
    "poltava18_1['discharge date'] = pd.to_datetime(poltava18_1['discharge date'])\n",
    "#df_test['First_Date'].sub(df_test['Second Date'], axis=0)\n",
    "poltava18_1[\"days_in_hospital\"] = poltava18_1[\"discharge date\"].sub(poltava18_1[\"hospitalization date\"], axis = 0)"
   ]
  },
  {
   "cell_type": "code",
   "execution_count": 18,
   "metadata": {},
   "outputs": [],
   "source": [
    "import numpy as np\n",
    "poltava18_1['days_in_hospital'] = poltava18_1['days_in_hospital'] / np.timedelta64(1, 'D')\n",
    "poltava18_1['days_in_hospital'] = poltava18_1['days_in_hospital'] + 1"
   ]
  },
  {
   "cell_type": "code",
   "execution_count": 19,
   "metadata": {},
   "outputs": [
    {
     "name": "stdout",
     "output_type": "stream",
     "text": [
      "2591266.0\n"
     ]
    }
   ],
   "source": [
    "print(poltava18_1['days_in_hospital'].sum())"
   ]
  },
  {
   "cell_type": "code",
   "execution_count": 20,
   "metadata": {},
   "outputs": [
    {
     "name": "stdout",
     "output_type": "stream",
     "text": [
      "                                     code_of_entry\n",
      "Date                                              \n",
      "2018-07-18  {00004563-4D53-4695-B0DC-D9564E0B7F0D}\n",
      "2018-07-19  {00004563-4D53-4695-B0DC-D9564E0B7F0D}\n",
      "2018-07-20  {00004563-4D53-4695-B0DC-D9564E0B7F0D}\n",
      "2018-12-12  {00008388-509A-40D9-AAAE-F62C1C5B0F8D}\n",
      "2018-12-13  {00008388-509A-40D9-AAAE-F62C1C5B0F8D}\n",
      "...                                            ...\n",
      "2018-04-01  {FFFF5A6F-FEAA-4C04-861D-CEEC30675ECA}\n",
      "2018-04-02  {FFFF5A6F-FEAA-4C04-861D-CEEC30675ECA}\n",
      "2018-04-03  {FFFF5A6F-FEAA-4C04-861D-CEEC30675ECA}\n",
      "2018-04-04  {FFFF5A6F-FEAA-4C04-861D-CEEC30675ECA}\n",
      "2018-05-14  {FFFF6C4F-4F9F-4760-B43B-87DD0CC32CF2}\n",
      "\n",
      "[2591266 rows x 1 columns]\n"
     ]
    }
   ],
   "source": [
    "poltavaD = poltava18_1.loc[:, ['code_of_entry', 'hospitalization date', 'discharge date']]\n",
    "df = poltavaD\n",
    "df['hospitalization date'] = pd.to_datetime(df['hospitalization date'])\n",
    "df['discharge date'] = pd.to_datetime(df['discharge date'])\n",
    "\n",
    "df2 = pd.melt(df, id_vars='code_of_entry', value_name='Date')\n",
    "df2.Date = pd.to_datetime(df2.Date)\n",
    "df2.set_index('Date', inplace=True)\n",
    "df2.drop('variable', axis=1, inplace=True)\n",
    "df3 = df2.groupby('code_of_entry').resample('D').ffill().reset_index(level=0, drop=True)\n",
    "print(df3)"
   ]
  },
  {
   "cell_type": "code",
   "execution_count": 21,
   "metadata": {},
   "outputs": [],
   "source": [
    "df3 = df3.reset_index()"
   ]
  },
  {
   "cell_type": "code",
   "execution_count": 22,
   "metadata": {},
   "outputs": [],
   "source": [
    "df4 = pd.merge(df, df3)"
   ]
  },
  {
   "cell_type": "code",
   "execution_count": 24,
   "metadata": {},
   "outputs": [
    {
     "data": {
      "text/html": [
       "<div>\n",
       "<style scoped>\n",
       "    .dataframe tbody tr th:only-of-type {\n",
       "        vertical-align: middle;\n",
       "    }\n",
       "\n",
       "    .dataframe tbody tr th {\n",
       "        vertical-align: top;\n",
       "    }\n",
       "\n",
       "    .dataframe thead th {\n",
       "        text-align: right;\n",
       "    }\n",
       "</style>\n",
       "<table border=\"1\" class=\"dataframe\">\n",
       "  <thead>\n",
       "    <tr style=\"text-align: right;\">\n",
       "      <th></th>\n",
       "      <th>code_of_entry</th>\n",
       "      <th>hospitalization date</th>\n",
       "      <th>discharge date</th>\n",
       "      <th>Date</th>\n",
       "    </tr>\n",
       "  </thead>\n",
       "  <tbody>\n",
       "    <tr>\n",
       "      <th>0</th>\n",
       "      <td>{B8F37486-3507-4E80-99EA-27713E81BFC6}</td>\n",
       "      <td>2017-12-21</td>\n",
       "      <td>2018-01-01</td>\n",
       "      <td>2017-12-21</td>\n",
       "    </tr>\n",
       "    <tr>\n",
       "      <th>1</th>\n",
       "      <td>{B8F37486-3507-4E80-99EA-27713E81BFC6}</td>\n",
       "      <td>2017-12-21</td>\n",
       "      <td>2018-01-01</td>\n",
       "      <td>2017-12-22</td>\n",
       "    </tr>\n",
       "    <tr>\n",
       "      <th>2</th>\n",
       "      <td>{B8F37486-3507-4E80-99EA-27713E81BFC6}</td>\n",
       "      <td>2017-12-21</td>\n",
       "      <td>2018-01-01</td>\n",
       "      <td>2017-12-23</td>\n",
       "    </tr>\n",
       "    <tr>\n",
       "      <th>3</th>\n",
       "      <td>{B8F37486-3507-4E80-99EA-27713E81BFC6}</td>\n",
       "      <td>2017-12-21</td>\n",
       "      <td>2018-01-01</td>\n",
       "      <td>2017-12-24</td>\n",
       "    </tr>\n",
       "    <tr>\n",
       "      <th>4</th>\n",
       "      <td>{B8F37486-3507-4E80-99EA-27713E81BFC6}</td>\n",
       "      <td>2017-12-21</td>\n",
       "      <td>2018-01-01</td>\n",
       "      <td>2017-12-25</td>\n",
       "    </tr>\n",
       "    <tr>\n",
       "      <th>...</th>\n",
       "      <td>...</td>\n",
       "      <td>...</td>\n",
       "      <td>...</td>\n",
       "      <td>...</td>\n",
       "    </tr>\n",
       "    <tr>\n",
       "      <th>2591261</th>\n",
       "      <td>{C88AB71C-F0ED-47D5-A2B1-9AFA90884DDB}</td>\n",
       "      <td>2018-12-21</td>\n",
       "      <td>2018-12-31</td>\n",
       "      <td>2018-12-27</td>\n",
       "    </tr>\n",
       "    <tr>\n",
       "      <th>2591262</th>\n",
       "      <td>{C88AB71C-F0ED-47D5-A2B1-9AFA90884DDB}</td>\n",
       "      <td>2018-12-21</td>\n",
       "      <td>2018-12-31</td>\n",
       "      <td>2018-12-28</td>\n",
       "    </tr>\n",
       "    <tr>\n",
       "      <th>2591263</th>\n",
       "      <td>{C88AB71C-F0ED-47D5-A2B1-9AFA90884DDB}</td>\n",
       "      <td>2018-12-21</td>\n",
       "      <td>2018-12-31</td>\n",
       "      <td>2018-12-29</td>\n",
       "    </tr>\n",
       "    <tr>\n",
       "      <th>2591264</th>\n",
       "      <td>{C88AB71C-F0ED-47D5-A2B1-9AFA90884DDB}</td>\n",
       "      <td>2018-12-21</td>\n",
       "      <td>2018-12-31</td>\n",
       "      <td>2018-12-30</td>\n",
       "    </tr>\n",
       "    <tr>\n",
       "      <th>2591265</th>\n",
       "      <td>{C88AB71C-F0ED-47D5-A2B1-9AFA90884DDB}</td>\n",
       "      <td>2018-12-21</td>\n",
       "      <td>2018-12-31</td>\n",
       "      <td>2018-12-31</td>\n",
       "    </tr>\n",
       "  </tbody>\n",
       "</table>\n",
       "<p>2591266 rows × 4 columns</p>\n",
       "</div>"
      ],
      "text/plain": [
       "                                  code_of_entry hospitalization date  \\\n",
       "0        {B8F37486-3507-4E80-99EA-27713E81BFC6}           2017-12-21   \n",
       "1        {B8F37486-3507-4E80-99EA-27713E81BFC6}           2017-12-21   \n",
       "2        {B8F37486-3507-4E80-99EA-27713E81BFC6}           2017-12-21   \n",
       "3        {B8F37486-3507-4E80-99EA-27713E81BFC6}           2017-12-21   \n",
       "4        {B8F37486-3507-4E80-99EA-27713E81BFC6}           2017-12-21   \n",
       "...                                         ...                  ...   \n",
       "2591261  {C88AB71C-F0ED-47D5-A2B1-9AFA90884DDB}           2018-12-21   \n",
       "2591262  {C88AB71C-F0ED-47D5-A2B1-9AFA90884DDB}           2018-12-21   \n",
       "2591263  {C88AB71C-F0ED-47D5-A2B1-9AFA90884DDB}           2018-12-21   \n",
       "2591264  {C88AB71C-F0ED-47D5-A2B1-9AFA90884DDB}           2018-12-21   \n",
       "2591265  {C88AB71C-F0ED-47D5-A2B1-9AFA90884DDB}           2018-12-21   \n",
       "\n",
       "        discharge date       Date  \n",
       "0           2018-01-01 2017-12-21  \n",
       "1           2018-01-01 2017-12-22  \n",
       "2           2018-01-01 2017-12-23  \n",
       "3           2018-01-01 2017-12-24  \n",
       "4           2018-01-01 2017-12-25  \n",
       "...                ...        ...  \n",
       "2591261     2018-12-31 2018-12-27  \n",
       "2591262     2018-12-31 2018-12-28  \n",
       "2591263     2018-12-31 2018-12-29  \n",
       "2591264     2018-12-31 2018-12-30  \n",
       "2591265     2018-12-31 2018-12-31  \n",
       "\n",
       "[2591266 rows x 4 columns]"
      ]
     },
     "execution_count": 24,
     "metadata": {},
     "output_type": "execute_result"
    }
   ],
   "source": [
    "df4"
   ]
  },
  {
   "cell_type": "code",
   "execution_count": 25,
   "metadata": {},
   "outputs": [],
   "source": [
    "df4 = pd.merge(df3, poltava18_1)"
   ]
  },
  {
   "cell_type": "code",
   "execution_count": 26,
   "metadata": {},
   "outputs": [],
   "source": [
    "pdays18 = df4"
   ]
  },
  {
   "cell_type": "code",
   "execution_count": 27,
   "metadata": {},
   "outputs": [],
   "source": [
    "pdays_18_all = pdays18\n",
    "pdays_18 = pdays_18_all[pdays_18_all[\"Date\"] >= '2018-1-1']"
   ]
  },
  {
   "cell_type": "code",
   "execution_count": 28,
   "metadata": {},
   "outputs": [],
   "source": [
    "pdays_18_all.to_pickle(\"Poltava2018_days_all.pkl\")"
   ]
  },
  {
   "cell_type": "code",
   "execution_count": null,
   "metadata": {},
   "outputs": [],
   "source": []
  }
 ],
 "metadata": {
  "kernelspec": {
   "display_name": "Python 3",
   "language": "python",
   "name": "python3"
  },
  "language_info": {
   "codemirror_mode": {
    "name": "ipython",
    "version": 3
   },
   "file_extension": ".py",
   "mimetype": "text/x-python",
   "name": "python",
   "nbconvert_exporter": "python",
   "pygments_lexer": "ipython3",
   "version": "3.7.6"
  }
 },
 "nbformat": 4,
 "nbformat_minor": 4
}
