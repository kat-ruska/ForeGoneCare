{
 "cells": [
  {
   "cell_type": "code",
   "execution_count": 1,
   "metadata": {},
   "outputs": [],
   "source": [
    "import pandas as pd\n",
    "import numpy as np\n",
    "import matplotlib.pyplot as plt"
   ]
  },
  {
   "cell_type": "code",
   "execution_count": 70,
   "metadata": {},
   "outputs": [],
   "source": [
    "pdays181920 = pd.read_pickle(\"../mydata/Poltava181920_days_all.pkl\")"
   ]
  },
  {
   "cell_type": "code",
   "execution_count": 71,
   "metadata": {},
   "outputs": [
    {
     "name": "stdout",
     "output_type": "stream",
     "text": [
      "['Date' 'code_of_entry' 'Hospital' 'ЄДРПОУ'\n",
      " 'дата введення форми 066/o в систему' 'id' 'gender' 'birth date'\n",
      " 'age in days' 'hospitalization date' 'discharge date' 'main diagnosis'\n",
      " 'concomitant diagnosis 1' 'concomitant diagnosis 2'\n",
      " 'concomitant diagnosis 3' 'concomitant diagnosis 4'\n",
      " 'concomitant diagnosis 5' 'manipulation code 1' 'manipulation code 2'\n",
      " 'manipulation code 3' 'manipulation code 4' 'manipulation code 5'\n",
      " 'result' 'HospitalAbb' 'hospital_id' 'days_in_hospital'\n",
      " 'main_diagnosis_L1' 'main_diagnosis_L1_name' 'main_diagnosis_L2'\n",
      " 'main_diagnosis_L2_name' 'main_diagnosis_L3' 'main_diagnosis_L3_name'\n",
      " 'main_diagnosis_name']\n"
     ]
    }
   ],
   "source": [
    "print(pdays181920.columns.values)"
   ]
  },
  {
   "cell_type": "code",
   "execution_count": 72,
   "metadata": {},
   "outputs": [
    {
     "name": "stdout",
     "output_type": "stream",
     "text": [
      "0          1999106\n",
      "1          1999106\n",
      "2          1999106\n",
      "3          1999514\n",
      "4          1999514\n",
      "            ...   \n",
      "465908    13961403\n",
      "465909    13961403\n",
      "465910    13961403\n",
      "465911    13961403\n",
      "465912    13961403\n",
      "Name: ЄДРПОУ, Length: 5374347, dtype: int64\n"
     ]
    }
   ],
   "source": [
    "print(pdays181920['ЄДРПОУ'])"
   ]
  },
  {
   "cell_type": "code",
   "execution_count": 5,
   "metadata": {},
   "outputs": [
    {
     "name": "stdout",
     "output_type": "stream",
     "text": [
      "(5374347, 33)\n"
     ]
    }
   ],
   "source": [
    "print(pdays181920.shape)"
   ]
  },
  {
   "cell_type": "code",
   "execution_count": 6,
   "metadata": {},
   "outputs": [],
   "source": [
    "pdays181920.drop_duplicates(subset=['code_of_entry'], keep='first', inplace = True)"
   ]
  },
  {
   "cell_type": "code",
   "execution_count": 7,
   "metadata": {},
   "outputs": [
    {
     "name": "stdout",
     "output_type": "stream",
     "text": [
      "(581161, 33)\n"
     ]
    }
   ],
   "source": [
    "print(pdays181920.shape)"
   ]
  },
  {
   "cell_type": "code",
   "execution_count": 10,
   "metadata": {},
   "outputs": [
    {
     "name": "stdout",
     "output_type": "stream",
     "text": [
      "0\n",
      "0\n",
      "0\n",
      "1345863.6363636365\n",
      "0\n",
      "0\n"
     ]
    }
   ],
   "source": [
    "print(pdays181920['ЄДРПОУ'].isna().sum())\n",
    "print(pdays181920['birth date'].isna().sum())\n",
    "print(pdays181920['main diagnosis'].isna().sum())\n",
    "print(pdays181920['manipulation code 1'].isna().sum())\n",
    "print(pdays181920['result'].isna().sum())\n",
    "print(pdays181920['gender'].isna().sum())"
   ]
  },
  {
   "cell_type": "code",
   "execution_count": 11,
   "metadata": {},
   "outputs": [
    {
     "name": "stdout",
     "output_type": "stream",
     "text": [
      "444135\n"
     ]
    }
   ],
   "source": [
    "print(pdays181920['manipulation code 1'].isna().sum())"
   ]
  },
  {
   "cell_type": "code",
   "execution_count": 13,
   "metadata": {},
   "outputs": [
    {
     "data": {
      "text/plain": [
       "0.23577975810489693"
      ]
     },
     "execution_count": 13,
     "metadata": {},
     "output_type": "execute_result"
    }
   ],
   "source": [
    "1-444135/581161"
   ]
  },
  {
   "cell_type": "code",
   "execution_count": 15,
   "metadata": {},
   "outputs": [],
   "source": [
    "pdays20_4 = pd.read_pickle(\"../mydata/Poltava2020_4_days_all_diagnosis.pkl\")"
   ]
  },
  {
   "cell_type": "code",
   "execution_count": 16,
   "metadata": {},
   "outputs": [
    {
     "name": "stdout",
     "output_type": "stream",
     "text": [
      "['Date' 'Record_ID' 'index' 'Hospital_ID' 'Reporting_Month' 'Data_Source'\n",
      " 'Type_of_Referral' 'Finance_Program' 'Referral_ID'\n",
      " 'Position_of_Doctor_Who_Gave_Referral' 'ID_of_Paper_Referral'\n",
      " 'System_Input_Date' 'Hospitalization_Visit_Date' 'Discharge_Date'\n",
      " 'Stationary/Ambulatory' 'Episode_ID' 'Episode_Type'\n",
      " 'Medical_Record_Status' 'Type_of_Care' 'Urgency' 'Main_Diagnosis_Code'\n",
      " 'Main_Diagnosis' 'Chronical_Illness' 'Additiona_Diagnosis_Codes'\n",
      " 'Assitional_Diagnosis' 'Medical_Procedures_Codes' 'Procedures'\n",
      " 'Comment_to_Procedures' 'Doctor' 'Doctor_Position'\n",
      " 'Diagnostic_Report_Date' 'Diagnostic_Report_ID'\n",
      " 'Medical_Services_Of_Diagnostic_Report_Codes'\n",
      " 'Medical_Services_of_Diagnostic_Report'\n",
      " 'Doctor_Position_of_Diagnostic_Report' 'Doctor_of_Diagnostic_Report'\n",
      " 'Date_of_Procedure' 'Procedure_ID' 'Services_of_Procedures_Codes'\n",
      " 'Services_of_Procedures' 'Doctor_Position_Procedures' 'Doctor_Procedures'\n",
      " 'Number_of_Diagnostic_Reports' 'Number_of_Procedures'\n",
      " 'Weight_when_Hospitalized' 'Patient_Age_Days' 'Patient_Age_Years'\n",
      " 'Patient_Gender' 'Package_Id' 'Procedure_ID.1' 'Service_Name'\n",
      " 'Compliance_Comment' 'ADSG' 'UDSG' 'Reason_of_Visit' 'Result_of_Care'\n",
      " 'Errors_in_Grouping' 'Patient_ID' 'Days_In_Hospital'\n",
      " 'Hospitalization_Month' 'Hospitalization_Date' 'Discharge_Month'\n",
      " 'Discharge_Day' 'Discharge_Year' 'Hospitalization_Day'\n",
      " 'Main_Diagnosis_L1' 'Main_Diagnosis_L1_name' 'Main_Diagnosis_L2'\n",
      " 'Main_Diagnosis_L2_name' 'Main_Diagnosis_L3' 'Main_Diagnosis_L3_name']\n"
     ]
    }
   ],
   "source": [
    "print(pdays20_4.columns.values)"
   ]
  },
  {
   "cell_type": "code",
   "execution_count": 18,
   "metadata": {},
   "outputs": [],
   "source": [
    "pdays20_4['MyRecord_ID'] = pdays20_4['Record_ID'].astype(str) + \"_\" + pdays20_4['Hospital_ID'].astype(str)"
   ]
  },
  {
   "cell_type": "code",
   "execution_count": 19,
   "metadata": {},
   "outputs": [],
   "source": [
    "pdays20_4.drop_duplicates(subset=['MyRecord_ID'], keep='first', inplace = True)"
   ]
  },
  {
   "cell_type": "code",
   "execution_count": 20,
   "metadata": {},
   "outputs": [
    {
     "name": "stdout",
     "output_type": "stream",
     "text": [
      "(58301, 72)\n"
     ]
    }
   ],
   "source": [
    "print(pdays20_4.shape)"
   ]
  },
  {
   "cell_type": "code",
   "execution_count": 22,
   "metadata": {},
   "outputs": [
    {
     "name": "stdout",
     "output_type": "stream",
     "text": [
      "3428\n"
     ]
    }
   ],
   "source": [
    "print(pdays20_4['Type_of_Referral'].isna().sum())"
   ]
  },
  {
   "cell_type": "code",
   "execution_count": 23,
   "metadata": {},
   "outputs": [
    {
     "data": {
      "text/plain": [
       "0              Без направлення\n",
       "12        Паперове направлення\n",
       "16             Без направлення\n",
       "17        Паперове направлення\n",
       "23        Паперове направлення\n",
       "                  ...         \n",
       "440659                     NaN\n",
       "440663                     NaN\n",
       "440670                     NaN\n",
       "440677                     NaN\n",
       "440684                     NaN\n",
       "Name: Type_of_Referral, Length: 58301, dtype: object"
      ]
     },
     "execution_count": 23,
     "metadata": {},
     "output_type": "execute_result"
    }
   ],
   "source": [
    "pdays20_4['Type_of_Referral']"
   ]
  },
  {
   "cell_type": "code",
   "execution_count": 24,
   "metadata": {},
   "outputs": [
    {
     "name": "stdout",
     "output_type": "stream",
     "text": [
      "51591\n"
     ]
    }
   ],
   "source": [
    "print(pdays20_4['Position_of_Doctor_Who_Gave_Referral'].isna().sum())"
   ]
  },
  {
   "cell_type": "code",
   "execution_count": 25,
   "metadata": {},
   "outputs": [
    {
     "name": "stdout",
     "output_type": "stream",
     "text": [
      "0\n"
     ]
    }
   ],
   "source": [
    "print(pdays20_4['Stationary/Ambulatory'].isna().sum())"
   ]
  },
  {
   "cell_type": "code",
   "execution_count": 27,
   "metadata": {},
   "outputs": [
    {
     "name": "stdout",
     "output_type": "stream",
     "text": [
      "0         Виписка пацієнта, який вибув зі стаціонару\n",
      "12        Виписка пацієнта, який вибув зі стаціонару\n",
      "16        Виписка пацієнта, який вибув зі стаціонару\n",
      "17        Виписка пацієнта, який вибув зі стаціонару\n",
      "23        Виписка пацієнта, який вибув зі стаціонару\n",
      "                             ...                    \n",
      "440659                                           NaN\n",
      "440663                                           NaN\n",
      "440670                                           NaN\n",
      "440677                                           NaN\n",
      "440684                                           NaN\n",
      "Name: Type_of_Care, Length: 58301, dtype: object\n"
     ]
    }
   ],
   "source": [
    "print(pdays20_4['Type_of_Care'])"
   ]
  },
  {
   "cell_type": "code",
   "execution_count": 32,
   "metadata": {},
   "outputs": [
    {
     "name": "stdout",
     "output_type": "stream",
     "text": [
      "0\n"
     ]
    }
   ],
   "source": [
    "print(pdays20_4['Chronical_Illness'].isna().sum())"
   ]
  },
  {
   "cell_type": "code",
   "execution_count": 29,
   "metadata": {},
   "outputs": [
    {
     "data": {
      "text/plain": [
       "0.9449128724002248"
      ]
     },
     "execution_count": 29,
     "metadata": {},
     "output_type": "execute_result"
    }
   ],
   "source": [
    "1-2842/51591"
   ]
  },
  {
   "cell_type": "code",
   "execution_count": 33,
   "metadata": {},
   "outputs": [
    {
     "data": {
      "text/plain": [
       "0         Ні\n",
       "12        Ні\n",
       "16        Ні\n",
       "17        Ні\n",
       "23        Ні\n",
       "          ..\n",
       "440659    Ні\n",
       "440663    Ні\n",
       "440670    Ні\n",
       "440677    Ні\n",
       "440684    Ні\n",
       "Name: Chronical_Illness, Length: 58301, dtype: object"
      ]
     },
     "execution_count": 33,
     "metadata": {},
     "output_type": "execute_result"
    }
   ],
   "source": [
    "pdays20_4['Chronical_Illness']"
   ]
  },
  {
   "cell_type": "code",
   "execution_count": 34,
   "metadata": {},
   "outputs": [
    {
     "name": "stdout",
     "output_type": "stream",
     "text": [
      "(8033, 72)\n"
     ]
    }
   ],
   "source": [
    "print(pdays20_4[pdays20_4['Chronical_Illness'] == 'Так'].shape)"
   ]
  },
  {
   "cell_type": "code",
   "execution_count": 35,
   "metadata": {},
   "outputs": [
    {
     "name": "stdout",
     "output_type": "stream",
     "text": [
      "0\n"
     ]
    }
   ],
   "source": [
    "print(pdays20_4['Medical_Procedures_Codes'].isna().sum())"
   ]
  },
  {
   "cell_type": "code",
   "execution_count": 36,
   "metadata": {},
   "outputs": [
    {
     "data": {
      "text/plain": [
       "0                                         A67010\n",
       "12                  35572-00, 35677-05, 30397-00\n",
       "16        16571-00, 90467-00, 90220-00, 16514-01\n",
       "17                              A67010, 41701-00\n",
       "23                      A67010, A67041, 58500-00\n",
       "                           ...                  \n",
       "440659              58500-00, 56030-00, 90901-00\n",
       "440663              58500-00, 56030-00, 90901-00\n",
       "440670              58500-00, 56030-00, 90901-00\n",
       "440677              58500-00, 56030-00, 90901-00\n",
       "440684                        58500-00, 56030-00\n",
       "Name: Medical_Procedures_Codes, Length: 58301, dtype: object"
      ]
     },
     "execution_count": 36,
     "metadata": {},
     "output_type": "execute_result"
    }
   ],
   "source": [
    "pdays20_4['Medical_Procedures_Codes']"
   ]
  },
  {
   "cell_type": "code",
   "execution_count": 69,
   "metadata": {},
   "outputs": [
    {
     "data": {
      "text/plain": [
       "'Стаціонарне лікування, Інша електрокардіографія [ЕКГ], Холтерівське амбулаторне безперервне записування результатів ЕКГ, Одновимірне (М-режим) та двовимірне ультразвукове дослідження серця у реальному часі, Клінічний аналіз крові, Загальний аналіз сечі, Аналіз; глюкоза (натщесерце/не натщесерце), Аналіз; біохімія, Аналіз; коагулограма, Аналіз; серологічні маркери сифілісу'"
      ]
     },
     "execution_count": 69,
     "metadata": {},
     "output_type": "execute_result"
    }
   ],
   "source": [
    "pdays20_4['Procedures'].iloc[10]"
   ]
  },
  {
   "cell_type": "code",
   "execution_count": 38,
   "metadata": {},
   "outputs": [
    {
     "data": {
      "text/plain": [
       "0              Елбегієва Тетяна Григорівна\n",
       "12               Кикоть Антоніна Дмитрівна\n",
       "16        Шестакова Світлана Володимирівна\n",
       "17          Пономаренко Наталія Вікторівна\n",
       "23               Степченко Юлія Леонідівна\n",
       "                        ...               \n",
       "440659                                 NaN\n",
       "440663                                 NaN\n",
       "440670                                 NaN\n",
       "440677                                 NaN\n",
       "440684                                 NaN\n",
       "Name: Doctor, Length: 58301, dtype: object"
      ]
     },
     "execution_count": 38,
     "metadata": {},
     "output_type": "execute_result"
    }
   ],
   "source": [
    "pdays20_4['Doctor']"
   ]
  },
  {
   "cell_type": "code",
   "execution_count": 39,
   "metadata": {},
   "outputs": [
    {
     "name": "stdout",
     "output_type": "stream",
     "text": [
      "6929\n"
     ]
    }
   ],
   "source": [
    "print(pdays20_4['Doctor'].isna().sum())"
   ]
  },
  {
   "cell_type": "code",
   "execution_count": 40,
   "metadata": {},
   "outputs": [
    {
     "name": "stdout",
     "output_type": "stream",
     "text": [
      "3428\n"
     ]
    }
   ],
   "source": [
    "print(pdays20_4['Doctor_Position'].isna().sum())"
   ]
  },
  {
   "cell_type": "code",
   "execution_count": 41,
   "metadata": {},
   "outputs": [
    {
     "data": {
      "text/plain": [
       "0.8656936287336938"
      ]
     },
     "execution_count": 41,
     "metadata": {},
     "output_type": "execute_result"
    }
   ],
   "source": [
    "1-6929/51591"
   ]
  },
  {
   "cell_type": "code",
   "execution_count": 42,
   "metadata": {},
   "outputs": [
    {
     "data": {
      "text/plain": [
       "0.9335543021069567"
      ]
     },
     "execution_count": 42,
     "metadata": {},
     "output_type": "execute_result"
    }
   ],
   "source": [
    "1-3428/51591"
   ]
  },
  {
   "cell_type": "code",
   "execution_count": 45,
   "metadata": {},
   "outputs": [
    {
     "data": {
      "text/plain": [
       "0         -\n",
       "12        -\n",
       "16        -\n",
       "17        -\n",
       "23        -\n",
       "         ..\n",
       "440659    -\n",
       "440663    -\n",
       "440670    -\n",
       "440677    -\n",
       "440684    -\n",
       "Name: Services_of_Procedures_Codes, Length: 58301, dtype: object"
      ]
     },
     "execution_count": 45,
     "metadata": {},
     "output_type": "execute_result"
    }
   ],
   "source": [
    "pdays20_4['Services_of_Procedures_Codes']"
   ]
  },
  {
   "cell_type": "code",
   "execution_count": 48,
   "metadata": {},
   "outputs": [
    {
     "name": "stdout",
     "output_type": "stream",
     "text": [
      "12172\n"
     ]
    }
   ],
   "source": [
    "pdays20_4['Package_Id']\n",
    "print(pdays20_4['Package_Id'].isna().sum())"
   ]
  },
  {
   "cell_type": "code",
   "execution_count": 49,
   "metadata": {},
   "outputs": [
    {
     "data": {
      "text/plain": [
       "0.7640673760927293"
      ]
     },
     "execution_count": 49,
     "metadata": {},
     "output_type": "execute_result"
    }
   ],
   "source": [
    "1-12172/51591"
   ]
  },
  {
   "cell_type": "code",
   "execution_count": 50,
   "metadata": {},
   "outputs": [
    {
     "name": "stdout",
     "output_type": "stream",
     "text": [
      "12199\n"
     ]
    }
   ],
   "source": [
    "pdays20_4['Service_Name']\n",
    "print(pdays20_4['Service_Name'].isna().sum())\n"
   ]
  },
  {
   "cell_type": "code",
   "execution_count": 52,
   "metadata": {},
   "outputs": [
    {
     "data": {
      "text/plain": [
       "0                                                   NaN\n",
       "12                            За направленням паперовим\n",
       "16                                        Самозвернення\n",
       "17                            За направленням паперовим\n",
       "23        Бригадою екстреної швидкої) медичної допомоги\n",
       "                              ...                      \n",
       "440659    Бригадою екстреної швидкої) медичної допомоги\n",
       "440663    Бригадою екстреної швидкої) медичної допомоги\n",
       "440670    Бригадою екстреної швидкої) медичної допомоги\n",
       "440677    Бригадою екстреної швидкої) медичної допомоги\n",
       "440684    Бригадою екстреної швидкої) медичної допомоги\n",
       "Name: Reason_of_Visit, Length: 58301, dtype: object"
      ]
     },
     "execution_count": 52,
     "metadata": {},
     "output_type": "execute_result"
    }
   ],
   "source": [
    "pdays20_4['Reason_of_Visit']"
   ]
  },
  {
   "cell_type": "code",
   "execution_count": 53,
   "metadata": {},
   "outputs": [
    {
     "name": "stdout",
     "output_type": "stream",
     "text": [
      "8590\n"
     ]
    }
   ],
   "source": [
    "print(pdays20_4['Reason_of_Visit'].isna().sum())"
   ]
  },
  {
   "cell_type": "code",
   "execution_count": 54,
   "metadata": {},
   "outputs": [
    {
     "data": {
      "text/plain": [
       "0.833498090752263"
      ]
     },
     "execution_count": 54,
     "metadata": {},
     "output_type": "execute_result"
    }
   ],
   "source": [
    "1-8590/51591"
   ]
  },
  {
   "cell_type": "code",
   "execution_count": null,
   "metadata": {},
   "outputs": [],
   "source": [
    "I20-I25 ('Coronary Heart Diseases')\n",
    "I60-I69 ('Strokes')\n",
    "'J10-J18' ('Flu and Pneumonia')\n",
    "'U07' ('Corona', L3)\n",
    "'J00-J06' Usual cold\n",
    "'O60-O75'('complications of childbirth')"
   ]
  }
 ],
 "metadata": {
  "kernelspec": {
   "display_name": "Python 3",
   "language": "python",
   "name": "python3"
  },
  "language_info": {
   "codemirror_mode": {
    "name": "ipython",
    "version": 3
   },
   "file_extension": ".py",
   "mimetype": "text/x-python",
   "name": "python",
   "nbconvert_exporter": "python",
   "pygments_lexer": "ipython3",
   "version": "3.7.6"
  }
 },
 "nbformat": 4,
 "nbformat_minor": 4
}
