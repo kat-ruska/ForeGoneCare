{
 "cells": [
  {
   "cell_type": "code",
   "execution_count": 1,
   "metadata": {},
   "outputs": [],
   "source": [
    "import pandas as pd\n"
   ]
  },
  {
   "cell_type": "code",
   "execution_count": 2,
   "metadata": {},
   "outputs": [
    {
     "name": "stdout",
     "output_type": "stream",
     "text": [
      "It took 797.7637271881104 seconds!\n"
     ]
    }
   ],
   "source": [
    "from time import time\n",
    "start = time()\n",
    "# your script here\n",
    "\n",
    "\n",
    "ehealth_p1 = pd.read_excel(\"../data/Ehealth20_1.xlsx\", index_col = None)\n",
    "\n",
    "end = time()\n",
    "print(f'It took {end - start} seconds!')"
   ]
  },
  {
   "cell_type": "code",
   "execution_count": 2,
   "metadata": {},
   "outputs": [
    {
     "name": "stdout",
     "output_type": "stream",
     "text": [
      "It took 836.9250209331512 seconds!\n"
     ]
    }
   ],
   "source": [
    "from time import time\n",
    "start = time()\n",
    "# your script here\n",
    "\n",
    "\n",
    "ehealth_p2 = pd.read_excel(\"../data/Ehealth20_2.xlsx\", index_col = None)\n",
    "\n",
    "end = time()\n",
    "print(f'It took {end - start} seconds!')"
   ]
  },
  {
   "cell_type": "code",
   "execution_count": 17,
   "metadata": {},
   "outputs": [
    {
     "name": "stdout",
     "output_type": "stream",
     "text": [
      "It took 1075.0558989048004 seconds!\n"
     ]
    }
   ],
   "source": [
    "from time import time\n",
    "start = time()\n",
    "# your script here\n",
    "\n",
    "\n",
    "ehealth_p3 = pd.read_excel(\"../data/Ehealth20_3.xlsx\", index_col = None)\n",
    "\n",
    "end = time()\n",
    "print(f'It took {end - start} seconds!')"
   ]
  },
  {
   "cell_type": "code",
   "execution_count": 3,
   "metadata": {},
   "outputs": [
    {
     "name": "stdout",
     "output_type": "stream",
     "text": [
      "(768962, 56)\n"
     ]
    }
   ],
   "source": [
    "print(ehealth_p2.shape)"
   ]
  },
  {
   "cell_type": "code",
   "execution_count": 18,
   "metadata": {},
   "outputs": [
    {
     "name": "stdout",
     "output_type": "stream",
     "text": [
      "(768962, 56)\n"
     ]
    }
   ],
   "source": [
    "print(ehealth_p3.shape)"
   ]
  },
  {
   "cell_type": "code",
   "execution_count": 5,
   "metadata": {},
   "outputs": [
    {
     "name": "stdout",
     "output_type": "stream",
     "text": [
      "     ЄДРПОУ Звітний місяць Джерело даних ID мед. запису Тип направлення  \\\n",
      "0  22403230        травень          NHSU         s55851             NaN   \n",
      "1   1993730       вересень          NHSU        s189712             NaN   \n",
      "2  38802040       вересень          NHSU        s184042             NaN   \n",
      "3   1992481        травень          NHSU         s95287             NaN   \n",
      "4   1992481        травень          NHSU         s95298             NaN   \n",
      "\n",
      "                    Програма фінансування ID направлення  \\\n",
      "0  Програма медичних гарантій в 2020 році            NaN   \n",
      "1  Програма медичних гарантій в 2020 році            NaN   \n",
      "2  Програма медичних гарантій в 2020 році            NaN   \n",
      "3  Програма медичних гарантій в 2020 році            NaN   \n",
      "4  Програма медичних гарантій в 2020 році            NaN   \n",
      "\n",
      "  Посада лікаря з ел. направення  ЄДРПОУ з паперового направлення  \\\n",
      "0                            NaN                              NaN   \n",
      "1                            NaN                              NaN   \n",
      "2                            NaN                              NaN   \n",
      "3                            NaN                              NaN   \n",
      "4                            NaN                              NaN   \n",
      "\n",
      "      Внесено до ЕСОЗ  ... № пакету № послуги Назва послуги  \\\n",
      "0 2020-05-20 00:00:00  ...      NaN       NaN           NaN   \n",
      "1 2020-09-10 09:30:46  ...      NaN       NaN           NaN   \n",
      "2 2020-09-01 13:22:58  ...      NaN       NaN           NaN   \n",
      "3 2020-06-04 00:00:00  ...      NaN       NaN           NaN   \n",
      "4 2020-06-04 00:00:00  ...      NaN       NaN           NaN   \n",
      "\n",
      "          Коментар щодо невідповідності АДСГ УДСГ  \\\n",
      "0  Не відповідає жодному пакету/послузі  NaN  NaN   \n",
      "1                Помилки при групуванні  NaN  NaN   \n",
      "2                Помилки при групуванні  NaN  NaN   \n",
      "3                Помилки при групуванні  NaN  NaN   \n",
      "4                Помилки при групуванні  NaN  NaN   \n",
      "\n",
      "               Підстава звернення  Результат лікування  \\\n",
      "0  Переведено з іншого відділення             Без змін   \n",
      "1            Народжений у закладі             Без змін   \n",
      "2            Народжений у закладі  Статистична виписка   \n",
      "3                   Самозвернення             Без змін   \n",
      "4                   Самозвернення             Без змін   \n",
      "\n",
      "  Наявність помилок/зауважень при групуванні ID пацієнта  \n",
      "0                    Конфлікт статі пацієнта         NaN  \n",
      "1       Неприпустимий код основного діагнозу         NaN  \n",
      "2       Неприпустимий код основного діагнозу         NaN  \n",
      "3                     Конфлікт віку пацієнта         NaN  \n",
      "4                    Конфлікт статі пацієнта         NaN  \n",
      "\n",
      "[5 rows x 56 columns]\n"
     ]
    }
   ],
   "source": [
    "print(ehealth_p1.head())"
   ]
  },
  {
   "cell_type": "code",
   "execution_count": 4,
   "metadata": {},
   "outputs": [
    {
     "name": "stdout",
     "output_type": "stream",
     "text": [
      "['ЄДРПОУ', 'Звітний місяць', 'Джерело даних', 'ID мед. запису', 'Тип направлення', 'Програма фінансування', 'ID направлення', 'Посада лікаря з ел. направення', 'ЄДРПОУ з паперового направлення', 'Внесено до ЕСОЗ', 'Дата госпіталізації / початку епізоду', 'Дата амб. взаємодії / виписки зі стаціонару', 'Стац/Амб', 'ID епізоду', 'Тип епізоду', 'Статус медзапису', 'Тип взаємодії', 'Ургентність', 'Основний діагноз КОД', 'Основний діагноз', 'Хронічна хвороба', 'Дод. діагнози КОДИ', 'Дод. діагнози', 'Процедури КОДИ', 'Процедури', 'Коментар до процедур', 'Лікар, що створив взаэмодію', 'Посада лікаря, що створив взаэмодію', 'Дата діагност. звіту', 'ID діагност. звіту', 'Послуги діагност. звіту КОДИ', 'Послуги діагност. звіту', 'Посада лікаря з ДЗ', 'Лікар з ДЗ ', 'Дата процедури', 'ID процедури', 'Послуги процедури КОДИ', 'Послуги процедури', 'Посада лікаря з процедури', 'Лікар, що проводив проц.', 'К-ть діагн. звітів', 'К-ть процедур', 'Вага при госпіталізації, грамм', 'Вік пацієнта в днях', 'Вік пацієнта в роках', 'Стать пацієнта', '№ пакету', '№ послуги', 'Назва послуги', 'Коментар щодо невідповідності', 'АДСГ', 'УДСГ', 'Підстава звернення', 'Результат лікування', 'Наявність помилок/зауважень при групуванні', 'ID пацієнта']\n"
     ]
    }
   ],
   "source": [
    "original_names = list(ehealth_p2.columns.values)\n",
    "print(original_names)"
   ]
  },
  {
   "cell_type": "code",
   "execution_count": 8,
   "metadata": {},
   "outputs": [],
   "source": [
    "#ehealth_p1 = ehealth_p1.dropna(axis=1, how='all')"
   ]
  },
  {
   "cell_type": "code",
   "execution_count": 9,
   "metadata": {},
   "outputs": [
    {
     "name": "stdout",
     "output_type": "stream",
     "text": [
      "(768962, 56)\n"
     ]
    }
   ],
   "source": [
    "print(ehealth_p1.shape)"
   ]
  },
  {
   "cell_type": "code",
   "execution_count": 5,
   "metadata": {},
   "outputs": [],
   "source": [
    "new_names = ['Hospital_ID', 'Reporting_Month', 'Data_Source', 'Record_ID', 'Type_of_Referral', 'Finance_Program', 'Referral_ID', \\\n",
    "             'Position_of_Doctor_Who_Gave_Referral', 'ID_of_Paper_Referral', 'System_Input_Date', 'Hospitalization_Visit_Date', \\\n",
    "             'Discharge_Date', 'Stationary/Ambulatory', 'Episode_ID', 'Episode_Type', 'Medical_Record_Status', 'Type_of_Care', \\\n",
    "             'Urgency', 'Main_Diagnosis_Code', 'Main_Diagnosis', 'Chronical_Illness', 'Additiona_Diagnosis_Codes', 'Assitional_Diagnosis', 'Medical_Procedures_Codes', \\\n",
    "             'Procedures', 'Comment_to_Procedures', 'Doctor', 'Doctor_Position', 'Diagnostic_Report_Date', 'Diagnostic_Report_ID', \\\n",
    "             'Medical_Services_Of_Diagnostic_Report_Codes', 'Medical_Services_of_Diagnostic_Report', 'Doctor_Position_of_Diagnostic_Report', \\\n",
    "             'Doctor_of_Diagnostic_Report', 'Date_of_Procedure', 'Procedure_ID', 'Services_of_Procedures_Codes', 'Services_of_Procedures', \\\n",
    "             'Doctor_Position_Procedures', 'Doctor_Procedures', 'Number_of_Diagnostic_Reports', 'Number_of_Procedures', 'Weight_when_Hospitalized', \\\n",
    "             'Patient_Age_Days', 'Patient_Age_Years', 'Patient_Gender', 'Package_Id', 'Procedure_ID', 'Service_Name', 'Compliance_Comment', \\\n",
    "             'ADSG', 'UDSG', 'Reason_of_Visit', 'Result_of_Care', 'Errors_in_Grouping', 'Patient_ID']\n",
    "\n"
   ]
  },
  {
   "cell_type": "code",
   "execution_count": 6,
   "metadata": {},
   "outputs": [
    {
     "name": "stdout",
     "output_type": "stream",
     "text": [
      "56\n",
      "56\n"
     ]
    }
   ],
   "source": [
    "print(len(original_names))\n",
    "print(len(new_names))"
   ]
  },
  {
   "cell_type": "code",
   "execution_count": 7,
   "metadata": {},
   "outputs": [],
   "source": [
    "rename_dict =  dict(zip(original_names, new_names))"
   ]
  },
  {
   "cell_type": "code",
   "execution_count": 8,
   "metadata": {},
   "outputs": [
    {
     "name": "stdout",
     "output_type": "stream",
     "text": [
      "<bound method NDFrame.head of         Hospital_ID Reporting_Month Data_Source  \\\n",
      "0           1985995          липень     EHEALTH   \n",
      "1            184945          липень     EHEALTH   \n",
      "2            184945          липень     EHEALTH   \n",
      "3           1983826          липень     EHEALTH   \n",
      "4          40929168          липень     EHEALTH   \n",
      "...             ...             ...         ...   \n",
      "768957      2005852        листопад     EHEALTH   \n",
      "768958      2006544        листопад     EHEALTH   \n",
      "768959      1994215        листопад     EHEALTH   \n",
      "768960      2003534        листопад     EHEALTH   \n",
      "768961      2002730        листопад     EHEALTH   \n",
      "\n",
      "                                   Record_ID      Type_of_Referral  \\\n",
      "0       81455c87-f563-4a4f-ae77-11e56043c253       Без направлення   \n",
      "1       ef88a738-090e-4d1d-ae6d-b1ae2cb7bdd4       Без направлення   \n",
      "2       c0aef436-f4d9-4a45-9d5c-08fc5faf5374       Без направлення   \n",
      "3       07b2f3e5-bcf3-4828-ae84-65fb9376b3ea  Паперове направлення   \n",
      "4       46556271-5334-4309-a5a5-270c3e2bb2ee       Без направлення   \n",
      "...                                      ...                   ...   \n",
      "768957  4c58081f-8a6b-45d8-b43d-26126e3d401a       Без направлення   \n",
      "768958  e4e733ba-2c34-4281-b2d5-bb286c356cf7       Без направлення   \n",
      "768959  519bc39c-a679-4f1a-b224-ed71bcaf1e0a       Без направлення   \n",
      "768960  0a71e69e-4dda-440d-9c88-deef39e229bc       Без направлення   \n",
      "768961  be13fa70-d205-4238-b443-f916600719b9       Без направлення   \n",
      "\n",
      "       Finance_Program Referral_ID Position_of_Doctor_Who_Gave_Referral  \\\n",
      "0                  NaN         NaN                                  NaN   \n",
      "1                  NaN         NaN                                  NaN   \n",
      "2                  NaN         NaN                                  NaN   \n",
      "3                  NaN         NaN                                  NaN   \n",
      "4                  NaN         NaN                                  NaN   \n",
      "...                ...         ...                                  ...   \n",
      "768957             NaN         NaN                                  NaN   \n",
      "768958             NaN         NaN                                  NaN   \n",
      "768959             NaN         NaN                                  NaN   \n",
      "768960             NaN         NaN                                  NaN   \n",
      "768961             NaN         NaN                                  NaN   \n",
      "\n",
      "        ID_of_Paper_Referral       System_Input_Date  ... Package_Id  \\\n",
      "0                        NaN 2020-07-13 11:07:03.114  ...        7.0   \n",
      "1                        NaN 2020-07-31 10:13:28.447  ...        4.0   \n",
      "2                        NaN 2020-07-02 13:34:52.276  ...        4.0   \n",
      "3                  1983826.0 2020-07-27 13:50:11.147  ...       17.0   \n",
      "4                        NaN 2020-07-31 10:50:14.114  ...       17.0   \n",
      "...                      ...                     ...  ...        ...   \n",
      "768957                   NaN 2020-11-18 12:02:33.087  ...        4.0   \n",
      "768958                   NaN 2020-11-18 11:48:33.362  ...        4.0   \n",
      "768959                   NaN 2020-11-18 12:05:47.488  ...        4.0   \n",
      "768960                   NaN 2020-11-18 12:16:24.982  ...        4.0   \n",
      "768961                   NaN 2020-11-14 16:04:28.223  ...        4.0   \n",
      "\n",
      "       Procedure_ID                                       Service_Name  \\\n",
      "0               7.1                       Медична допомога при пологах   \n",
      "1               S03  Травми інших внутрішніх органів, грудної, чере...   \n",
      "2               T03  Інші травми, отруєння та деякі інші наслідки д...   \n",
      "3              17.1  Діагностика та хіміотерапевтичне лікування онк...   \n",
      "4              17.1  Діагностика та хіміотерапевтичне лікування онк...   \n",
      "...             ...                                                ...   \n",
      "768957          R01  Симптоми, ознаки та відхилення від норми, що в...   \n",
      "768958         I03A  Інші хвороби системи кровообігу у дорослих від...   \n",
      "768959          K06          Хвороби ротової порожнини, залоз та щелеп   \n",
      "768960          R01  Симптоми, ознаки та відхилення від норми, що в...   \n",
      "768961         J01A         Пневмонії у дорослих від 18 років і старше   \n",
      "\n",
      "       Compliance_Comment   ADSG  UDSG  \\\n",
      "0                     NaN    O60   O01   \n",
      "1                     NaN    X60   S03   \n",
      "2                     NaN    J65   T03   \n",
      "3                     NaN    D60  C01A   \n",
      "4                     NaN    J62  C01A   \n",
      "...                   ...    ...   ...   \n",
      "768957                NaN    Z64   R01   \n",
      "768958                NaN    F76  I03A   \n",
      "768959                NaN    D67   K06   \n",
      "768960                NaN    Z64   R01   \n",
      "768961                NaN  E62-1  J01A   \n",
      "\n",
      "                                      Reason_of_Visit  \\\n",
      "0                                       Самозвернення   \n",
      "1       Бригадою екстреної швидкої) медичної допомоги   \n",
      "2       Бригадою екстреної швидкої) медичної допомоги   \n",
      "3                           За направленням паперовим   \n",
      "4                           За направленням паперовим   \n",
      "...                                               ...   \n",
      "768957                                  Самозвернення   \n",
      "768958  Бригадою екстреної швидкої) медичної допомоги   \n",
      "768959                      За направленням паперовим   \n",
      "768960  Бригадою екстреної швидкої) медичної допомоги   \n",
      "768961  Бригадою екстреної швидкої) медичної допомоги   \n",
      "\n",
      "                                           Result_of_Care Errors_in_Grouping  \\\n",
      "0                                             Здоровий(а)                NaN   \n",
      "1                                   Виписаний з одужанням                NaN   \n",
      "2       Пацієнт залишив заклад охорони здоров'я всупер...                NaN   \n",
      "3                                   Виписаний з одужанням                NaN   \n",
      "4                                   Виписаний з одужанням                NaN   \n",
      "...                                                   ...                ...   \n",
      "768957                              Виписаний з одужанням                  -   \n",
      "768958                              Виписаний з одужанням                  -   \n",
      "768959                              Виписаний з одужанням                  -   \n",
      "768960                              Виписаний з одужанням                  -   \n",
      "768961                                          Помер(ла)                  -   \n",
      "\n",
      "                                               Patient_ID  \n",
      "0       F6C1F012DC40DF7C55948E26BD09A8136F0589E27171E2...  \n",
      "1       2199EBAA85CBBA23A1A73DEA7C1486A14291B55685857C...  \n",
      "2       C6DA2DCBDEC5EB73DECAB74E7AB866601CA0757276A44C...  \n",
      "3       631D0FD13D75C5D1877F35D6560039C0A3B4AA826EFD5A...  \n",
      "4       5F62B22AB69A954BF690C313A339BFF55978E13C1751FE...  \n",
      "...                                                   ...  \n",
      "768957  7355BA8DD1A1800F697683D295D62BDC4611E412699C2D...  \n",
      "768958  C22659840F65B10C6C82D2FF9A1E3FD22C83D502C1E749...  \n",
      "768959  43C54149FB9A720E089CB287D2AD254C9A4A8860BBAF6F...  \n",
      "768960  AAD0C1D406CF724E407DDF88698E4EAF6FD496EE788FA5...  \n",
      "768961  90BF9EB3CF882F5E2BF9EFE73ED29FDB883803AE554207...  \n",
      "\n",
      "[768962 rows x 56 columns]>\n"
     ]
    }
   ],
   "source": [
    "ehealth_p2_rename = ehealth_p2.rename(columns=rename_dict)\n",
    "print(ehealth_p2_rename.head)"
   ]
  },
  {
   "cell_type": "code",
   "execution_count": 19,
   "metadata": {},
   "outputs": [
    {
     "name": "stdout",
     "output_type": "stream",
     "text": [
      "<bound method NDFrame.head of         Hospital_ID Reporting_Month Data_Source  \\\n",
      "0           1986173        листопад     EHEALTH   \n",
      "1           5415958        листопад     EHEALTH   \n",
      "2          24920550        листопад     EHEALTH   \n",
      "3           2005036        листопад     EHEALTH   \n",
      "4           5498720        листопад     EHEALTH   \n",
      "...             ...             ...         ...   \n",
      "768957      1985185          січень     EHEALTH   \n",
      "768958      2003563          січень     EHEALTH   \n",
      "768959      1982614          січень     EHEALTH   \n",
      "768960      3098229          січень     EHEALTH   \n",
      "768961      2003557          січень     EHEALTH   \n",
      "\n",
      "                                   Record_ID      Type_of_Referral  \\\n",
      "0       027e4cf9-3e36-479d-915e-3ab93747c23e       Без направлення   \n",
      "1       e1bf562e-7807-49c9-ab76-9e000964d68c       Без направлення   \n",
      "2       341f392b-24ec-4d2b-bec2-8b9eb5956c21       Без направлення   \n",
      "3       5e16119d-38a9-4017-984c-cb58c52dca2f  Паперове направлення   \n",
      "4       e4c8cff6-290f-47ba-9538-4f63c9860b0a       Без направлення   \n",
      "...                                      ...                   ...   \n",
      "768957  dfb20cde-ff17-410e-885a-d002b5ec56e8  Паперове направлення   \n",
      "768958  091eb0d6-cc00-497d-9402-6ea848369b50       Без направлення   \n",
      "768959  897e0199-8c5c-4b26-ac7a-0f47a8bbe6cb       Без направлення   \n",
      "768960  7a81dffe-4432-4878-928f-c64e8bca8aae       Без направлення   \n",
      "768961  a0baa89d-5d07-4bbb-a4f8-1231c9de2421       Без направлення   \n",
      "\n",
      "       Finance_Program Referral_ID Position_of_Doctor_Who_Gave_Referral  \\\n",
      "0                  NaN         NaN                                  NaN   \n",
      "1                  NaN         NaN                                  NaN   \n",
      "2                  NaN         NaN                                  NaN   \n",
      "3                  NaN         NaN                                  NaN   \n",
      "4                  NaN         NaN                                  NaN   \n",
      "...                ...         ...                                  ...   \n",
      "768957             NaN         NaN                                  NaN   \n",
      "768958             NaN         NaN                                  NaN   \n",
      "768959             NaN         NaN                                  NaN   \n",
      "768960             NaN         NaN                                  NaN   \n",
      "768961             NaN         NaN                                  NaN   \n",
      "\n",
      "        ID_of_Paper_Referral       System_Input_Date  ... Package_Id  \\\n",
      "0                        NaN 2020-11-14 15:51:16.757  ...        4.0   \n",
      "1                        NaN 2020-11-15 15:20:09.433  ...        3.0   \n",
      "2                        NaN 2020-11-15 13:02:38.530  ...        3.0   \n",
      "3                  2005036.0 2020-11-15 13:47:43.835  ...        4.0   \n",
      "4                        NaN 2020-11-15 13:57:32.110  ...        4.0   \n",
      "...                      ...                     ...  ...        ...   \n",
      "768957             1985185.0 2021-01-08 08:47:54.002  ...       20.0   \n",
      "768958                   NaN 2021-01-08 08:51:27.488  ...        NaN   \n",
      "768959                   NaN 2021-01-08 07:20:03.700  ...        NaN   \n",
      "768960                   NaN 2021-01-08 08:17:54.449  ...        NaN   \n",
      "768961                   NaN 2021-01-08 08:24:20.205  ...        NaN   \n",
      "\n",
      "       Procedure_ID                                    Service_Name  \\\n",
      "0               I06                        Гострий мозковий інсульт   \n",
      "1          18.0.01A  Інші операції у дорослих від 18 років і старше   \n",
      "2           13.2.02       Інші операції на жіночих статевих органах   \n",
      "3               N05                         Камені нирок і сечоводу   \n",
      "4              J01A      Пневмонії у дорослих від 18 років і старше   \n",
      "...             ...                                             ...   \n",
      "768957         20.1    Лікування дорослих та дітей із туберкульозом   \n",
      "768958          NaN                                             NaN   \n",
      "768959          NaN                                             NaN   \n",
      "768960          NaN                                             NaN   \n",
      "768961          NaN                                             NaN   \n",
      "\n",
      "                                       Compliance_Comment   ADSG      UDSG  \\\n",
      "0                                                     NaN    B70       I06   \n",
      "1                                                     NaN    801  18.0.01A   \n",
      "2                                                     NaN    N10   13.2.02   \n",
      "3                                                     NaN    L64       N05   \n",
      "4                                                     NaN  E62-1      J01A   \n",
      "...                                                   ...    ...       ...   \n",
      "768957                                                NaN    T64      A01A   \n",
      "768958                          Немає договору на пакет 3    O07   14.6.01   \n",
      "768959                          Немає договору на пакет 4    F72       I04   \n",
      "768960                          Немає договору на пакет 3    R01  18.0.01A   \n",
      "768961  Немає договору на пакет 5\\nНемає договору на п...    B70       I06   \n",
      "\n",
      "                                      Reason_of_Visit          Result_of_Care  \\\n",
      "0       Бригадою екстреної швидкої) медичної допомоги   Виписаний з одужанням   \n",
      "1                                       Самозвернення   Виписаний з одужанням   \n",
      "2                                       Самозвернення   Виписаний з одужанням   \n",
      "3                                       Самозвернення   Виписаний з одужанням   \n",
      "4                           За направленням паперовим  Переведено в інший ЗОЗ   \n",
      "...                                               ...                     ...   \n",
      "768957                      За направленням паперовим   Виписаний з одужанням   \n",
      "768958                                  Самозвернення   Виписаний з одужанням   \n",
      "768959                    За направленням електронним   Виписаний з одужанням   \n",
      "768960                                            NaN               Помер(ла)   \n",
      "768961  Бригадою екстреної швидкої) медичної допомоги   Виписаний з одужанням   \n",
      "\n",
      "       Errors_in_Grouping                                         Patient_ID  \n",
      "0                       -  D6259F8B986760B4BD48272DCDF4CBB1709B5C31CA3885...  \n",
      "1                       -  A041A33F5B52B8F57FAEC62A8A18C806FC9DB447451DC0...  \n",
      "2                       -  76D001258243F143794EA7BF62F958E9A94E7A98CDA4CE...  \n",
      "3                       -  E027F9609C2ABFDB9D0F887BEBF3E891F77C4C9676B587...  \n",
      "4                       -  DBE914E3B084A800E20B531321FE3BA3F060D51F6D91B7...  \n",
      "...                   ...                                                ...  \n",
      "768957                  -  12D219439FEDE697A81953660313F5E5B35EC9024C4DF2...  \n",
      "768958                  -  C4A507F98A0621C8C548E46822E62B7B01395ED8A00A94...  \n",
      "768959                  -  FC5ECDC9E252E54CD96E7791421A33BF47079A3BB4545F...  \n",
      "768960                  -  C9E5A4B86959164FE1697B3AF3A5853EF8D27B4BC7D537...  \n",
      "768961                  -  025778536BA1A22DEFCAD90C100079F4AFB6699A5413DC...  \n",
      "\n",
      "[768962 rows x 56 columns]>\n"
     ]
    }
   ],
   "source": [
    "ehealth_p3_rename = ehealth_p3.rename(columns=rename_dict)\n",
    "print(ehealth_p3_rename.head)"
   ]
  },
  {
   "cell_type": "code",
   "execution_count": 20,
   "metadata": {},
   "outputs": [],
   "source": [
    "ehealth_p3_rename.to_csv(\"Ehealth_f3.csv\", index=False)"
   ]
  },
  {
   "cell_type": "code",
   "execution_count": 10,
   "metadata": {},
   "outputs": [],
   "source": [
    "import pickle\n",
    "with open('Poltava_Hospital_ID.pkl', 'rb') as f:\n",
    "    PHospital_ID = pickle.load(f)"
   ]
  },
  {
   "cell_type": "code",
   "execution_count": 12,
   "metadata": {},
   "outputs": [
    {
     "name": "stdout",
     "output_type": "stream",
     "text": [
      "(22097, 56)\n"
     ]
    }
   ],
   "source": [
    "poltava_ehealth_2 = ehealth_p2_rename[ehealth_p2_rename['Hospital_ID'].isin(PHospital_ID)]\n",
    "print(poltava_ehealth_2.shape)"
   ]
  },
  {
   "cell_type": "code",
   "execution_count": 21,
   "metadata": {},
   "outputs": [
    {
     "name": "stdout",
     "output_type": "stream",
     "text": [
      "(22854, 56)\n"
     ]
    }
   ],
   "source": [
    "poltava_ehealth_3 = ehealth_p3_rename[ehealth_p3_rename['Hospital_ID'].isin(PHospital_ID)]\n",
    "print(poltava_ehealth_3.shape)"
   ]
  },
  {
   "cell_type": "code",
   "execution_count": 30,
   "metadata": {},
   "outputs": [
    {
     "name": "stdout",
     "output_type": "stream",
     "text": [
      "        Hospital_ID Reporting_Month Data_Source  \\\n",
      "81          1984151         жовтень        NHSU   \n",
      "612         1999684         червень        NHSU   \n",
      "1225        1999359         квітень        NHSU   \n",
      "1348        1999402         квітень        NHSU   \n",
      "1903        1999632         червень        NHSU   \n",
      "...             ...             ...         ...   \n",
      "768725     41318879          липень     EHEALTH   \n",
      "768787      1999655          липень     EHEALTH   \n",
      "768797      1999112          липень     EHEALTH   \n",
      "768801      1999388          липень     EHEALTH   \n",
      "768867      1999483         червень     EHEALTH   \n",
      "\n",
      "                                   Record_ID Type_of_Referral  \\\n",
      "81                                   s222340              NaN   \n",
      "612                                  s126808              NaN   \n",
      "1225                                  s26733              NaN   \n",
      "1348                                  s24878              NaN   \n",
      "1903                                 s112939              NaN   \n",
      "...                                      ...              ...   \n",
      "768725  fd604cb5-3f54-4df5-b248-99f119f0ae9c  Без направлення   \n",
      "768787  33a20af6-bca6-408b-90d4-33eb471365b1  Без направлення   \n",
      "768797  91724481-9650-1d50-92df-30951313efb7  Без направлення   \n",
      "768801  c9637284-73ec-4f16-812c-db5f898c837f  Без направлення   \n",
      "768867  ece1bdad-19a7-499d-813b-83d363400002  Без направлення   \n",
      "\n",
      "                               Finance_Program Referral_ID  \\\n",
      "81      Програма медичних гарантій в 2020 році         NaN   \n",
      "612     Програма медичних гарантій в 2020 році        0000   \n",
      "1225    Програма медичних гарантій в 2020 році         NaN   \n",
      "1348    Програма медичних гарантій в 2020 році          11   \n",
      "1903    Програма медичних гарантій в 2020 році         NaN   \n",
      "...                                        ...         ...   \n",
      "768725                                     NaN         NaN   \n",
      "768787                                     NaN         NaN   \n",
      "768797                                     NaN         NaN   \n",
      "768801                                     NaN         NaN   \n",
      "768867                                     NaN         NaN   \n",
      "\n",
      "       Position_of_Doctor_Who_Gave_Referral  ID_of_Paper_Referral  \\\n",
      "81                                      NaN                   NaN   \n",
      "612                                     NaN                   NaN   \n",
      "1225                                    NaN                   NaN   \n",
      "1348                                    NaN                   NaN   \n",
      "1903                                    NaN                   NaN   \n",
      "...                                     ...                   ...   \n",
      "768725                                  NaN                   NaN   \n",
      "768787                                  NaN                   NaN   \n",
      "768797                                  NaN                   NaN   \n",
      "768801                                  NaN                   NaN   \n",
      "768867                                  NaN                   NaN   \n",
      "\n",
      "             System_Input_Date  ... Package_Id Procedure_ID  \\\n",
      "81     2020-10-27 13:43:01.000  ...       19.0         19.1   \n",
      "612    2020-07-01 14:02:34.000  ...        NaN          NaN   \n",
      "1225   2020-04-28 00:00:00.000  ...        NaN          NaN   \n",
      "1348   2020-04-28 00:00:00.000  ...        NaN          NaN   \n",
      "1903   2020-06-25 13:21:05.000  ...        NaN          NaN   \n",
      "...                        ...  ...        ...          ...   \n",
      "768725 2020-07-29 10:47:41.903  ...        4.0          K02   \n",
      "768787 2020-07-14 06:01:45.459  ...        4.0          I04   \n",
      "768797 2020-07-24 07:13:52.913  ...        4.0         G02A   \n",
      "768801 2020-07-07 11:43:26.666  ...        NaN          NaN   \n",
      "768867                     NaT  ...        NaN          NaN   \n",
      "\n",
      "                                             Service_Name  \\\n",
      "81                Психіатрична допомога дорослим та дітям   \n",
      "612                                                   NaN   \n",
      "1225                                                  NaN   \n",
      "1348                                                  NaN   \n",
      "1903                                                  NaN   \n",
      "...                                                   ...   \n",
      "768725  Виразка шлунка та дванадцятипалої кишки, гостр...   \n",
      "768787  Стенокардія та інші форми ішемічної хвороби серця   \n",
      "768797  Інші хвороби нервової системи у дорослих від 1...   \n",
      "768801                                                NaN   \n",
      "768867                                                NaN   \n",
      "\n",
      "                          Compliance_Comment ADSG  UDSG  \\\n",
      "81                                       NaN  V61  F01A   \n",
      "612                   Помилки при групуванні  960   NaN   \n",
      "1225                  Помилки при групуванні  960   NaN   \n",
      "1348                  Помилки при групуванні  960   NaN   \n",
      "1903                  Помилки при групуванні  NaN   NaN   \n",
      "...                                      ...  ...   ...   \n",
      "768725                                   NaN  H62   K02   \n",
      "768787                                   NaN  F72   I04   \n",
      "768797                                   NaN  B81  G02A   \n",
      "768801  Не відповідає жодному пакету/послузі  F76  I03A   \n",
      "768867  Не відповідає жодному пакету/послузі  L63  N04C   \n",
      "\n",
      "                                      Reason_of_Visit          Result_of_Care  \\\n",
      "81                                      Самозвернення                Без змін   \n",
      "612                         За направленням паперовим  Переведено в інший ЗОЗ   \n",
      "1225    Бригадою екстреної швидкої) медичної допомоги                Без змін   \n",
      "1348                        За направленням паперовим                Без змін   \n",
      "1903                   Переведено з іншого відділення                Без змін   \n",
      "...                                               ...                     ...   \n",
      "768725                                  Самозвернення   Виписаний з одужанням   \n",
      "768787  Бригадою екстреної швидкої) медичної допомоги   Виписаний з одужанням   \n",
      "768797                    За направленням електронним   Виписаний з одужанням   \n",
      "768801                                            NaN   Виписаний з одужанням   \n",
      "768867                      За направленням паперовим   Виписаний з одужанням   \n",
      "\n",
      "                                       Errors_in_Grouping  \\\n",
      "81                                                      -   \n",
      "612                      Недійсна вага при госпіталізації   \n",
      "1225                                                  NaN   \n",
      "1348                                                  NaN   \n",
      "1903                 Неприпустимий код основного діагнозу   \n",
      "...                                                   ...   \n",
      "768725                                                NaN   \n",
      "768787                                                NaN   \n",
      "768797                                                NaN   \n",
      "768801                                                NaN   \n",
      "768867  Конфлікт віку пацієнта (діагнози, прийнятні ті...   \n",
      "\n",
      "                                               Patient_ID  \n",
      "81                                                    NaN  \n",
      "612                                                   NaN  \n",
      "1225                                                  NaN  \n",
      "1348                                                  NaN  \n",
      "1903                                                  NaN  \n",
      "...                                                   ...  \n",
      "768725  C364725C097187C96B2A056C984249A00E46C58739E5F1...  \n",
      "768787  EB3E313F8E4F8AD5D26C3649167E040F8212437DD3C028...  \n",
      "768797  776404D2B7416ECF49F7C23053A3F723607951B8D84260...  \n",
      "768801  F067CB154874F96E49C646C42E910D6CA2176F5CFCD9F3...  \n",
      "768867  9188E5DA79B8E0AFE25212A1D4AA3473EE76B2295EA94C...  \n",
      "\n",
      "[20179 rows x 56 columns]\n"
     ]
    }
   ],
   "source": [
    "print(poltava_ehealth)"
   ]
  },
  {
   "cell_type": "code",
   "execution_count": 13,
   "metadata": {},
   "outputs": [
    {
     "name": "stdout",
     "output_type": "stream",
     "text": [
      "        Hospital_ID Reporting_Month Data_Source  \\\n",
      "15          1999388          липень     EHEALTH   \n",
      "92          1999388          липень     EHEALTH   \n",
      "97          1999626          липень     EHEALTH   \n",
      "113         1999690          липень     EHEALTH   \n",
      "130         1999402          липень     EHEALTH   \n",
      "...             ...             ...         ...   \n",
      "768859      1999106        листопад     EHEALTH   \n",
      "768892      1204294        листопад     EHEALTH   \n",
      "768922      1999112        листопад     EHEALTH   \n",
      "768923      1111598        листопад     EHEALTH   \n",
      "768928      1999299        листопад     EHEALTH   \n",
      "\n",
      "                                   Record_ID        Type_of_Referral  \\\n",
      "15      00556728-fe5d-4e9e-b8bf-c6d9fa9d7aa4         Без направлення   \n",
      "92      a2b9a44d-34d5-4c36-a272-a56e0afc739b         Без направлення   \n",
      "97      ad8c0956-1388-4ed5-8050-a505a733b9f0         Без направлення   \n",
      "113     55991dc5-4079-4dc8-8dbc-111315c8bd03    Паперове направлення   \n",
      "130     6135f649-64b7-4faf-b916-4e92690d08bf         Без направлення   \n",
      "...                                      ...                     ...   \n",
      "768859  c5d7fb84-7e23-2c2a-b30a-7ac0cb9e1ad6  Електронне направлення   \n",
      "768892  e95e6ab3-6b32-4066-b596-707ae436b12a         Без направлення   \n",
      "768922  6f9e5cfd-cb33-2aba-9e87-fbe1d49dfab0  Електронне направлення   \n",
      "768923  49c41112-9cbd-1cf9-aa91-eb38601c30bf  Електронне направлення   \n",
      "768928  942e49a8-a15e-4f80-8592-54814cba4687         Без направлення   \n",
      "\n",
      "                               Finance_Program  \\\n",
      "15                                         NaN   \n",
      "92                                         NaN   \n",
      "97                                         NaN   \n",
      "113                                        NaN   \n",
      "130                                        NaN   \n",
      "...                                        ...   \n",
      "768859  Програма медичних гарантій в 2020 році   \n",
      "768892                                     NaN   \n",
      "768922  Програма медичних гарантій в 2020 році   \n",
      "768923  Програма медичних гарантій в 2020 році   \n",
      "768928                                     NaN   \n",
      "\n",
      "                                 Referral_ID  \\\n",
      "15                                       NaN   \n",
      "92                                       NaN   \n",
      "97                                       NaN   \n",
      "113                                      NaN   \n",
      "130                                      NaN   \n",
      "...                                      ...   \n",
      "768859  6e33ea0a-7c53-5dc0-8894-38c0a2195705   \n",
      "768892                                   NaN   \n",
      "768922  8d439736-4ccd-43ab-a95d-466392fbba9a   \n",
      "768923  cc41c2ad-114e-4616-9f78-d69fa57b4da5   \n",
      "768928                                   NaN   \n",
      "\n",
      "             Position_of_Doctor_Who_Gave_Referral  ID_of_Paper_Referral  \\\n",
      "15                                            NaN                   NaN   \n",
      "92                                            NaN                   NaN   \n",
      "97                                            NaN                   NaN   \n",
      "113                                           NaN             1999690.0   \n",
      "130                                           NaN                   NaN   \n",
      "...                                           ...                   ...   \n",
      "768859                         Лікар-невропатолог                   NaN   \n",
      "768892                                        NaN                   NaN   \n",
      "768922  Лікар загальної практики - сімейний лікар                   NaN   \n",
      "768923                             Лікар-терапевт                   NaN   \n",
      "768928                                        NaN                   NaN   \n",
      "\n",
      "             System_Input_Date  ... Package_Id Procedure_ID  \\\n",
      "15     2020-07-13 08:23:02.077  ...        NaN          NaN   \n",
      "92     2020-07-07 08:03:54.714  ...        7.0          7.1   \n",
      "97     2020-07-30 14:32:24.033  ...        3.0       8.3.10   \n",
      "113    2020-07-11 18:58:21.120  ...        3.0      14.6.01   \n",
      "130    2020-07-30 15:08:09.068  ...        7.0          7.1   \n",
      "...                        ...  ...        ...          ...   \n",
      "768859 2020-11-17 11:33:38.522  ...        4.0         G02A   \n",
      "768892 2020-11-13 09:16:35.293  ...        3.0       9.3.03   \n",
      "768922 2020-11-23 09:31:00.731  ...        3.0     15.0.05A   \n",
      "768923 2020-11-23 16:35:30.496  ...        3.0     15.0.05A   \n",
      "768928 2020-11-13 14:59:09.180  ...        3.0      13.2.02   \n",
      "\n",
      "                                             Service_Name  \\\n",
      "15                                                    NaN   \n",
      "92                           Медична допомога при пологах   \n",
      "97                                      Операції на венах   \n",
      "113     Інші вишкрібання матки, які пов’язані з вагітн...   \n",
      "130                          Медична допомога при пологах   \n",
      "...                                                   ...   \n",
      "768859  Інші хвороби нервової системи у дорослих від 1...   \n",
      "768892                        Апендиктомія при апендициті   \n",
      "768922  Інші операції на кістково-м’язовій системі у д...   \n",
      "768923  Інші операції на кістково-м’язовій системі у д...   \n",
      "768928          Інші операції на жіночих статевих органах   \n",
      "\n",
      "            Compliance_Comment ADSG      UDSG  \\\n",
      "15      Помилки при групуванні  NaN       NaN   \n",
      "92                         NaN  O60       O01   \n",
      "97                         NaN  F20    8.3.10   \n",
      "113                        NaN  O07   14.6.01   \n",
      "130                        NaN  O60       O01   \n",
      "...                        ...  ...       ...   \n",
      "768859                     NaN  B81      G02A   \n",
      "768892                     NaN  G07    9.3.03   \n",
      "768922                     NaN  I18  15.0.05A   \n",
      "768923                     NaN  I18  15.0.05A   \n",
      "768928                     NaN  N09   13.2.02   \n",
      "\n",
      "                                      Reason_of_Visit         Result_of_Care  \\\n",
      "15                                                NaN            Здоровий(а)   \n",
      "92      Бригадою екстреної швидкої) медичної допомоги            Здоровий(а)   \n",
      "97                          За направленням паперовим  Виписаний з одужанням   \n",
      "113                         За направленням паперовим  Виписаний з одужанням   \n",
      "130                                     Самозвернення  Виписаний з одужанням   \n",
      "...                                               ...                    ...   \n",
      "768859                    За направленням електронним  Виписаний з одужанням   \n",
      "768892  Бригадою екстреної швидкої) медичної допомоги  Виписаний з одужанням   \n",
      "768922                    За направленням електронним  Виписаний з одужанням   \n",
      "768923                    За направленням електронним  Виписаний з одужанням   \n",
      "768928                      За направленням паперовим            Здоровий(а)   \n",
      "\n",
      "                          Errors_in_Grouping  \\\n",
      "15      Неприпустимий код основного діагнозу   \n",
      "92                                       NaN   \n",
      "97                                       NaN   \n",
      "113                                      NaN   \n",
      "130                                      NaN   \n",
      "...                                      ...   \n",
      "768859                                     -   \n",
      "768892                                     -   \n",
      "768922                                     -   \n",
      "768923                                     -   \n",
      "768928                                     -   \n",
      "\n",
      "                                               Patient_ID  \n",
      "15      F64AE2BF459736FC58F02E259EE41A225C601929DA434B...  \n",
      "92      5A33105C86337943603B89C15E8858CF32D849AA6EB588...  \n",
      "97      D453D3AED6B31DE4C5623D25A97E143D1DC719B64684C3...  \n",
      "113     C2E6982EE48E159716DDA64320382A13AC8FA8443EBEAE...  \n",
      "130     A4BB1BB9C9586A8C02ACBE2521624E0687E69487CE70FC...  \n",
      "...                                                   ...  \n",
      "768859  482224EBFC66569A065DE9D5A7F28C8F6F4B74BBDBA4E5...  \n",
      "768892  39B1F3D6EE4AE5628DA04D9777C5F58DF4AF082B844418...  \n",
      "768922  2764815471D07C46CC953A84591F09AE52AB3DE7F0520E...  \n",
      "768923  31A7CEDF68D5FFBFF4AF167067339417C1C70637F27689...  \n",
      "768928  F825BEBB112D01FB5CEF9BF5C689078558D358AADE10E3...  \n",
      "\n",
      "[22097 rows x 56 columns]\n"
     ]
    }
   ],
   "source": [
    "print(poltava_ehealth_2)"
   ]
  },
  {
   "cell_type": "code",
   "execution_count": 31,
   "metadata": {},
   "outputs": [
    {
     "name": "stdout",
     "output_type": "stream",
     "text": [
      "2020-04-23 00:00:00\n",
      "2020-12-16 16:11:14.956000\n"
     ]
    }
   ],
   "source": [
    "print(poltava_ehealth['System_Input_Date'].min())\n",
    "print(poltava_ehealth['System_Input_Date'].max())"
   ]
  },
  {
   "cell_type": "code",
   "execution_count": 14,
   "metadata": {},
   "outputs": [
    {
     "name": "stdout",
     "output_type": "stream",
     "text": [
      "2020-07-01 04:32:48.765000\n",
      "2020-12-10 21:43:18.679000\n"
     ]
    }
   ],
   "source": [
    "print(poltava_ehealth_2['System_Input_Date'].min())\n",
    "print(poltava_ehealth_2['System_Input_Date'].max())"
   ]
  },
  {
   "cell_type": "code",
   "execution_count": 33,
   "metadata": {},
   "outputs": [
    {
     "name": "stdout",
     "output_type": "stream",
     "text": [
      "0200-07-02 00:00:00\n",
      "2020-12-12 02:00:00\n"
     ]
    }
   ],
   "source": [
    "print(poltava_ehealth['Hospitalization_Visit_Date'].min())\n",
    "print(poltava_ehealth['Hospitalization_Visit_Date'].max())"
   ]
  },
  {
   "cell_type": "code",
   "execution_count": 15,
   "metadata": {},
   "outputs": [
    {
     "name": "stdout",
     "output_type": "stream",
     "text": [
      "1938-08-05 00:00:00\n",
      "2020-12-10 02:00:00\n"
     ]
    }
   ],
   "source": [
    "print(poltava_ehealth_2['Hospitalization_Visit_Date'].min())\n",
    "print(poltava_ehealth_2['Hospitalization_Visit_Date'].max())"
   ]
  },
  {
   "cell_type": "code",
   "execution_count": 34,
   "metadata": {},
   "outputs": [
    {
     "name": "stdout",
     "output_type": "stream",
     "text": [
      "2020-04-01 00:00:00\n",
      "2020-12-16 15:05:34\n"
     ]
    }
   ],
   "source": [
    "print(poltava_ehealth['Discharge_Date'].min())\n",
    "print(poltava_ehealth['Discharge_Date'].max())"
   ]
  },
  {
   "cell_type": "code",
   "execution_count": 16,
   "metadata": {},
   "outputs": [
    {
     "name": "stdout",
     "output_type": "stream",
     "text": [
      "2020-04-01 11:38:00\n",
      "2020-12-10 18:04:00\n"
     ]
    }
   ],
   "source": [
    "print(poltava_ehealth_2['Discharge_Date'].min())\n",
    "print(poltava_ehealth_2['Discharge_Date'].max())"
   ]
  },
  {
   "cell_type": "code",
   "execution_count": 37,
   "metadata": {},
   "outputs": [
    {
     "name": "stderr",
     "output_type": "stream",
     "text": [
      "/Users/ruska/anaconda3/lib/python3.7/site-packages/IPython/core/interactiveshell.py:3063: DtypeWarning: Columns (4,7,13,14,16,26,27,55) have mixed types.Specify dtype option on import or set low_memory=False.\n",
      "  interactivity=interactivity, compiler=compiler, result=result)\n"
     ]
    },
    {
     "name": "stdout",
     "output_type": "stream",
     "text": [
      "It took 43.44979405403137 seconds!\n"
     ]
    }
   ],
   "source": [
    "from time import time\n",
    "start = time()\n",
    "# your script here\n",
    "\n",
    "\n",
    "ehealth_1 = pd.read_csv(\"Ehealth_f1.csv\", index_col = None)\n",
    "\n",
    "end = time()\n",
    "print(f'It took {end - start} seconds!')"
   ]
  },
  {
   "cell_type": "code",
   "execution_count": 23,
   "metadata": {},
   "outputs": [
    {
     "name": "stderr",
     "output_type": "stream",
     "text": [
      "/Users/ruska/anaconda3/lib/python3.7/site-packages/IPython/core/interactiveshell.py:3063: DtypeWarning: Columns (4,7,13,14,16,26,27,55) have mixed types.Specify dtype option on import or set low_memory=False.\n",
      "  interactivity=interactivity, compiler=compiler, result=result)\n"
     ]
    }
   ],
   "source": [
    "ehealth_1 = pd.read_csv(\"Ehealth_f1.csv\", index_col = None)"
   ]
  },
  {
   "cell_type": "code",
   "execution_count": 24,
   "metadata": {},
   "outputs": [],
   "source": [
    "import pickle\n",
    "with open('Poltava_Hospital_ID.pkl', 'rb') as f:\n",
    "    PHospital_ID = pickle.load(f)"
   ]
  },
  {
   "cell_type": "code",
   "execution_count": 26,
   "metadata": {},
   "outputs": [
    {
     "name": "stdout",
     "output_type": "stream",
     "text": [
      "(22097, 56)\n"
     ]
    }
   ],
   "source": [
    "poltava_ehealth_1 = ehealth_1[ehealth_1['Hospital_ID'].isin(PHospital_ID)]\n",
    "print(poltava_ehealth_2.shape)"
   ]
  },
  {
   "cell_type": "code",
   "execution_count": 27,
   "metadata": {},
   "outputs": [
    {
     "name": "stderr",
     "output_type": "stream",
     "text": [
      "/Users/ruska/anaconda3/lib/python3.7/site-packages/IPython/core/interactiveshell.py:3063: DtypeWarning: Columns (49) have mixed types.Specify dtype option on import or set low_memory=False.\n",
      "  interactivity=interactivity, compiler=compiler, result=result)\n"
     ]
    },
    {
     "name": "stdout",
     "output_type": "stream",
     "text": [
      "(22097, 56)\n"
     ]
    }
   ],
   "source": [
    "ehealth_2 = pd.read_csv(\"Ehealth_f2.csv\", index_col = None)\n",
    "poltava_ehealth_2 = ehealth_2[ehealth_2['Hospital_ID'].isin(PHospital_ID)]\n",
    "print(poltava_ehealth_2.shape)"
   ]
  },
  {
   "cell_type": "code",
   "execution_count": 28,
   "metadata": {},
   "outputs": [
    {
     "name": "stderr",
     "output_type": "stream",
     "text": [
      "/Users/ruska/anaconda3/lib/python3.7/site-packages/IPython/core/interactiveshell.py:3063: DtypeWarning: Columns (47,48,49,50,51,54) have mixed types.Specify dtype option on import or set low_memory=False.\n",
      "  interactivity=interactivity, compiler=compiler, result=result)\n"
     ]
    },
    {
     "name": "stdout",
     "output_type": "stream",
     "text": [
      "(22854, 56)\n"
     ]
    }
   ],
   "source": [
    "ehealth_3 = pd.read_csv(\"Ehealth_f3.csv\", index_col = None)\n",
    "poltava_ehealth_3 = ehealth_3[ehealth_3['Hospital_ID'].isin(PHospital_ID)]\n",
    "print(poltava_ehealth_3.shape)"
   ]
  },
  {
   "cell_type": "code",
   "execution_count": 29,
   "metadata": {},
   "outputs": [
    {
     "name": "stdout",
     "output_type": "stream",
     "text": [
      "(65130, 56)\n"
     ]
    }
   ],
   "source": [
    "poltava20_4 = pd.concat([poltava_ehealth_1, poltava_ehealth_2, poltava_ehealth_3])\n",
    "print(poltava20_4.shape)"
   ]
  },
  {
   "cell_type": "code",
   "execution_count": 1,
   "metadata": {},
   "outputs": [
    {
     "ename": "NameError",
     "evalue": "name 'pd' is not defined",
     "output_type": "error",
     "traceback": [
      "\u001b[0;31m---------------------------------------------------------------------------\u001b[0m",
      "\u001b[0;31mNameError\u001b[0m                                 Traceback (most recent call last)",
      "\u001b[0;32m<ipython-input-1-105b2b49f65d>\u001b[0m in \u001b[0;36m<module>\u001b[0;34m\u001b[0m\n\u001b[0;32m----> 1\u001b[0;31m \u001b[0mpoltava20_4\u001b[0m \u001b[0;34m=\u001b[0m \u001b[0mpd\u001b[0m\u001b[0;34m.\u001b[0m\u001b[0mconcat\u001b[0m\u001b[0;34m(\u001b[0m\u001b[0;34m[\u001b[0m\u001b[0mpoltava_ehealth_1\u001b[0m\u001b[0;34m,\u001b[0m \u001b[0mpoltava_ehealth_2\u001b[0m\u001b[0;34m,\u001b[0m \u001b[0mpoltava_ehealth_3\u001b[0m\u001b[0;34m]\u001b[0m\u001b[0;34m)\u001b[0m\u001b[0;34m\u001b[0m\u001b[0;34m\u001b[0m\u001b[0m\n\u001b[0m\u001b[1;32m      2\u001b[0m \u001b[0mprint\u001b[0m\u001b[0;34m(\u001b[0m\u001b[0mpoltava20_4\u001b[0m\u001b[0;34m.\u001b[0m\u001b[0mshape\u001b[0m\u001b[0;34m)\u001b[0m\u001b[0;34m\u001b[0m\u001b[0;34m\u001b[0m\u001b[0m\n",
      "\u001b[0;31mNameError\u001b[0m: name 'pd' is not defined"
     ]
    }
   ],
   "source": [
    "poltava20_4 = pd.concat([poltava_ehealth_1, poltava_ehealth_2, poltava_ehealth_3])\n",
    "print(poltava20_4.shape)"
   ]
  },
  {
   "cell_type": "code",
   "execution_count": 32,
   "metadata": {},
   "outputs": [
    {
     "name": "stdout",
     "output_type": "stream",
     "text": [
      "(65130, 56)\n"
     ]
    }
   ],
   "source": [
    "new_df = pd.concat([poltava_ehealth_1, poltava_ehealth_2, poltava_ehealth_3]).drop_duplicates().reset_index(drop=True)\n",
    "print(new_df.shape)"
   ]
  },
  {
   "cell_type": "code",
   "execution_count": 37,
   "metadata": {},
   "outputs": [],
   "source": [
    "ri_1 = poltava_ehealth_1['Record_ID'].tolist()\n",
    "ri_2 = poltava_ehealth_2['Record_ID'].tolist()\n",
    "ri_3 = poltava_ehealth_3['Record_ID'].tolist()\n",
    "ri = ri_1+ri_2+ri_3"
   ]
  },
  {
   "cell_type": "code",
   "execution_count": 38,
   "metadata": {},
   "outputs": [
    {
     "data": {
      "text/html": [
       "<div>\n",
       "<style scoped>\n",
       "    .dataframe tbody tr th:only-of-type {\n",
       "        vertical-align: middle;\n",
       "    }\n",
       "\n",
       "    .dataframe tbody tr th {\n",
       "        vertical-align: top;\n",
       "    }\n",
       "\n",
       "    .dataframe thead th {\n",
       "        text-align: right;\n",
       "    }\n",
       "</style>\n",
       "<table border=\"1\" class=\"dataframe\">\n",
       "  <thead>\n",
       "    <tr style=\"text-align: right;\">\n",
       "      <th></th>\n",
       "      <th>Hospital_ID</th>\n",
       "      <th>Reporting_Month</th>\n",
       "      <th>Data_Source</th>\n",
       "      <th>Record_ID</th>\n",
       "      <th>Type_of_Referral</th>\n",
       "      <th>Finance_Program</th>\n",
       "      <th>Referral_ID</th>\n",
       "      <th>Position_of_Doctor_Who_Gave_Referral</th>\n",
       "      <th>ID_of_Paper_Referral</th>\n",
       "      <th>System_Input_Date</th>\n",
       "      <th>...</th>\n",
       "      <th>Package_Id</th>\n",
       "      <th>Procedure_ID.1</th>\n",
       "      <th>Service_Name</th>\n",
       "      <th>Compliance_Comment</th>\n",
       "      <th>ADSG</th>\n",
       "      <th>UDSG</th>\n",
       "      <th>Reason_of_Visit</th>\n",
       "      <th>Result_of_Care</th>\n",
       "      <th>Errors_in_Grouping</th>\n",
       "      <th>Patient_ID</th>\n",
       "    </tr>\n",
       "  </thead>\n",
       "  <tbody>\n",
       "  </tbody>\n",
       "</table>\n",
       "<p>0 rows × 56 columns</p>\n",
       "</div>"
      ],
      "text/plain": [
       "Empty DataFrame\n",
       "Columns: [Hospital_ID, Reporting_Month, Data_Source, Record_ID, Type_of_Referral, Finance_Program, Referral_ID, Position_of_Doctor_Who_Gave_Referral, ID_of_Paper_Referral, System_Input_Date, Hospitalization_Visit_Date, Discharge_Date, Stationary/Ambulatory, Episode_ID, Episode_Type, Medical_Record_Status, Type_of_Care, Urgency, Main_Diagnosis_Code, Main_Diagnosis, Chronical_Illness, Additiona_Diagnosis_Codes, Assitional_Diagnosis, Medical_Procedures_Codes, Procedures, Comment_to_Procedures, Doctor, Doctor_Position, Diagnostic_Report_Date, Diagnostic_Report_ID, Medical_Services_Of_Diagnostic_Report_Codes, Medical_Services_of_Diagnostic_Report, Doctor_Position_of_Diagnostic_Report, Doctor_of_Diagnostic_Report, Date_of_Procedure, Procedure_ID, Services_of_Procedures_Codes, Services_of_Procedures, Doctor_Position_Procedures, Doctor_Procedures, Number_of_Diagnostic_Reports, Number_of_Procedures, Weight_when_Hospitalized, Patient_Age_Days, Patient_Age_Years, Patient_Gender, Package_Id, Procedure_ID.1, Service_Name, Compliance_Comment, ADSG, UDSG, Reason_of_Visit, Result_of_Care, Errors_in_Grouping, Patient_ID]\n",
       "Index: []\n",
       "\n",
       "[0 rows x 56 columns]"
      ]
     },
     "execution_count": 38,
     "metadata": {},
     "output_type": "execute_result"
    }
   ],
   "source": [
    "df = poltava20_4\n",
    "df[~df.Record_ID.isin(ri)]"
   ]
  },
  {
   "cell_type": "code",
   "execution_count": 60,
   "metadata": {},
   "outputs": [],
   "source": [
    "poltava20_4_d = poltava20_4\n",
    "#poltava20_4_d['Hospitalization_Visit_Date'] = pd.to_datetime(poltava20_4_d['Hospitalization_Visit_Date'], errors = 'coerce')\n",
    "poltava20_4_d['Discharge_Date'] = pd.to_datetime(poltava20_4_d['Discharge_Date'], errors = 'coerce')"
   ]
  },
  {
   "cell_type": "code",
   "execution_count": 61,
   "metadata": {},
   "outputs": [
    {
     "name": "stdout",
     "output_type": "stream",
     "text": [
      "Empty DataFrame\n",
      "Columns: [index, Hospital_ID, Reporting_Month, Data_Source, Record_ID, Type_of_Referral, Finance_Program, Referral_ID, Position_of_Doctor_Who_Gave_Referral, ID_of_Paper_Referral, System_Input_Date, Hospitalization_Visit_Date, Discharge_Date, Stationary/Ambulatory, Episode_ID, Episode_Type, Medical_Record_Status, Type_of_Care, Urgency, Main_Diagnosis_Code, Main_Diagnosis, Chronical_Illness, Additiona_Diagnosis_Codes, Assitional_Diagnosis, Medical_Procedures_Codes, Procedures, Comment_to_Procedures, Doctor, Doctor_Position, Diagnostic_Report_Date, Diagnostic_Report_ID, Medical_Services_Of_Diagnostic_Report_Codes, Medical_Services_of_Diagnostic_Report, Doctor_Position_of_Diagnostic_Report, Doctor_of_Diagnostic_Report, Date_of_Procedure, Procedure_ID, Services_of_Procedures_Codes, Services_of_Procedures, Doctor_Position_Procedures, Doctor_Procedures, Number_of_Diagnostic_Reports, Number_of_Procedures, Weight_when_Hospitalized, Patient_Age_Days, Patient_Age_Years, Patient_Gender, Package_Id, Procedure_ID.1, Service_Name, Compliance_Comment, ADSG, UDSG, Reason_of_Visit, Result_of_Care, Errors_in_Grouping, Patient_ID]\n",
      "Index: []\n",
      "\n",
      "[0 rows x 57 columns]\n"
     ]
    }
   ],
   "source": [
    "print(poltava20_4[poltava20_4['Discharge_Date'].isna()])"
   ]
  },
  {
   "cell_type": "code",
   "execution_count": 54,
   "metadata": {},
   "outputs": [
    {
     "name": "stdout",
     "output_type": "stream",
     "text": [
      "        Hospital_ID Reporting_Month Data_Source  \\\n",
      "763123      1999448          липень     EHEALTH   \n",
      "\n",
      "                                   Record_ID Type_of_Referral Finance_Program  \\\n",
      "763123  56732c95-f9d9-48d6-abc3-de6d41f0d098  Без направлення             NaN   \n",
      "\n",
      "       Referral_ID Position_of_Doctor_Who_Gave_Referral  ID_of_Paper_Referral  \\\n",
      "763123         NaN                                  NaN                   NaN   \n",
      "\n",
      "              System_Input_Date  ... Package_Id Procedure_ID.1 Service_Name  \\\n",
      "763123  2020-07-22 13:24:00.385  ...        NaN            NaN          NaN   \n",
      "\n",
      "                    Compliance_Comment ADSG UDSG            Reason_of_Visit  \\\n",
      "763123  Некоректна дата госпіталізації  NaN  NaN  За направленням паперовим   \n",
      "\n",
      "               Result_of_Care Errors_in_Grouping  \\\n",
      "763123  Виписаний з одужанням                NaN   \n",
      "\n",
      "                                               Patient_ID  \n",
      "763123  0E962FCB35D998891D25D828ECBFDCA84E800CDF0F86A9...  \n",
      "\n",
      "[1 rows x 56 columns]\n"
     ]
    }
   ],
   "source": [
    "print(poltava20_4[poltava20_4['Record_ID'] == '56732c95-f9d9-48d6-abc3-de6d41f0d098'])"
   ]
  },
  {
   "cell_type": "code",
   "execution_count": 128,
   "metadata": {},
   "outputs": [],
   "source": [
    "poltava20_4 = poltava20_4.reset_index()"
   ]
  },
  {
   "cell_type": "code",
   "execution_count": 129,
   "metadata": {},
   "outputs": [
    {
     "name": "stdout",
     "output_type": "stream",
     "text": [
      "        index  Hospital_ID Reporting_Month Data_Source  \\\n",
      "20055  763123      1999448          липень     EHEALTH   \n",
      "\n",
      "                                  Record_ID Type_of_Referral Finance_Program  \\\n",
      "20055  56732c95-f9d9-48d6-abc3-de6d41f0d098  Без направлення             NaN   \n",
      "\n",
      "      Referral_ID Position_of_Doctor_Who_Gave_Referral  ID_of_Paper_Referral  \\\n",
      "20055         NaN                                  NaN                   NaN   \n",
      "\n",
      "       ... Package_Id Procedure_ID.1 Service_Name  \\\n",
      "20055  ...        NaN            NaN          NaN   \n",
      "\n",
      "                   Compliance_Comment ADSG UDSG            Reason_of_Visit  \\\n",
      "20055  Некоректна дата госпіталізації  NaN  NaN  За направленням паперовим   \n",
      "\n",
      "              Result_of_Care Errors_in_Grouping  \\\n",
      "20055  Виписаний з одужанням                NaN   \n",
      "\n",
      "                                              Patient_ID  \n",
      "20055  0E962FCB35D998891D25D828ECBFDCA84E800CDF0F86A9...  \n",
      "\n",
      "[1 rows x 57 columns]\n"
     ]
    }
   ],
   "source": [
    "print(poltava20_4[poltava20_4['Record_ID'] == '56732c95-f9d9-48d6-abc3-de6d41f0d098'])"
   ]
  },
  {
   "cell_type": "code",
   "execution_count": 130,
   "metadata": {},
   "outputs": [],
   "source": [
    "poltava20_4.at[20055, 'Hospitalization_Visit_Date'] = \"2020-07-02\""
   ]
  },
  {
   "cell_type": "code",
   "execution_count": 131,
   "metadata": {},
   "outputs": [
    {
     "name": "stdout",
     "output_type": "stream",
     "text": [
      "Empty DataFrame\n",
      "Columns: [index, Hospital_ID, Reporting_Month, Data_Source, Record_ID, Type_of_Referral, Finance_Program, Referral_ID, Position_of_Doctor_Who_Gave_Referral, ID_of_Paper_Referral, System_Input_Date, Hospitalization_Visit_Date, Discharge_Date, Stationary/Ambulatory, Episode_ID, Episode_Type, Medical_Record_Status, Type_of_Care, Urgency, Main_Diagnosis_Code, Main_Diagnosis, Chronical_Illness, Additiona_Diagnosis_Codes, Assitional_Diagnosis, Medical_Procedures_Codes, Procedures, Comment_to_Procedures, Doctor, Doctor_Position, Diagnostic_Report_Date, Diagnostic_Report_ID, Medical_Services_Of_Diagnostic_Report_Codes, Medical_Services_of_Diagnostic_Report, Doctor_Position_of_Diagnostic_Report, Doctor_of_Diagnostic_Report, Date_of_Procedure, Procedure_ID, Services_of_Procedures_Codes, Services_of_Procedures, Doctor_Position_Procedures, Doctor_Procedures, Number_of_Diagnostic_Reports, Number_of_Procedures, Weight_when_Hospitalized, Patient_Age_Days, Patient_Age_Years, Patient_Gender, Package_Id, Procedure_ID.1, Service_Name, Compliance_Comment, ADSG, UDSG, Reason_of_Visit, Result_of_Care, Errors_in_Grouping, Patient_ID]\n",
      "Index: []\n",
      "\n",
      "[0 rows x 57 columns]\n"
     ]
    }
   ],
   "source": [
    "poltava20_4['Hospitalization_Visit_Date'] = pd.to_datetime(poltava20_4['Hospitalization_Visit_Date'])\n",
    "print(poltava20_4[poltava20_4['Hospitalization_Visit_Date'].isna()])"
   ]
  },
  {
   "cell_type": "code",
   "execution_count": 132,
   "metadata": {},
   "outputs": [
    {
     "name": "stdout",
     "output_type": "stream",
     "text": [
      "Empty DataFrame\n",
      "Columns: [index, Hospital_ID, Reporting_Month, Data_Source, Record_ID, Type_of_Referral, Finance_Program, Referral_ID, Position_of_Doctor_Who_Gave_Referral, ID_of_Paper_Referral, System_Input_Date, Hospitalization_Visit_Date, Discharge_Date, Stationary/Ambulatory, Episode_ID, Episode_Type, Medical_Record_Status, Type_of_Care, Urgency, Main_Diagnosis_Code, Main_Diagnosis, Chronical_Illness, Additiona_Diagnosis_Codes, Assitional_Diagnosis, Medical_Procedures_Codes, Procedures, Comment_to_Procedures, Doctor, Doctor_Position, Diagnostic_Report_Date, Diagnostic_Report_ID, Medical_Services_Of_Diagnostic_Report_Codes, Medical_Services_of_Diagnostic_Report, Doctor_Position_of_Diagnostic_Report, Doctor_of_Diagnostic_Report, Date_of_Procedure, Procedure_ID, Services_of_Procedures_Codes, Services_of_Procedures, Doctor_Position_Procedures, Doctor_Procedures, Number_of_Diagnostic_Reports, Number_of_Procedures, Weight_when_Hospitalized, Patient_Age_Days, Patient_Age_Years, Patient_Gender, Package_Id, Procedure_ID.1, Service_Name, Compliance_Comment, ADSG, UDSG, Reason_of_Visit, Result_of_Care, Errors_in_Grouping, Patient_ID]\n",
      "Index: []\n",
      "\n",
      "[0 rows x 57 columns]\n"
     ]
    }
   ],
   "source": [
    "poltava20_4['Discharge_Date'] = pd.to_datetime(poltava20_4['Discharge_Date'])\n",
    "print(poltava20_4[poltava20_4['Discharge_Date'].isna()])"
   ]
  },
  {
   "cell_type": "code",
   "execution_count": 133,
   "metadata": {},
   "outputs": [
    {
     "name": "stdout",
     "output_type": "stream",
     "text": [
      "1938-08-05 00:00:00\n"
     ]
    }
   ],
   "source": [
    "print(poltava20_4['Hospitalization_Visit_Date'].min())"
   ]
  },
  {
   "cell_type": "code",
   "execution_count": 134,
   "metadata": {},
   "outputs": [
    {
     "name": "stdout",
     "output_type": "stream",
     "text": [
      "      Hospitalization_Visit_Date      Discharge_Date        System_Input_Date  \\\n",
      "29778        1938-08-05 00:00:00 2020-08-14 11:00:00  2020-08-17 08:26:30.032   \n",
      "29776        1938-08-05 00:00:00 2020-08-14 11:00:00  2020-08-17 08:32:26.432   \n",
      "29777        1951-08-01 00:00:00 2020-08-13 08:53:35  2020-08-13 08:59:24.485   \n",
      "20080        1952-08-25 03:00:00 2020-09-02 10:35:05  2020-09-02 10:36:38.312   \n",
      "618          1953-08-22 00:00:00 2020-04-13 00:00:00      2020-04-24 00:00:00   \n",
      "57480        1955-07-28 03:00:00 2020-12-07 16:16:00  2020-12-23 16:34:43.696   \n",
      "2673         1997-07-29 00:00:00 2020-04-14 00:00:00      2020-05-21 00:00:00   \n",
      "20056        2000-07-06 00:00:00 2020-07-20 09:17:27  2020-07-20 09:27:28.600   \n",
      "20224        2000-07-07 00:00:00 2020-07-17 08:01:36  2020-07-17 08:12:45.581   \n",
      "29774        2000-08-08 00:00:00 2020-08-10 10:30:00  2020-08-27 12:30:49.266   \n",
      "29780        2000-08-20 00:00:00 2020-08-10 10:30:00  2020-08-27 09:24:26.053   \n",
      "50687        2007-11-20 02:00:00 2020-11-07 21:25:00  2020-12-14 14:06:37.924   \n",
      "51177        2007-11-20 02:00:00 2020-12-04 12:10:00  2020-12-14 14:10:48.521   \n",
      "29775        2008-03-05 00:00:00 2020-08-03 05:55:25  2020-08-29 05:57:43.823   \n",
      "53619        2010-09-29 03:00:00 2020-10-07 15:00:00  2020-10-12 15:34:49.095   \n",
      "29773        2013-07-03 00:00:00 2020-08-12 09:00:00  2020-08-27 11:45:00.486   \n",
      "20053        2017-06-20 00:00:00 2020-07-03 10:00:00  2020-07-16 12:32:14.350   \n",
      "20054        2017-06-23 00:00:00 2020-07-06 08:00:00  2020-07-21 07:54:37.566   \n",
      "20057        2018-06-26 00:00:00 2020-07-01 09:00:00  2020-07-10 11:25:45.576   \n",
      "38087        2018-08-17 03:00:00 2020-08-28 12:00:38  2020-09-30 15:51:28.889   \n",
      "29772        2018-08-18 00:00:00 2020-08-22 11:40:00  2020-08-22 19:56:58.593   \n",
      "665          2019-05-17 00:00:00 2020-06-01 00:00:00      2020-07-03 15:32:52   \n",
      "51178        2019-09-03 03:00:00 2020-12-03 08:52:50  2020-12-03 09:11:40.950   \n",
      "51179        2019-09-18 03:00:00 2020-12-03 08:43:07  2020-12-03 08:49:36.996   \n",
      "47526        2019-09-29 03:00:00 2020-10-09 09:45:59  2020-10-09 15:35:03.438   \n",
      "18012        2019-10-08 03:00:00 2020-11-02 14:33:00  2020-11-02 14:39:16.794   \n",
      "20384        2019-11-03 02:00:00 2020-09-01 11:19:00  2020-09-01 11:22:02.148   \n",
      "57027        2019-11-27 02:00:00 2020-12-29 10:38:30  2020-12-29 10:43:38.424   \n",
      "56996        2019-11-27 02:00:00 2020-12-29 10:45:48  2020-12-29 10:50:15.508   \n",
      "55700        2019-11-27 02:00:00 2020-12-29 10:52:06  2020-12-29 10:54:56.307   \n",
      "57155        2019-11-27 02:00:00 2020-12-29 10:32:56  2020-12-29 10:58:30.335   \n",
      "4043         2019-12-17 02:00:00 2020-12-01 14:23:30  2020-12-01 14:28:08.569   \n",
      "51180        2019-12-17 02:00:00 2020-12-01 14:40:45  2020-12-01 14:43:09.385   \n",
      "2677         2020-01-01 00:00:00 2020-05-12 00:00:00      2020-06-05 00:00:00   \n",
      "61576        2020-01-06 02:00:00 2021-01-06 11:20:00  2021-01-08 09:04:37.123   \n",
      "62203        2020-01-06 02:00:00 2021-01-11 13:45:00  2021-01-11 13:51:06.073   \n",
      "61544        2020-01-06 02:00:00 2021-01-06 16:10:00  2021-01-08 09:20:39.231   \n",
      "61598        2020-01-06 02:00:00 2021-01-06 12:20:00  2021-01-11 13:01:07.730   \n",
      "61432        2020-01-06 02:00:00 2021-01-11 13:00:00  2021-01-11 13:06:58.519   \n",
      "40333        2020-01-13 02:00:00 2020-10-06 14:50:11  2020-11-24 15:03:34.615   \n",
      "\n",
      "       Patient_Age_Years  \n",
      "29778               81.0  \n",
      "29776               81.0  \n",
      "29777               68.0  \n",
      "20080               68.0  \n",
      "618                  0.0  \n",
      "57480               65.0  \n",
      "2673                 0.0  \n",
      "20056                NaN  \n",
      "20224                NaN  \n",
      "29774               11.0  \n",
      "29780               11.0  \n",
      "50687               69.0  \n",
      "51177               69.0  \n",
      "29775               69.0  \n",
      "53619               49.0  \n",
      "29773                7.0  \n",
      "20053                NaN  \n",
      "20054                NaN  \n",
      "20057               66.0  \n",
      "38087               64.0  \n",
      "29772               30.0  \n",
      "665                 44.0  \n",
      "51178               71.0  \n",
      "51179               49.0  \n",
      "47526               77.0  \n",
      "18012               44.0  \n",
      "20384               46.0  \n",
      "57027               60.0  \n",
      "56996               60.0  \n",
      "55700               60.0  \n",
      "57155               60.0  \n",
      "4043                23.0  \n",
      "51180               23.0  \n",
      "2677                73.0  \n",
      "61576               65.0  \n",
      "62203               65.0  \n",
      "61544               51.0  \n",
      "61598               65.0  \n",
      "61432               65.0  \n",
      "40333                6.0  \n"
     ]
    }
   ],
   "source": [
    "poltava20_4 = poltava20_4.sort_values(by=['Hospitalization_Visit_Date'])\n",
    "print(poltava20_4.loc[:, ['Hospitalization_Visit_Date', 'Discharge_Date', 'System_Input_Date', 'Patient_Age_Years']].iloc[:40, :])"
   ]
  },
  {
   "cell_type": "code",
   "execution_count": 137,
   "metadata": {},
   "outputs": [],
   "source": [
    "poltava20_4[\"Days_In_Hospital\"] = poltava20_4[\"Discharge_Date\"].sub(poltava20_4[\"Hospitalization_Visit_Date\"], axis = 0)"
   ]
  },
  {
   "cell_type": "code",
   "execution_count": 138,
   "metadata": {},
   "outputs": [],
   "source": [
    "#poltava20_4['Days_In_Hospital'] = poltava20_4[\"Discharge_Date\"].sub(poltava20_4[\"Hospitalization_Visit_Date\"], axis = 0)\n",
    "import numpy as np\n",
    "poltava20_4['Days_In_Hospital'] = poltava20_4['Days_In_Hospital'] / np.timedelta64(1, 'D')\n",
    "poltava20_4['Days_In_Hospital'] = poltava20_4['Days_In_Hospital'] + 1"
   ]
  },
  {
   "cell_type": "code",
   "execution_count": 139,
   "metadata": {},
   "outputs": [],
   "source": [
    "poltava20_4['Hospitalization_Month'] = pd.DatetimeIndex(poltava20_4[\"Hospitalization_Visit_Date\"]).month"
   ]
  },
  {
   "cell_type": "code",
   "execution_count": 140,
   "metadata": {},
   "outputs": [],
   "source": [
    "poltava20_4['Hospitalization_Date'] = pd.DatetimeIndex(poltava20_4[\"Hospitalization_Visit_Date\"]).date"
   ]
  },
  {
   "cell_type": "code",
   "execution_count": 141,
   "metadata": {},
   "outputs": [],
   "source": [
    "poltava20_4['Discharge_Month'] = pd.DatetimeIndex(poltava20_4[\"Discharge_Date\"]).month"
   ]
  },
  {
   "cell_type": "code",
   "execution_count": 142,
   "metadata": {},
   "outputs": [],
   "source": [
    "#poltava20_4['Discharge_Date'] = pd.to_datetime(poltava20_4['Discharge_Date'])\n",
    "poltava20_4['Discharge_Day'] = poltava20_4[\"Discharge_Date\"].dt.day\n"
   ]
  },
  {
   "cell_type": "code",
   "execution_count": 153,
   "metadata": {},
   "outputs": [],
   "source": [
    "poltava20_4['Hospitalization_Day'] = poltava20_4[\"Hospitalization_Visit_Date\"].dt.day"
   ]
  },
  {
   "cell_type": "code",
   "execution_count": 143,
   "metadata": {},
   "outputs": [],
   "source": [
    "poltava20_4['Discharge_Year'] = pd.DatetimeIndex(poltava20_4[\"Discharge_Date\"]).year"
   ]
  },
  {
   "cell_type": "code",
   "execution_count": 155,
   "metadata": {},
   "outputs": [],
   "source": [
    "poltava20_4_Long = poltava20_4[poltava20_4['Days_In_Hospital'] > 60]"
   ]
  },
  {
   "cell_type": "code",
   "execution_count": 145,
   "metadata": {},
   "outputs": [
    {
     "name": "stdout",
     "output_type": "stream",
     "text": [
      "(599, 63)\n"
     ]
    }
   ],
   "source": [
    "print(poltava20_4_Long.shape)"
   ]
  },
  {
   "cell_type": "code",
   "execution_count": 156,
   "metadata": {},
   "outputs": [],
   "source": [
    "poltava20_4_Long_1M = poltava20_4_Long[poltava20_4_Long['Hospitalization_Month'] == poltava20_4_Long['Discharge_Month']]"
   ]
  },
  {
   "cell_type": "code",
   "execution_count": 157,
   "metadata": {},
   "outputs": [
    {
     "data": {
      "text/plain": [
       "(19, 64)"
      ]
     },
     "execution_count": 157,
     "metadata": {},
     "output_type": "execute_result"
    }
   ],
   "source": [
    "poltava20_4_Long_1M.shape"
   ]
  },
  {
   "cell_type": "code",
   "execution_count": 158,
   "metadata": {},
   "outputs": [
    {
     "name": "stdout",
     "output_type": "stream",
     "text": [
      "      Hospitalization_Visit_Date      Discharge_Date\n",
      "29778        1938-08-05 00:00:00 2020-08-14 11:00:00\n",
      "29776        1938-08-05 00:00:00 2020-08-14 11:00:00\n",
      "29777        1951-08-01 00:00:00 2020-08-13 08:53:35\n",
      "20056        2000-07-06 00:00:00 2020-07-20 09:17:27\n",
      "20224        2000-07-07 00:00:00 2020-07-17 08:01:36\n",
      "29774        2000-08-08 00:00:00 2020-08-10 10:30:00\n",
      "29780        2000-08-20 00:00:00 2020-08-10 10:30:00\n",
      "50687        2007-11-20 02:00:00 2020-11-07 21:25:00\n",
      "38087        2018-08-17 03:00:00 2020-08-28 12:00:38\n",
      "29772        2018-08-18 00:00:00 2020-08-22 11:40:00\n",
      "4043         2019-12-17 02:00:00 2020-12-01 14:23:30\n",
      "51180        2019-12-17 02:00:00 2020-12-01 14:40:45\n",
      "61576        2020-01-06 02:00:00 2021-01-06 11:20:00\n",
      "62203        2020-01-06 02:00:00 2021-01-11 13:45:00\n",
      "61544        2020-01-06 02:00:00 2021-01-06 16:10:00\n",
      "61598        2020-01-06 02:00:00 2021-01-06 12:20:00\n",
      "61432        2020-01-06 02:00:00 2021-01-11 13:00:00\n",
      "62202        2020-01-22 02:00:00 2021-01-04 13:26:05\n",
      "61450        2020-01-22 02:00:00 2021-01-03 13:22:41\n"
     ]
    }
   ],
   "source": [
    "print(poltava20_4_Long_1M.loc[:,[\"Hospitalization_Visit_Date\", \"Discharge_Date\"]])"
   ]
  },
  {
   "cell_type": "code",
   "execution_count": 160,
   "metadata": {},
   "outputs": [
    {
     "name": "stderr",
     "output_type": "stream",
     "text": [
      "/Users/ruska/anaconda3/lib/python3.7/site-packages/ipykernel_launcher.py:1: SettingWithCopyWarning: \n",
      "A value is trying to be set on a copy of a slice from a DataFrame.\n",
      "Try using .loc[row_indexer,col_indexer] = value instead\n",
      "\n",
      "See the caveats in the documentation: https://pandas.pydata.org/pandas-docs/stable/user_guide/indexing.html#returning-a-view-versus-a-copy\n",
      "  \"\"\"Entry point for launching an IPython kernel.\n"
     ]
    }
   ],
   "source": [
    "poltava20_4_Long_1M['Hospitalization_Date_NEW'] = poltava20_4_Long_1M.Discharge_Year.astype(str) + \"-\" +  poltava20_4_Long_1M.Discharge_Month.astype(str) + \"-\" + poltava20_4_Long_1M.Hospitalization_Day.astype(str)"
   ]
  },
  {
   "cell_type": "code",
   "execution_count": 161,
   "metadata": {},
   "outputs": [
    {
     "data": {
      "text/plain": [
       "29778      2020-8-5\n",
       "29776      2020-8-5\n",
       "29777      2020-8-1\n",
       "20056      2020-7-6\n",
       "20224      2020-7-7\n",
       "29774      2020-8-8\n",
       "29780     2020-8-20\n",
       "50687    2020-11-20\n",
       "38087     2020-8-17\n",
       "29772     2020-8-18\n",
       "4043     2020-12-17\n",
       "51180    2020-12-17\n",
       "61576      2021-1-6\n",
       "62203      2021-1-6\n",
       "61544      2021-1-6\n",
       "61598      2021-1-6\n",
       "61432      2021-1-6\n",
       "62202     2021-1-22\n",
       "61450     2021-1-22\n",
       "Name: Hospitalization_Date_NEW, dtype: object"
      ]
     },
     "execution_count": 161,
     "metadata": {},
     "output_type": "execute_result"
    }
   ],
   "source": [
    "poltava20_4_Long_1M['Hospitalization_Date_NEW']"
   ]
  },
  {
   "cell_type": "code",
   "execution_count": 162,
   "metadata": {},
   "outputs": [
    {
     "name": "stderr",
     "output_type": "stream",
     "text": [
      "/Users/ruska/anaconda3/lib/python3.7/site-packages/ipykernel_launcher.py:1: SettingWithCopyWarning: \n",
      "A value is trying to be set on a copy of a slice from a DataFrame.\n",
      "Try using .loc[row_indexer,col_indexer] = value instead\n",
      "\n",
      "See the caveats in the documentation: https://pandas.pydata.org/pandas-docs/stable/user_guide/indexing.html#returning-a-view-versus-a-copy\n",
      "  \"\"\"Entry point for launching an IPython kernel.\n"
     ]
    }
   ],
   "source": [
    "poltava20_4_Long_1M['Hospitalization_Date_NEW'] = pd.to_datetime(poltava20_4_Long_1M['Hospitalization_Date_NEW'])\n"
   ]
  },
  {
   "cell_type": "code",
   "execution_count": 166,
   "metadata": {},
   "outputs": [
    {
     "name": "stderr",
     "output_type": "stream",
     "text": [
      "/Users/ruska/anaconda3/lib/python3.7/site-packages/ipykernel_launcher.py:2: SettingWithCopyWarning: \n",
      "A value is trying to be set on a copy of a slice from a DataFrame.\n",
      "Try using .loc[row_indexer,col_indexer] = value instead\n",
      "\n",
      "See the caveats in the documentation: https://pandas.pydata.org/pandas-docs/stable/user_guide/indexing.html#returning-a-view-versus-a-copy\n",
      "  \n"
     ]
    }
   ],
   "source": [
    "df = poltava20_4_Long_1M\n",
    "df['Hospitalization_Date_NEW2'] = np.where(df['Hospitalization_Date_NEW'] <= df['Discharge_Date'], df['Hospitalization_Date_NEW'] , df['Hospitalization_Visit_Date'])"
   ]
  },
  {
   "cell_type": "code",
   "execution_count": 167,
   "metadata": {},
   "outputs": [],
   "source": [
    "poltava20_4_Long_1M = df"
   ]
  },
  {
   "cell_type": "code",
   "execution_count": 169,
   "metadata": {},
   "outputs": [
    {
     "name": "stdout",
     "output_type": "stream",
     "text": [
      "      Hospitalization_Visit_Date      Discharge_Date Hospitalization_Date_NEW2\n",
      "29778        1938-08-05 00:00:00 2020-08-14 11:00:00       2020-08-05 00:00:00\n",
      "29776        1938-08-05 00:00:00 2020-08-14 11:00:00       2020-08-05 00:00:00\n",
      "29777        1951-08-01 00:00:00 2020-08-13 08:53:35       2020-08-01 00:00:00\n",
      "20056        2000-07-06 00:00:00 2020-07-20 09:17:27       2020-07-06 00:00:00\n",
      "20224        2000-07-07 00:00:00 2020-07-17 08:01:36       2020-07-07 00:00:00\n",
      "29774        2000-08-08 00:00:00 2020-08-10 10:30:00       2020-08-08 00:00:00\n",
      "29780        2000-08-20 00:00:00 2020-08-10 10:30:00       2000-08-20 00:00:00\n",
      "50687        2007-11-20 02:00:00 2020-11-07 21:25:00       2007-11-20 02:00:00\n",
      "38087        2018-08-17 03:00:00 2020-08-28 12:00:38       2020-08-17 00:00:00\n",
      "29772        2018-08-18 00:00:00 2020-08-22 11:40:00       2020-08-18 00:00:00\n",
      "4043         2019-12-17 02:00:00 2020-12-01 14:23:30       2019-12-17 02:00:00\n",
      "51180        2019-12-17 02:00:00 2020-12-01 14:40:45       2019-12-17 02:00:00\n",
      "61576        2020-01-06 02:00:00 2021-01-06 11:20:00       2021-01-06 00:00:00\n",
      "62203        2020-01-06 02:00:00 2021-01-11 13:45:00       2021-01-06 00:00:00\n",
      "61544        2020-01-06 02:00:00 2021-01-06 16:10:00       2021-01-06 00:00:00\n",
      "61598        2020-01-06 02:00:00 2021-01-06 12:20:00       2021-01-06 00:00:00\n",
      "61432        2020-01-06 02:00:00 2021-01-11 13:00:00       2021-01-06 00:00:00\n",
      "62202        2020-01-22 02:00:00 2021-01-04 13:26:05       2020-01-22 02:00:00\n",
      "61450        2020-01-22 02:00:00 2021-01-03 13:22:41       2020-01-22 02:00:00\n"
     ]
    }
   ],
   "source": [
    "print(poltava20_4_Long_1M.loc[:,[\"Hospitalization_Visit_Date\", \"Discharge_Date\", 'Hospitalization_Date_NEW2']])"
   ]
  },
  {
   "cell_type": "code",
   "execution_count": 170,
   "metadata": {},
   "outputs": [],
   "source": [
    "poltava20_4_Long_2M = poltava20_4_Long[poltava20_4_Long['Hospitalization_Month'] - poltava20_4_Long['Discharge_Month'] == -1]"
   ]
  },
  {
   "cell_type": "code",
   "execution_count": 86,
   "metadata": {},
   "outputs": [
    {
     "data": {
      "text/plain": [
       "(15, 61)"
      ]
     },
     "execution_count": 86,
     "metadata": {},
     "output_type": "execute_result"
    }
   ],
   "source": [
    "poltava20_4_Long_2M.shape"
   ]
  },
  {
   "cell_type": "code",
   "execution_count": 171,
   "metadata": {},
   "outputs": [
    {
     "name": "stderr",
     "output_type": "stream",
     "text": [
      "/Users/ruska/anaconda3/lib/python3.7/site-packages/ipykernel_launcher.py:1: SettingWithCopyWarning: \n",
      "A value is trying to be set on a copy of a slice from a DataFrame.\n",
      "Try using .loc[row_indexer,col_indexer] = value instead\n",
      "\n",
      "See the caveats in the documentation: https://pandas.pydata.org/pandas-docs/stable/user_guide/indexing.html#returning-a-view-versus-a-copy\n",
      "  \"\"\"Entry point for launching an IPython kernel.\n"
     ]
    }
   ],
   "source": [
    "poltava20_4_Long_2M['Hospitalization_Date_NEW'] = poltava20_4_Long_2M.Discharge_Year.astype(str) + \"-\" +  poltava20_4_Long_2M.Hospitalization_Month.astype(str) + \"-\" + poltava20_4_Long_2M.Hospitalization_Day.astype(str)"
   ]
  },
  {
   "cell_type": "code",
   "execution_count": 172,
   "metadata": {},
   "outputs": [
    {
     "name": "stderr",
     "output_type": "stream",
     "text": [
      "/Users/ruska/anaconda3/lib/python3.7/site-packages/ipykernel_launcher.py:1: SettingWithCopyWarning: \n",
      "A value is trying to be set on a copy of a slice from a DataFrame.\n",
      "Try using .loc[row_indexer,col_indexer] = value instead\n",
      "\n",
      "See the caveats in the documentation: https://pandas.pydata.org/pandas-docs/stable/user_guide/indexing.html#returning-a-view-versus-a-copy\n",
      "  \"\"\"Entry point for launching an IPython kernel.\n"
     ]
    }
   ],
   "source": [
    "poltava20_4_Long_2M['Hospitalization_Date_NEW'] = pd.to_datetime(poltava20_4_Long_2M['Hospitalization_Date_NEW'])"
   ]
  },
  {
   "cell_type": "code",
   "execution_count": 174,
   "metadata": {},
   "outputs": [
    {
     "name": "stdout",
     "output_type": "stream",
     "text": [
      "      Hospitalization_Visit_Date      Discharge_Date Hospitalization_Date_NEW\n",
      "20080        1952-08-25 03:00:00 2020-09-02 10:35:05               2020-08-25\n",
      "51177        2007-11-20 02:00:00 2020-12-04 12:10:00               2020-11-20\n",
      "53619        2010-09-29 03:00:00 2020-10-07 15:00:00               2020-09-29\n",
      "29773        2013-07-03 00:00:00 2020-08-12 09:00:00               2020-07-03\n",
      "20053        2017-06-20 00:00:00 2020-07-03 10:00:00               2020-06-20\n",
      "20054        2017-06-23 00:00:00 2020-07-06 08:00:00               2020-06-23\n",
      "20057        2018-06-26 00:00:00 2020-07-01 09:00:00               2020-06-26\n",
      "665          2019-05-17 00:00:00 2020-06-01 00:00:00               2020-05-17\n",
      "47526        2019-09-29 03:00:00 2020-10-09 09:45:59               2020-09-29\n",
      "18012        2019-10-08 03:00:00 2020-11-02 14:33:00               2020-10-08\n",
      "57027        2019-11-27 02:00:00 2020-12-29 10:38:30               2020-11-27\n",
      "56996        2019-11-27 02:00:00 2020-12-29 10:45:48               2020-11-27\n",
      "55700        2019-11-27 02:00:00 2020-12-29 10:52:06               2020-11-27\n",
      "57155        2019-11-27 02:00:00 2020-12-29 10:32:56               2020-11-27\n",
      "63887        2020-11-02 02:00:00 2020-12-31 12:00:00               2020-11-02\n"
     ]
    }
   ],
   "source": [
    "print(poltava20_4_Long_2M.loc[:,[\"Hospitalization_Visit_Date\", \"Discharge_Date\", 'Hospitalization_Date_NEW']])"
   ]
  },
  {
   "cell_type": "code",
   "execution_count": 175,
   "metadata": {},
   "outputs": [
    {
     "name": "stderr",
     "output_type": "stream",
     "text": [
      "/Users/ruska/anaconda3/lib/python3.7/site-packages/ipykernel_launcher.py:1: SettingWithCopyWarning: \n",
      "A value is trying to be set on a copy of a slice from a DataFrame.\n",
      "Try using .loc[row_indexer,col_indexer] = value instead\n",
      "\n",
      "See the caveats in the documentation: https://pandas.pydata.org/pandas-docs/stable/user_guide/indexing.html#returning-a-view-versus-a-copy\n",
      "  \"\"\"Entry point for launching an IPython kernel.\n"
     ]
    }
   ],
   "source": [
    "poltava20_4_Long_1M[\"Hospitalization_Visit_Date\"] = poltava20_4_Long_1M['Hospitalization_Date_NEW2']"
   ]
  },
  {
   "cell_type": "code",
   "execution_count": 176,
   "metadata": {},
   "outputs": [
    {
     "name": "stderr",
     "output_type": "stream",
     "text": [
      "/Users/ruska/anaconda3/lib/python3.7/site-packages/ipykernel_launcher.py:1: SettingWithCopyWarning: \n",
      "A value is trying to be set on a copy of a slice from a DataFrame.\n",
      "Try using .loc[row_indexer,col_indexer] = value instead\n",
      "\n",
      "See the caveats in the documentation: https://pandas.pydata.org/pandas-docs/stable/user_guide/indexing.html#returning-a-view-versus-a-copy\n",
      "  \"\"\"Entry point for launching an IPython kernel.\n"
     ]
    }
   ],
   "source": [
    "poltava20_4_Long_2M[\"Hospitalization_Visit_Date\"] = poltava20_4_Long_2M['Hospitalization_Date_NEW']"
   ]
  },
  {
   "cell_type": "code",
   "execution_count": 177,
   "metadata": {},
   "outputs": [
    {
     "name": "stdout",
     "output_type": "stream",
     "text": [
      "        index  Hospital_ID Reporting_Month Data_Source  \\\n",
      "20080  764704      1999388        вересень     EHEALTH   \n",
      "51177  292732      1111581         грудень     EHEALTH   \n",
      "53619  389060      1999106         жовтень     EHEALTH   \n",
      "29773  336644      1999684         серпень     EHEALTH   \n",
      "20053  763088      1999106          липень     EHEALTH   \n",
      "\n",
      "                                  Record_ID        Type_of_Referral  \\\n",
      "20080  71525aee-ded9-4017-ac4b-40b441407523         Без направлення   \n",
      "51177  8bfc634f-9f01-445d-8914-835e0b90a8bc    Паперове направлення   \n",
      "53619  3b904e4c-e94c-592f-aa48-5dcc1eb3f690  Електронне направлення   \n",
      "29773  150e5894-cca5-4836-ad4a-7438d9583366    Паперове направлення   \n",
      "20053  ac9c5d5b-860a-50d5-8b4f-a15a54e49018         Без направлення   \n",
      "\n",
      "                              Finance_Program  \\\n",
      "20080                                     NaN   \n",
      "51177                                     NaN   \n",
      "53619  Програма медичних гарантій в 2020 році   \n",
      "29773                                     NaN   \n",
      "20053                                     NaN   \n",
      "\n",
      "                                Referral_ID  \\\n",
      "20080                                   NaN   \n",
      "51177                                   NaN   \n",
      "53619  e9d0fae6-f07f-4f0c-b4d8-4b6aa55a38ae   \n",
      "29773                                   NaN   \n",
      "20053                                   NaN   \n",
      "\n",
      "            Position_of_Doctor_Who_Gave_Referral  ID_of_Paper_Referral  ...  \\\n",
      "20080                                        NaN                   NaN  ...   \n",
      "51177                                        NaN            10999738.0  ...   \n",
      "53619  Лікар загальної практики - сімейний лікар                   NaN  ...   \n",
      "29773                                        NaN            38622213.0  ...   \n",
      "20053                                        NaN                   NaN  ...   \n",
      "\n",
      "      Errors_in_Grouping                                         Patient_ID  \\\n",
      "20080                NaN  596993E6192FA78E2D4F678B683C22C225D8F23DC0DF5F...   \n",
      "51177                NaN  BD268BADB5036B86A3318DDEE67552DA3E5B002FCF3715...   \n",
      "53619                NaN  790C947AC45C5FA57D013F87A3B3446C5C9245BA2C850A...   \n",
      "29773                NaN  D234C149A0D732BCCA8A45D18A1A71F9A218B713E91511...   \n",
      "20053                NaN  ECF0A7EFDCF64E5D4C82C5A2FD84A45E4377F1B63578F2...   \n",
      "\n",
      "      Days_In_Hospital Hospitalization_Month Hospitalization_Date  \\\n",
      "20080     24846.316030                     8           1952-08-25   \n",
      "51177      4764.423611                    11           2007-11-20   \n",
      "53619      3662.500000                     9           2010-09-29   \n",
      "29773      2598.375000                     7           2013-07-03   \n",
      "20053      1110.416667                     6           2017-06-20   \n",
      "\n",
      "      Discharge_Month Discharge_Day Discharge_Year Hospitalization_Day  \\\n",
      "20080               9             2           2020                  25   \n",
      "51177              12             4           2020                  20   \n",
      "53619              10             7           2020                  29   \n",
      "29773               8            12           2020                   3   \n",
      "20053               7             3           2020                  20   \n",
      "\n",
      "      Hospitalization_Date_NEW  \n",
      "20080               2020-08-25  \n",
      "51177               2020-11-20  \n",
      "53619               2020-09-29  \n",
      "29773               2020-07-03  \n",
      "20053               2020-06-20  \n",
      "\n",
      "[5 rows x 65 columns]\n"
     ]
    }
   ],
   "source": [
    "print(poltava20_4_Long_2M.head())"
   ]
  },
  {
   "cell_type": "code",
   "execution_count": 179,
   "metadata": {},
   "outputs": [],
   "source": [
    "M2_index = poltava20_4_Long_2M.index.values.tolist()\n",
    "M1_index = poltava20_4_Long_1M.index.values.tolist()"
   ]
  },
  {
   "cell_type": "code",
   "execution_count": 186,
   "metadata": {},
   "outputs": [
    {
     "name": "stdout",
     "output_type": "stream",
     "text": [
      "[20080, 51177, 53619, 29773, 20053, 20054, 20057, 665, 47526, 18012, 57027, 56996, 55700, 57155, 63887]\n"
     ]
    }
   ],
   "source": [
    "print(M2_index)"
   ]
  },
  {
   "cell_type": "code",
   "execution_count": 188,
   "metadata": {},
   "outputs": [],
   "source": [
    "HD2 = poltava20_4_Long_2M[\"Hospitalization_Visit_Date\"].tolist()\n",
    "HD1 = poltava20_4_Long_1M[\"Hospitalization_Visit_Date\"].tolist()"
   ]
  },
  {
   "cell_type": "code",
   "execution_count": 189,
   "metadata": {},
   "outputs": [
    {
     "name": "stdout",
     "output_type": "stream",
     "text": [
      "[Timestamp('2020-08-25 00:00:00'), Timestamp('2020-11-20 00:00:00'), Timestamp('2020-09-29 00:00:00'), Timestamp('2020-07-03 00:00:00'), Timestamp('2020-06-20 00:00:00'), Timestamp('2020-06-23 00:00:00'), Timestamp('2020-06-26 00:00:00'), Timestamp('2020-05-17 00:00:00'), Timestamp('2020-09-29 00:00:00'), Timestamp('2020-10-08 00:00:00'), Timestamp('2020-11-27 00:00:00'), Timestamp('2020-11-27 00:00:00'), Timestamp('2020-11-27 00:00:00'), Timestamp('2020-11-27 00:00:00'), Timestamp('2020-11-02 00:00:00')]\n"
     ]
    }
   ],
   "source": [
    "print(HD2)"
   ]
  },
  {
   "cell_type": "code",
   "execution_count": 191,
   "metadata": {},
   "outputs": [
    {
     "name": "stdout",
     "output_type": "stream",
     "text": [
      "{20080: Timestamp('2020-08-25 00:00:00'), 51177: Timestamp('2020-11-20 00:00:00'), 53619: Timestamp('2020-09-29 00:00:00'), 29773: Timestamp('2020-07-03 00:00:00'), 20053: Timestamp('2020-06-20 00:00:00'), 20054: Timestamp('2020-06-23 00:00:00'), 20057: Timestamp('2020-06-26 00:00:00'), 665: Timestamp('2020-05-17 00:00:00'), 47526: Timestamp('2020-09-29 00:00:00'), 18012: Timestamp('2020-10-08 00:00:00'), 57027: Timestamp('2020-11-27 00:00:00'), 56996: Timestamp('2020-11-27 00:00:00'), 55700: Timestamp('2020-11-27 00:00:00'), 57155: Timestamp('2020-11-27 00:00:00'), 63887: Timestamp('2020-11-02 00:00:00')}\n"
     ]
    }
   ],
   "source": [
    "I_HD_2 = dict(zip(M2_index, HD2))\n",
    "print(I_HD_2)\n",
    "        "
   ]
  },
  {
   "cell_type": "code",
   "execution_count": 192,
   "metadata": {},
   "outputs": [
    {
     "name": "stdout",
     "output_type": "stream",
     "text": [
      "{29778: Timestamp('2020-08-25 00:00:00'), 29776: Timestamp('2020-11-20 00:00:00'), 29777: Timestamp('2020-09-29 00:00:00'), 20056: Timestamp('2020-07-03 00:00:00'), 20224: Timestamp('2020-06-20 00:00:00'), 29774: Timestamp('2020-06-23 00:00:00'), 29780: Timestamp('2020-06-26 00:00:00'), 50687: Timestamp('2020-05-17 00:00:00'), 38087: Timestamp('2020-09-29 00:00:00'), 29772: Timestamp('2020-10-08 00:00:00'), 4043: Timestamp('2020-11-27 00:00:00'), 51180: Timestamp('2020-11-27 00:00:00'), 61576: Timestamp('2020-11-27 00:00:00'), 62203: Timestamp('2020-11-27 00:00:00'), 61544: Timestamp('2020-11-02 00:00:00')}\n"
     ]
    }
   ],
   "source": [
    "I_HD_1 = dict(zip(M1_index, HD2))\n",
    "print(I_HD_1)"
   ]
  },
  {
   "cell_type": "code",
   "execution_count": 193,
   "metadata": {},
   "outputs": [],
   "source": [
    "I_HD = {**I_HD_1, **I_HD_2}"
   ]
  },
  {
   "cell_type": "code",
   "execution_count": 197,
   "metadata": {},
   "outputs": [
    {
     "ename": "TypeError",
     "evalue": "Cannot compare types 'ndarray(dtype=datetime64[ns])' and 'int'",
     "output_type": "error",
     "traceback": [
      "\u001b[0;31m---------------------------------------------------------------------------\u001b[0m",
      "\u001b[0;31mTypeError\u001b[0m                                 Traceback (most recent call last)",
      "\u001b[0;32m<ipython-input-197-93a31ed6583f>\u001b[0m in \u001b[0;36m<module>\u001b[0;34m\u001b[0m\n\u001b[1;32m      2\u001b[0m \u001b[0mpoltava20_4\u001b[0m\u001b[0;34m[\u001b[0m\u001b[0;34m'Hospitalization_Visit_Date'\u001b[0m\u001b[0;34m]\u001b[0m \u001b[0;34m=\u001b[0m \u001b[0mpd\u001b[0m\u001b[0;34m.\u001b[0m\u001b[0mto_datetime\u001b[0m\u001b[0;34m(\u001b[0m\u001b[0mpoltava20_4\u001b[0m\u001b[0;34m[\u001b[0m\u001b[0;34m'Hospitalization_Visit_Date'\u001b[0m\u001b[0;34m]\u001b[0m\u001b[0;34m)\u001b[0m\u001b[0;34m\u001b[0m\u001b[0;34m\u001b[0m\u001b[0m\n\u001b[1;32m      3\u001b[0m \u001b[0mpoltava20_test\u001b[0m \u001b[0;34m=\u001b[0m \u001b[0mpoltava20_4\u001b[0m\u001b[0;34m\u001b[0m\u001b[0;34m\u001b[0m\u001b[0m\n\u001b[0;32m----> 4\u001b[0;31m \u001b[0mpoltava20_test\u001b[0m \u001b[0;34m=\u001b[0m \u001b[0mpoltava20_test\u001b[0m\u001b[0;34m.\u001b[0m\u001b[0mreplace\u001b[0m\u001b[0;34m(\u001b[0m\u001b[0;34m{\u001b[0m\u001b[0;34m'Hospitalization_Visit_Date'\u001b[0m\u001b[0;34m:\u001b[0m \u001b[0mI_HD\u001b[0m\u001b[0;34m}\u001b[0m\u001b[0;34m)\u001b[0m\u001b[0;34m\u001b[0m\u001b[0;34m\u001b[0m\u001b[0m\n\u001b[0m",
      "\u001b[0;32m~/anaconda3/lib/python3.7/site-packages/pandas/core/frame.py\u001b[0m in \u001b[0;36mreplace\u001b[0;34m(self, to_replace, value, inplace, limit, regex, method)\u001b[0m\n\u001b[1;32m   4170\u001b[0m             \u001b[0mlimit\u001b[0m\u001b[0;34m=\u001b[0m\u001b[0mlimit\u001b[0m\u001b[0;34m,\u001b[0m\u001b[0;34m\u001b[0m\u001b[0;34m\u001b[0m\u001b[0m\n\u001b[1;32m   4171\u001b[0m             \u001b[0mregex\u001b[0m\u001b[0;34m=\u001b[0m\u001b[0mregex\u001b[0m\u001b[0;34m,\u001b[0m\u001b[0;34m\u001b[0m\u001b[0;34m\u001b[0m\u001b[0m\n\u001b[0;32m-> 4172\u001b[0;31m             \u001b[0mmethod\u001b[0m\u001b[0;34m=\u001b[0m\u001b[0mmethod\u001b[0m\u001b[0;34m,\u001b[0m\u001b[0;34m\u001b[0m\u001b[0;34m\u001b[0m\u001b[0m\n\u001b[0m\u001b[1;32m   4173\u001b[0m         )\n\u001b[1;32m   4174\u001b[0m \u001b[0;34m\u001b[0m\u001b[0m\n",
      "\u001b[0;32m~/anaconda3/lib/python3.7/site-packages/pandas/core/generic.py\u001b[0m in \u001b[0;36mreplace\u001b[0;34m(self, to_replace, value, inplace, limit, regex, method)\u001b[0m\n\u001b[1;32m   6644\u001b[0m \u001b[0;34m\u001b[0m\u001b[0m\n\u001b[1;32m   6645\u001b[0m             return self.replace(\n\u001b[0;32m-> 6646\u001b[0;31m                 \u001b[0mto_replace\u001b[0m\u001b[0;34m,\u001b[0m \u001b[0mvalue\u001b[0m\u001b[0;34m,\u001b[0m \u001b[0minplace\u001b[0m\u001b[0;34m=\u001b[0m\u001b[0minplace\u001b[0m\u001b[0;34m,\u001b[0m \u001b[0mlimit\u001b[0m\u001b[0;34m=\u001b[0m\u001b[0mlimit\u001b[0m\u001b[0;34m,\u001b[0m \u001b[0mregex\u001b[0m\u001b[0;34m=\u001b[0m\u001b[0mregex\u001b[0m\u001b[0;34m\u001b[0m\u001b[0;34m\u001b[0m\u001b[0m\n\u001b[0m\u001b[1;32m   6647\u001b[0m             )\n\u001b[1;32m   6648\u001b[0m         \u001b[0;32melse\u001b[0m\u001b[0;34m:\u001b[0m\u001b[0;34m\u001b[0m\u001b[0;34m\u001b[0m\u001b[0m\n",
      "\u001b[0;32m~/anaconda3/lib/python3.7/site-packages/pandas/core/frame.py\u001b[0m in \u001b[0;36mreplace\u001b[0;34m(self, to_replace, value, inplace, limit, regex, method)\u001b[0m\n\u001b[1;32m   4170\u001b[0m             \u001b[0mlimit\u001b[0m\u001b[0;34m=\u001b[0m\u001b[0mlimit\u001b[0m\u001b[0;34m,\u001b[0m\u001b[0;34m\u001b[0m\u001b[0;34m\u001b[0m\u001b[0m\n\u001b[1;32m   4171\u001b[0m             \u001b[0mregex\u001b[0m\u001b[0;34m=\u001b[0m\u001b[0mregex\u001b[0m\u001b[0;34m,\u001b[0m\u001b[0;34m\u001b[0m\u001b[0;34m\u001b[0m\u001b[0m\n\u001b[0;32m-> 4172\u001b[0;31m             \u001b[0mmethod\u001b[0m\u001b[0;34m=\u001b[0m\u001b[0mmethod\u001b[0m\u001b[0;34m,\u001b[0m\u001b[0;34m\u001b[0m\u001b[0;34m\u001b[0m\u001b[0m\n\u001b[0m\u001b[1;32m   4173\u001b[0m         )\n\u001b[1;32m   4174\u001b[0m \u001b[0;34m\u001b[0m\u001b[0m\n",
      "\u001b[0;32m~/anaconda3/lib/python3.7/site-packages/pandas/core/generic.py\u001b[0m in \u001b[0;36mreplace\u001b[0;34m(self, to_replace, value, inplace, limit, regex, method)\u001b[0m\n\u001b[1;32m   6664\u001b[0m                                 \u001b[0mvalue\u001b[0m\u001b[0;34m=\u001b[0m\u001b[0mvalue\u001b[0m\u001b[0;34m[\u001b[0m\u001b[0mc\u001b[0m\u001b[0;34m]\u001b[0m\u001b[0;34m,\u001b[0m\u001b[0;34m\u001b[0m\u001b[0;34m\u001b[0m\u001b[0m\n\u001b[1;32m   6665\u001b[0m                                 \u001b[0minplace\u001b[0m\u001b[0;34m=\u001b[0m\u001b[0;32mFalse\u001b[0m\u001b[0;34m,\u001b[0m\u001b[0;34m\u001b[0m\u001b[0;34m\u001b[0m\u001b[0m\n\u001b[0;32m-> 6666\u001b[0;31m                                 \u001b[0mregex\u001b[0m\u001b[0;34m=\u001b[0m\u001b[0mregex\u001b[0m\u001b[0;34m,\u001b[0m\u001b[0;34m\u001b[0m\u001b[0;34m\u001b[0m\u001b[0m\n\u001b[0m\u001b[1;32m   6667\u001b[0m                             )\n\u001b[1;32m   6668\u001b[0m                     \u001b[0;32mreturn\u001b[0m \u001b[0;32mNone\u001b[0m \u001b[0;32mif\u001b[0m \u001b[0minplace\u001b[0m \u001b[0;32melse\u001b[0m \u001b[0mres\u001b[0m\u001b[0;34m\u001b[0m\u001b[0;34m\u001b[0m\u001b[0m\n",
      "\u001b[0;32m~/anaconda3/lib/python3.7/site-packages/pandas/core/series.py\u001b[0m in \u001b[0;36mreplace\u001b[0;34m(self, to_replace, value, inplace, limit, regex, method)\u001b[0m\n\u001b[1;32m   4176\u001b[0m             \u001b[0mlimit\u001b[0m\u001b[0;34m=\u001b[0m\u001b[0mlimit\u001b[0m\u001b[0;34m,\u001b[0m\u001b[0;34m\u001b[0m\u001b[0;34m\u001b[0m\u001b[0m\n\u001b[1;32m   4177\u001b[0m             \u001b[0mregex\u001b[0m\u001b[0;34m=\u001b[0m\u001b[0mregex\u001b[0m\u001b[0;34m,\u001b[0m\u001b[0;34m\u001b[0m\u001b[0;34m\u001b[0m\u001b[0m\n\u001b[0;32m-> 4178\u001b[0;31m             \u001b[0mmethod\u001b[0m\u001b[0;34m=\u001b[0m\u001b[0mmethod\u001b[0m\u001b[0;34m,\u001b[0m\u001b[0;34m\u001b[0m\u001b[0;34m\u001b[0m\u001b[0m\n\u001b[0m\u001b[1;32m   4179\u001b[0m         )\n\u001b[1;32m   4180\u001b[0m \u001b[0;34m\u001b[0m\u001b[0m\n",
      "\u001b[0;32m~/anaconda3/lib/python3.7/site-packages/pandas/core/generic.py\u001b[0m in \u001b[0;36mreplace\u001b[0;34m(self, to_replace, value, inplace, limit, regex, method)\u001b[0m\n\u001b[1;32m   6697\u001b[0m                         \u001b[0mdest_list\u001b[0m\u001b[0;34m=\u001b[0m\u001b[0mvalue\u001b[0m\u001b[0;34m,\u001b[0m\u001b[0;34m\u001b[0m\u001b[0;34m\u001b[0m\u001b[0m\n\u001b[1;32m   6698\u001b[0m                         \u001b[0minplace\u001b[0m\u001b[0;34m=\u001b[0m\u001b[0minplace\u001b[0m\u001b[0;34m,\u001b[0m\u001b[0;34m\u001b[0m\u001b[0;34m\u001b[0m\u001b[0m\n\u001b[0;32m-> 6699\u001b[0;31m                         \u001b[0mregex\u001b[0m\u001b[0;34m=\u001b[0m\u001b[0mregex\u001b[0m\u001b[0;34m,\u001b[0m\u001b[0;34m\u001b[0m\u001b[0;34m\u001b[0m\u001b[0m\n\u001b[0m\u001b[1;32m   6700\u001b[0m                     )\n\u001b[1;32m   6701\u001b[0m \u001b[0;34m\u001b[0m\u001b[0m\n",
      "\u001b[0;32m~/anaconda3/lib/python3.7/site-packages/pandas/core/internals/managers.py\u001b[0m in \u001b[0;36mreplace_list\u001b[0;34m(self, src_list, dest_list, inplace, regex)\u001b[0m\n\u001b[1;32m    611\u001b[0m             \u001b[0;32mreturn\u001b[0m \u001b[0m_compare_or_regex_search\u001b[0m\u001b[0;34m(\u001b[0m\u001b[0mvalues\u001b[0m\u001b[0;34m,\u001b[0m \u001b[0ms\u001b[0m\u001b[0;34m,\u001b[0m \u001b[0mregex\u001b[0m\u001b[0;34m)\u001b[0m\u001b[0;34m\u001b[0m\u001b[0;34m\u001b[0m\u001b[0m\n\u001b[1;32m    612\u001b[0m \u001b[0;34m\u001b[0m\u001b[0m\n\u001b[0;32m--> 613\u001b[0;31m         \u001b[0mmasks\u001b[0m \u001b[0;34m=\u001b[0m \u001b[0;34m[\u001b[0m\u001b[0mcomp\u001b[0m\u001b[0;34m(\u001b[0m\u001b[0ms\u001b[0m\u001b[0;34m,\u001b[0m \u001b[0mregex\u001b[0m\u001b[0;34m)\u001b[0m \u001b[0;32mfor\u001b[0m \u001b[0mi\u001b[0m\u001b[0;34m,\u001b[0m \u001b[0ms\u001b[0m \u001b[0;32min\u001b[0m \u001b[0menumerate\u001b[0m\u001b[0;34m(\u001b[0m\u001b[0msrc_list\u001b[0m\u001b[0;34m)\u001b[0m\u001b[0;34m]\u001b[0m\u001b[0;34m\u001b[0m\u001b[0;34m\u001b[0m\u001b[0m\n\u001b[0m\u001b[1;32m    614\u001b[0m \u001b[0;34m\u001b[0m\u001b[0m\n\u001b[1;32m    615\u001b[0m         \u001b[0mresult_blocks\u001b[0m \u001b[0;34m=\u001b[0m \u001b[0;34m[\u001b[0m\u001b[0;34m]\u001b[0m\u001b[0;34m\u001b[0m\u001b[0;34m\u001b[0m\u001b[0m\n",
      "\u001b[0;32m~/anaconda3/lib/python3.7/site-packages/pandas/core/internals/managers.py\u001b[0m in \u001b[0;36m<listcomp>\u001b[0;34m(.0)\u001b[0m\n\u001b[1;32m    611\u001b[0m             \u001b[0;32mreturn\u001b[0m \u001b[0m_compare_or_regex_search\u001b[0m\u001b[0;34m(\u001b[0m\u001b[0mvalues\u001b[0m\u001b[0;34m,\u001b[0m \u001b[0ms\u001b[0m\u001b[0;34m,\u001b[0m \u001b[0mregex\u001b[0m\u001b[0;34m)\u001b[0m\u001b[0;34m\u001b[0m\u001b[0;34m\u001b[0m\u001b[0m\n\u001b[1;32m    612\u001b[0m \u001b[0;34m\u001b[0m\u001b[0m\n\u001b[0;32m--> 613\u001b[0;31m         \u001b[0mmasks\u001b[0m \u001b[0;34m=\u001b[0m \u001b[0;34m[\u001b[0m\u001b[0mcomp\u001b[0m\u001b[0;34m(\u001b[0m\u001b[0ms\u001b[0m\u001b[0;34m,\u001b[0m \u001b[0mregex\u001b[0m\u001b[0;34m)\u001b[0m \u001b[0;32mfor\u001b[0m \u001b[0mi\u001b[0m\u001b[0;34m,\u001b[0m \u001b[0ms\u001b[0m \u001b[0;32min\u001b[0m \u001b[0menumerate\u001b[0m\u001b[0;34m(\u001b[0m\u001b[0msrc_list\u001b[0m\u001b[0;34m)\u001b[0m\u001b[0;34m]\u001b[0m\u001b[0;34m\u001b[0m\u001b[0;34m\u001b[0m\u001b[0m\n\u001b[0m\u001b[1;32m    614\u001b[0m \u001b[0;34m\u001b[0m\u001b[0m\n\u001b[1;32m    615\u001b[0m         \u001b[0mresult_blocks\u001b[0m \u001b[0;34m=\u001b[0m \u001b[0;34m[\u001b[0m\u001b[0;34m]\u001b[0m\u001b[0;34m\u001b[0m\u001b[0;34m\u001b[0m\u001b[0m\n",
      "\u001b[0;32m~/anaconda3/lib/python3.7/site-packages/pandas/core/internals/managers.py\u001b[0m in \u001b[0;36mcomp\u001b[0;34m(s, regex)\u001b[0m\n\u001b[1;32m    609\u001b[0m                     \u001b[0mmaybe_convert_objects\u001b[0m\u001b[0;34m(\u001b[0m\u001b[0mvalues\u001b[0m\u001b[0;34m)\u001b[0m\u001b[0;34m,\u001b[0m \u001b[0ms\u001b[0m\u001b[0;34m.\u001b[0m\u001b[0masm8\u001b[0m\u001b[0;34m,\u001b[0m \u001b[0mregex\u001b[0m\u001b[0;34m\u001b[0m\u001b[0;34m\u001b[0m\u001b[0m\n\u001b[1;32m    610\u001b[0m                 )\n\u001b[0;32m--> 611\u001b[0;31m             \u001b[0;32mreturn\u001b[0m \u001b[0m_compare_or_regex_search\u001b[0m\u001b[0;34m(\u001b[0m\u001b[0mvalues\u001b[0m\u001b[0;34m,\u001b[0m \u001b[0ms\u001b[0m\u001b[0;34m,\u001b[0m \u001b[0mregex\u001b[0m\u001b[0;34m)\u001b[0m\u001b[0;34m\u001b[0m\u001b[0;34m\u001b[0m\u001b[0m\n\u001b[0m\u001b[1;32m    612\u001b[0m \u001b[0;34m\u001b[0m\u001b[0m\n\u001b[1;32m    613\u001b[0m         \u001b[0mmasks\u001b[0m \u001b[0;34m=\u001b[0m \u001b[0;34m[\u001b[0m\u001b[0mcomp\u001b[0m\u001b[0;34m(\u001b[0m\u001b[0ms\u001b[0m\u001b[0;34m,\u001b[0m \u001b[0mregex\u001b[0m\u001b[0;34m)\u001b[0m \u001b[0;32mfor\u001b[0m \u001b[0mi\u001b[0m\u001b[0;34m,\u001b[0m \u001b[0ms\u001b[0m \u001b[0;32min\u001b[0m \u001b[0menumerate\u001b[0m\u001b[0;34m(\u001b[0m\u001b[0msrc_list\u001b[0m\u001b[0;34m)\u001b[0m\u001b[0;34m]\u001b[0m\u001b[0;34m\u001b[0m\u001b[0;34m\u001b[0m\u001b[0m\n",
      "\u001b[0;32m~/anaconda3/lib/python3.7/site-packages/pandas/core/internals/managers.py\u001b[0m in \u001b[0;36m_compare_or_regex_search\u001b[0;34m(a, b, regex)\u001b[0m\n\u001b[1;32m   1934\u001b[0m \u001b[0;34m\u001b[0m\u001b[0m\n\u001b[1;32m   1935\u001b[0m         raise TypeError(\n\u001b[0;32m-> 1936\u001b[0;31m             \u001b[0;34mf\"Cannot compare types {repr(type_names[0])} and {repr(type_names[1])}\"\u001b[0m\u001b[0;34m\u001b[0m\u001b[0;34m\u001b[0m\u001b[0m\n\u001b[0m\u001b[1;32m   1937\u001b[0m         )\n\u001b[1;32m   1938\u001b[0m     \u001b[0;32mreturn\u001b[0m \u001b[0mresult\u001b[0m\u001b[0;34m\u001b[0m\u001b[0;34m\u001b[0m\u001b[0m\n",
      "\u001b[0;31mTypeError\u001b[0m: Cannot compare types 'ndarray(dtype=datetime64[ns])' and 'int'"
     ]
    }
   ],
   "source": [
    "#df.replace({'A': {0: 100, 4: 400}})\n",
    "poltava20_4['Hospitalization_Visit_Date'] = pd.to_datetime(poltava20_4['Hospitalization_Visit_Date'])\n",
    "poltava20_test = poltava20_4\n",
    "poltava20_test = poltava20_test.replace({'Hospitalization_Visit_Date': I_HD})"
   ]
  },
  {
   "cell_type": "code",
   "execution_count": 198,
   "metadata": {},
   "outputs": [],
   "source": [
    "for k,v in I_HD.items():\n",
    "    poltava20_test.at[k, 'Hospitalization_Visit_Date'] = v"
   ]
  },
  {
   "cell_type": "code",
   "execution_count": 199,
   "metadata": {},
   "outputs": [],
   "source": [
    "poltava20_test[\"Days_In_Hospital\"] = poltava20_test[\"Discharge_Date\"].sub(poltava20_test[\"Hospitalization_Visit_Date\"], axis = 0)\n",
    "\n",
    "#poltava20_test['Days_In_Hospital'] = poltava20_test[\"Discharge_Date\"].sub(poltava20_test[\"Hospitalization_Visit_Date\"], axis = 0)\n",
    "import numpy as np\n",
    "poltava20_test['Days_In_Hospital'] = poltava20_test['Days_In_Hospital'] / np.timedelta64(1, 'D')\n",
    "poltava20_test['Days_In_Hospital'] = poltava20_test['Days_In_Hospital'] + 1"
   ]
  },
  {
   "cell_type": "code",
   "execution_count": 200,
   "metadata": {},
   "outputs": [],
   "source": [
    "poltava20_test_Long = poltava20_test[poltava20_test['Days_In_Hospital'] > 60]"
   ]
  },
  {
   "cell_type": "code",
   "execution_count": 201,
   "metadata": {},
   "outputs": [
    {
     "name": "stdout",
     "output_type": "stream",
     "text": [
      "(572, 64)\n"
     ]
    }
   ],
   "source": [
    "print(poltava20_test_Long.shape)"
   ]
  },
  {
   "cell_type": "code",
   "execution_count": 202,
   "metadata": {},
   "outputs": [],
   "source": [
    "poltava20_4 = poltava20_test"
   ]
  },
  {
   "cell_type": "code",
   "execution_count": 203,
   "metadata": {},
   "outputs": [],
   "source": [
    "poltava20_4.to_pickle(\"Poltava2020_ehealth.pkl\")"
   ]
  },
  {
   "cell_type": "code",
   "execution_count": 205,
   "metadata": {},
   "outputs": [
    {
     "name": "stdout",
     "output_type": "stream",
     "text": [
      "29775   2008-03-05 00:00:00\n",
      "2852    2020-03-02 00:00:00\n",
      "88      2020-03-02 00:00:00\n",
      "38163   2020-03-02 02:00:00\n",
      "13689   2020-03-03 00:00:00\n",
      "                ...        \n",
      "2393    2020-03-31 00:00:00\n",
      "2875    2020-03-31 00:00:00\n",
      "240     2020-03-31 00:00:00\n",
      "2887    2020-03-31 00:00:00\n",
      "2245    2020-03-31 00:00:00\n",
      "Name: Hospitalization_Visit_Date, Length: 273, dtype: datetime64[ns]\n"
     ]
    }
   ],
   "source": [
    "print(poltava20_4[poltava20_4['Hospitalization_Month'] == 3]['Hospitalization_Visit_Date'])"
   ]
  },
  {
   "cell_type": "code",
   "execution_count": 206,
   "metadata": {},
   "outputs": [
    {
     "name": "stdout",
     "output_type": "stream",
     "text": [
      "(65130, 64)\n"
     ]
    }
   ],
   "source": [
    "print(poltava20_4.shape)"
   ]
  },
  {
   "cell_type": "code",
   "execution_count": 207,
   "metadata": {},
   "outputs": [
    {
     "name": "stdout",
     "output_type": "stream",
     "text": [
      "(64394, 64)\n"
     ]
    }
   ],
   "source": [
    "poltava20_4 = poltava20_4[poltava20_4['Days_In_Hospital'] <= 50]\n",
    "print(poltava20_4.shape)"
   ]
  },
  {
   "cell_type": "code",
   "execution_count": 208,
   "metadata": {},
   "outputs": [],
   "source": [
    "poltava20_4.to_pickle(\"Poltava2020_ehealth_50days.pkl\")"
   ]
  },
  {
   "cell_type": "markdown",
   "metadata": {},
   "source": [
    "# Here I found out that I might have missed a number of Poltava Hospitals"
   ]
  },
  {
   "cell_type": "code",
   "execution_count": 3,
   "metadata": {},
   "outputs": [
    {
     "name": "stderr",
     "output_type": "stream",
     "text": [
      "/Users/ruska/anaconda3/lib/python3.7/site-packages/IPython/core/interactiveshell.py:3063: DtypeWarning: Columns (4,7,13,14,16,26,27,55) have mixed types.Specify dtype option on import or set low_memory=False.\n",
      "  interactivity=interactivity, compiler=compiler, result=result)\n"
     ]
    }
   ],
   "source": [
    "ehealth_1 = pd.read_csv(\"../data/Ehealth_f1.csv\", index_col = None)"
   ]
  },
  {
   "cell_type": "code",
   "execution_count": 5,
   "metadata": {},
   "outputs": [
    {
     "name": "stderr",
     "output_type": "stream",
     "text": [
      "/Users/ruska/anaconda3/lib/python3.7/site-packages/IPython/core/interactiveshell.py:3063: DtypeWarning: Columns (49) have mixed types.Specify dtype option on import or set low_memory=False.\n",
      "  interactivity=interactivity, compiler=compiler, result=result)\n"
     ]
    }
   ],
   "source": [
    "ehealth_2 = pd.read_csv(\"../data/Ehealth_f2.csv\", index_col = None)"
   ]
  },
  {
   "cell_type": "code",
   "execution_count": 6,
   "metadata": {},
   "outputs": [
    {
     "name": "stderr",
     "output_type": "stream",
     "text": [
      "/Users/ruska/anaconda3/lib/python3.7/site-packages/IPython/core/interactiveshell.py:3063: DtypeWarning: Columns (47,48,49,50,51,54) have mixed types.Specify dtype option on import or set low_memory=False.\n",
      "  interactivity=interactivity, compiler=compiler, result=result)\n"
     ]
    }
   ],
   "source": [
    "ehealth_3 = pd.read_csv(\"../data/Ehealth_f3.csv\", index_col = None)"
   ]
  },
  {
   "cell_type": "code",
   "execution_count": 7,
   "metadata": {},
   "outputs": [],
   "source": [
    "import pickle\n",
    "with open('Poltava_Hospital_ID.pkl', 'rb') as f:\n",
    "    PHospital_ID = pickle.load(f)"
   ]
  },
  {
   "cell_type": "code",
   "execution_count": 8,
   "metadata": {},
   "outputs": [
    {
     "data": {
      "text/plain": [
       "[1999106,\n",
       " 1999514,\n",
       " 1999678,\n",
       " 1999721,\n",
       " 1999690,\n",
       " 1999402,\n",
       " 2008968,\n",
       " 1999218,\n",
       " 1204294,\n",
       " 1999342,\n",
       " 1999613,\n",
       " 1984151,\n",
       " 1111598,\n",
       " 1999661,\n",
       " 1999632,\n",
       " 1999224,\n",
       " 5385571,\n",
       " 1204147,\n",
       " 1999537,\n",
       " 1999307,\n",
       " 1999359,\n",
       " 1999543,\n",
       " 1999388,\n",
       " 1111581,\n",
       " 1999520,\n",
       " 1999425,\n",
       " 1999201,\n",
       " 1999299,\n",
       " 1999483,\n",
       " 1999655,\n",
       " 1204348,\n",
       " 1999336,\n",
       " 1999626,\n",
       " 1999460,\n",
       " 1999448,\n",
       " 1999477,\n",
       " 1999276,\n",
       " 41318879,\n",
       " 1999394,\n",
       " 1999494,\n",
       " 26435008,\n",
       " 1999265,\n",
       " 1999253,\n",
       " 13961403,\n",
       " 1999320,\n",
       " 1204377,\n",
       " 1999112,\n",
       " 1999684]"
      ]
     },
     "execution_count": 8,
     "metadata": {},
     "output_type": "execute_result"
    }
   ],
   "source": [
    "PHospital_ID"
   ]
  },
  {
   "cell_type": "code",
   "execution_count": 12,
   "metadata": {},
   "outputs": [
    {
     "data": {
      "text/plain": [
       "0         22403230\n",
       "1          1993730\n",
       "2         38802040\n",
       "3          1992481\n",
       "4          1992481\n",
       "            ...   \n",
       "768957    26238302\n",
       "768958     1985995\n",
       "768959     2006805\n",
       "768960     2005042\n",
       "768961    25539007\n",
       "Name: Hospital_ID, Length: 768962, dtype: int64"
      ]
     },
     "execution_count": 12,
     "metadata": {},
     "output_type": "execute_result"
    }
   ],
   "source": [
    "ehealth_1['Hospital_ID']"
   ]
  },
  {
   "cell_type": "code",
   "execution_count": 20,
   "metadata": {},
   "outputs": [],
   "source": [
    "Poltava_Missing_Hospital_ID = pd.read_excel(\"../mydata/Poltava_Hospitals.xlsx\", sheet_name = \"Missing_Hospitals\", index_col = None)['ЄДРПОУ'].values.tolist()"
   ]
  },
  {
   "cell_type": "code",
   "execution_count": 21,
   "metadata": {},
   "outputs": [
    {
     "data": {
      "text/plain": [
       "[1204176,\n",
       " 1204207,\n",
       " 1204360,\n",
       " 1999075,\n",
       " 1999098,\n",
       " 1999141,\n",
       " 1999187,\n",
       " 1999313,\n",
       " 1999559,\n",
       " 1999603,\n",
       " 1999709,\n",
       " 2002658,\n",
       " 2008193,\n",
       " 2008218,\n",
       " 2008951,\n",
       " 4543507,\n",
       " 8733819,\n",
       " 8733966,\n",
       " 13962367,\n",
       " 20000226,\n",
       " 25167652,\n",
       " 26436278,\n",
       " 31248968,\n",
       " 38396501,\n",
       " 38487180,\n",
       " 42378400]"
      ]
     },
     "execution_count": 21,
     "metadata": {},
     "output_type": "execute_result"
    }
   ],
   "source": [
    "Poltava_Missing_Hospital_ID\n"
   ]
  },
  {
   "cell_type": "code",
   "execution_count": 22,
   "metadata": {},
   "outputs": [
    {
     "name": "stdout",
     "output_type": "stream",
     "text": [
      "(3175, 56)\n",
      "(3430, 56)\n",
      "(3208, 56)\n"
     ]
    },
    {
     "ename": "NameError",
     "evalue": "name 'poltava_ehealth_misssing_3' is not defined",
     "output_type": "error",
     "traceback": [
      "\u001b[0;31m---------------------------------------------------------------------------\u001b[0m",
      "\u001b[0;31mNameError\u001b[0m                                 Traceback (most recent call last)",
      "\u001b[0;32m<ipython-input-22-efe0be26c6b7>\u001b[0m in \u001b[0;36m<module>\u001b[0;34m\u001b[0m\n\u001b[1;32m     10\u001b[0m \u001b[0mprint\u001b[0m\u001b[0;34m(\u001b[0m\u001b[0mpoltava_ehealth_missing_3\u001b[0m\u001b[0;34m.\u001b[0m\u001b[0mshape\u001b[0m\u001b[0;34m)\u001b[0m\u001b[0;34m\u001b[0m\u001b[0;34m\u001b[0m\u001b[0m\n\u001b[1;32m     11\u001b[0m \u001b[0;34m\u001b[0m\u001b[0m\n\u001b[0;32m---> 12\u001b[0;31m \u001b[0mpoltava20_4_missing\u001b[0m \u001b[0;34m=\u001b[0m \u001b[0mpd\u001b[0m\u001b[0;34m.\u001b[0m\u001b[0mconcat\u001b[0m\u001b[0;34m(\u001b[0m\u001b[0;34m[\u001b[0m\u001b[0mpoltava_ehealth_missing_1\u001b[0m\u001b[0;34m,\u001b[0m \u001b[0mpoltava_ehealth_missing_2\u001b[0m\u001b[0;34m,\u001b[0m \u001b[0mpoltava_ehealth_misssing_3\u001b[0m\u001b[0;34m]\u001b[0m\u001b[0;34m)\u001b[0m\u001b[0;34m\u001b[0m\u001b[0;34m\u001b[0m\u001b[0m\n\u001b[0m\u001b[1;32m     13\u001b[0m \u001b[0mprint\u001b[0m\u001b[0;34m(\u001b[0m\u001b[0mpoltava20_4_missing\u001b[0m\u001b[0;34m.\u001b[0m\u001b[0mshape\u001b[0m\u001b[0;34m)\u001b[0m\u001b[0;34m\u001b[0m\u001b[0;34m\u001b[0m\u001b[0m\n",
      "\u001b[0;31mNameError\u001b[0m: name 'poltava_ehealth_misssing_3' is not defined"
     ]
    }
   ],
   "source": [
    "poltava_ehealth_missing_1 = ehealth_1[ehealth_1['Hospital_ID'].isin(Poltava_Missing_Hospital_ID)]\n",
    "print(poltava_ehealth_missing_1.shape)\n",
    "\n",
    "\n",
    "poltava_ehealth_missing_2 = ehealth_2[ehealth_2['Hospital_ID'].isin(Poltava_Missing_Hospital_ID)]\n",
    "print(poltava_ehealth_missing_2.shape)\n",
    "\n",
    "\n",
    "poltava_ehealth_missing_3 = ehealth_3[ehealth_3['Hospital_ID'].isin(Poltava_Missing_Hospital_ID)]\n",
    "print(poltava_ehealth_missing_3.shape)\n",
    "\n"
   ]
  },
  {
   "cell_type": "code",
   "execution_count": 23,
   "metadata": {},
   "outputs": [
    {
     "name": "stdout",
     "output_type": "stream",
     "text": [
      "(9813, 56)\n"
     ]
    }
   ],
   "source": [
    "poltava20_4_missing = pd.concat([poltava_ehealth_missing_1, poltava_ehealth_missing_2, poltava_ehealth_missing_3])\n",
    "print(poltava20_4_missing.shape)\n"
   ]
  },
  {
   "cell_type": "code",
   "execution_count": 25,
   "metadata": {},
   "outputs": [
    {
     "name": "stdout",
     "output_type": "stream",
     "text": [
      "[ 1999075  1204360  4543507  1999559  2002658  2008951 13962367  1999141\n",
      "  1999709]\n"
     ]
    }
   ],
   "source": [
    "print(poltava20_4_missing['Hospital_ID'].unique())"
   ]
  },
  {
   "cell_type": "code",
   "execution_count": null,
   "metadata": {},
   "outputs": [],
   "source": [
    "1999075 : OBLASNYI ZAKLAD Z NADANNIA PSYKHIATRYCHNOI DOPOMOHY POLTAVSKOI OBLASNOI RADY\n",
    "1204360: POLTAVSKYI OBLASNYI KLINICHNYI KARDIOLOHICHNYI DYSPANSER\n",
    "4543507: KREMENCHUTSKYI OBLASNYI KLINICHNYI SHPYTAL DLIA VETERANIV VIINY POLTAVSKOI OBLASNOI RADY\n",
    "1999559: KREMENCHUTSKYI OBLASNYI ONKOLOHICHNYI DYSPANSER POLTAVSKOI OBLASNOI RADY\n",
    "2002658: KOMUNALNE NEKOMERTSIINE PIDPRYIEMSTVO SAKHNOVSHCHYNSKA TSENTRALNA RAIONNA LIKARNIA SAKHNOVSHCHYNSKOI RAIONNOI RADY KHARKIVSKOI OBLASTI\n",
    "2008951: POLTAVSKYI OBLASNYI KLINICHNYI ONKOLOHICHNYI DYSPANSER POLTAVSKOI OBLASNOI RADY\n",
    "13962367: LUBENSKYI OBLASNYI HOSPITAL DLIA VETERANIV VIINY POLTAVSKOI OBLASNOI RADY\n",
    "1999141: KOMUNALNYI ZAKLAD POLTAVSKYI OBLASNYI KLINICHNYI HOSPITAL DLIA VETERANIV VIINY POLTAVSKOI OBLASNOI RADY\n",
    "1999709: POLTAVSKYI OBLASNYI KLINICHNYI PROTYTUBERKULOZNYI DYSPANSER POLTAVSKOI OBLASNOI RADY"
   ]
  },
  {
   "cell_type": "code",
   "execution_count": 26,
   "metadata": {},
   "outputs": [
    {
     "name": "stdout",
     "output_type": "stream",
     "text": [
      "Empty DataFrame\n",
      "Columns: [Hospital_ID, Reporting_Month, Data_Source, Record_ID, Type_of_Referral, Finance_Program, Referral_ID, Position_of_Doctor_Who_Gave_Referral, ID_of_Paper_Referral, System_Input_Date, Hospitalization_Visit_Date, Discharge_Date, Stationary/Ambulatory, Episode_ID, Episode_Type, Medical_Record_Status, Type_of_Care, Urgency, Main_Diagnosis_Code, Main_Diagnosis, Chronical_Illness, Additiona_Diagnosis_Codes, Assitional_Diagnosis, Medical_Procedures_Codes, Procedures, Comment_to_Procedures, Doctor, Doctor_Position, Diagnostic_Report_Date, Diagnostic_Report_ID, Medical_Services_Of_Diagnostic_Report_Codes, Medical_Services_of_Diagnostic_Report, Doctor_Position_of_Diagnostic_Report, Doctor_of_Diagnostic_Report, Date_of_Procedure, Procedure_ID, Services_of_Procedures_Codes, Services_of_Procedures, Doctor_Position_Procedures, Doctor_Procedures, Number_of_Diagnostic_Reports, Number_of_Procedures, Weight_when_Hospitalized, Patient_Age_Days, Patient_Age_Years, Patient_Gender, Package_Id, Procedure_ID.1, Service_Name, Compliance_Comment, ADSG, UDSG, Reason_of_Visit, Result_of_Care, Errors_in_Grouping, Patient_ID]\n",
      "Index: []\n",
      "\n",
      "[0 rows x 56 columns]\n"
     ]
    }
   ],
   "source": [
    "print(ehealth_1[ehealth_1['Hospital_ID'].isin([1999520])])\n"
   ]
  },
  {
   "cell_type": "code",
   "execution_count": null,
   "metadata": {},
   "outputs": [],
   "source": []
  }
 ],
 "metadata": {
  "kernelspec": {
   "display_name": "Python 3",
   "language": "python",
   "name": "python3"
  },
  "language_info": {
   "codemirror_mode": {
    "name": "ipython",
    "version": 3
   },
   "file_extension": ".py",
   "mimetype": "text/x-python",
   "name": "python",
   "nbconvert_exporter": "python",
   "pygments_lexer": "ipython3",
   "version": "3.7.6"
  }
 },
 "nbformat": 4,
 "nbformat_minor": 4
}
